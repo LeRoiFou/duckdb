{
 "cells": [
  {
   "cell_type": "markdown",
   "metadata": {},
   "source": [
    "[Importation d'un fichier .csv](https://duckdb.org/docs/archive/0.9.2/data/csv/overview)\n",
    "\n",
    "Date : 02/01/2024"
   ]
  },
  {
   "cell_type": "code",
   "execution_count": 2,
   "metadata": {},
   "outputs": [],
   "source": [
    "import duckdb"
   ]
  },
  {
   "cell_type": "code",
   "execution_count": 31,
   "metadata": {},
   "outputs": [],
   "source": [
    "# Fichier récupéré\n",
    "my_file = 'data/01_Clients.csv'"
   ]
  },
  {
   "cell_type": "code",
   "execution_count": 32,
   "metadata": {},
   "outputs": [],
   "source": [
    "# Connection à une BD virtuelle\n",
    "conn = duckdb.connect()"
   ]
  },
  {
   "cell_type": "code",
   "execution_count": 33,
   "metadata": {},
   "outputs": [
    {
     "ename": "InvalidInputException",
     "evalue": "Invalid Input Error: Error in file \"data/01_Clients.csv\" at line 0: Invalid unicode (byte sequence mismatch) detected in CSV file. Parser options:\n  file=data/01_Clients.csv\n  delimiter=',' (auto detected)\n  quote='\"' (auto detected)\n  escape='",
     "output_type": "error",
     "traceback": [
      "\u001b[1;31m---------------------------------------------------------------------------\u001b[0m",
      "\u001b[1;31mInvalidInputException\u001b[0m                     Traceback (most recent call last)",
      "Cell \u001b[1;32mIn[33], line 2\u001b[0m\n\u001b[0;32m      1\u001b[0m \u001b[38;5;66;03m# 1ère méthode de récupération du fichier .csv + requête SQL + export en DF pandas\u001b[39;00m\n\u001b[1;32m----> 2\u001b[0m df_pandas \u001b[38;5;241m=\u001b[39m \u001b[43mconn\u001b[49m\u001b[38;5;241;43m.\u001b[39;49m\u001b[43msql\u001b[49m\u001b[43m(\u001b[49m\u001b[38;5;124;43mf\u001b[39;49m\u001b[38;5;124;43m\"\"\"\u001b[39;49m\u001b[38;5;124;43mSELECT * FROM \u001b[39;49m\u001b[38;5;124;43m'\u001b[39;49m\u001b[38;5;132;43;01m{\u001b[39;49;00m\u001b[43mmy_file\u001b[49m\u001b[38;5;132;43;01m}\u001b[39;49;00m\u001b[38;5;124;43m'\u001b[39;49m\u001b[38;5;124;43m LIMIT 3\u001b[39;49m\u001b[38;5;124;43m\"\"\"\u001b[39;49m\u001b[43m)\u001b[49m\u001b[38;5;241m.\u001b[39mdf()\n\u001b[0;32m      3\u001b[0m df_pandas\n",
      "\u001b[1;31mInvalidInputException\u001b[0m: Invalid Input Error: Error in file \"data/01_Clients.csv\" at line 0: Invalid unicode (byte sequence mismatch) detected in CSV file. Parser options:\n  file=data/01_Clients.csv\n  delimiter=',' (auto detected)\n  quote='\"' (auto detected)\n  escape='"
     ]
    }
   ],
   "source": [
    "# 1ère méthode de récupération du fichier .csv + requête SQL + export en DF pandas\n",
    "df_pandas = conn.sql(f\"\"\"SELECT * FROM '{my_file}' LIMIT 3\"\"\").df()\n",
    "df_pandas"
   ]
  },
  {
   "cell_type": "code",
   "execution_count": null,
   "metadata": {},
   "outputs": [
    {
     "data": {
      "text/html": [
       "<div>\n",
       "<style scoped>\n",
       "    .dataframe tbody tr th:only-of-type {\n",
       "        vertical-align: middle;\n",
       "    }\n",
       "\n",
       "    .dataframe tbody tr th {\n",
       "        vertical-align: top;\n",
       "    }\n",
       "\n",
       "    .dataframe thead th {\n",
       "        text-align: right;\n",
       "    }\n",
       "</style>\n",
       "<table border=\"1\" class=\"dataframe\">\n",
       "  <thead>\n",
       "    <tr style=\"text-align: right;\">\n",
       "      <th></th>\n",
       "      <th>Order ID</th>\n",
       "      <th>Product</th>\n",
       "      <th>Quantity Ordered</th>\n",
       "      <th>Price</th>\n",
       "      <th>Order Date</th>\n",
       "      <th>Time</th>\n",
       "      <th>Purchase Address</th>\n",
       "      <th>City</th>\n",
       "      <th>Product Type</th>\n",
       "    </tr>\n",
       "  </thead>\n",
       "  <tbody>\n",
       "    <tr>\n",
       "      <th>0</th>\n",
       "      <td>176558</td>\n",
       "      <td>USB-C Charging Cable</td>\n",
       "      <td>2</td>\n",
       "      <td>11.95</td>\n",
       "      <td>2019-04-19</td>\n",
       "      <td>8:46 AM</td>\n",
       "      <td>917 1st St, Dallas, TX 75001</td>\n",
       "      <td>Dallas</td>\n",
       "      <td>Cable</td>\n",
       "    </tr>\n",
       "    <tr>\n",
       "      <th>1</th>\n",
       "      <td>176559</td>\n",
       "      <td>Bose SoundSport Headphones</td>\n",
       "      <td>1</td>\n",
       "      <td>99.99</td>\n",
       "      <td>2019-04-07</td>\n",
       "      <td>10:30 PM</td>\n",
       "      <td>682 Chestnut St, Boston, MA 02215</td>\n",
       "      <td>Boston</td>\n",
       "      <td>Headphones</td>\n",
       "    </tr>\n",
       "    <tr>\n",
       "      <th>2</th>\n",
       "      <td>176560</td>\n",
       "      <td>Google Phone</td>\n",
       "      <td>1</td>\n",
       "      <td>600</td>\n",
       "      <td>2019-04-12</td>\n",
       "      <td>2:38 PM</td>\n",
       "      <td>669 Spruce St, Los Angeles, CA 90001</td>\n",
       "      <td>Los Angeles</td>\n",
       "      <td>Phone</td>\n",
       "    </tr>\n",
       "  </tbody>\n",
       "</table>\n",
       "</div>"
      ],
      "text/plain": [
       "   Order ID                     Product  Quantity Ordered  Price Order Date  \\\n",
       "0    176558        USB-C Charging Cable                 2  11.95 2019-04-19   \n",
       "1    176559  Bose SoundSport Headphones                 1  99.99 2019-04-07   \n",
       "2    176560                Google Phone                 1    600 2019-04-12   \n",
       "\n",
       "       Time                      Purchase Address          City Product Type  \n",
       "0   8:46 AM          917 1st St, Dallas, TX 75001        Dallas        Cable  \n",
       "1  10:30 PM     682 Chestnut St, Boston, MA 02215        Boston   Headphones  \n",
       "2   2:38 PM  669 Spruce St, Los Angeles, CA 90001   Los Angeles        Phone  "
      ]
     },
     "execution_count": 30,
     "metadata": {},
     "output_type": "execute_result"
    }
   ],
   "source": [
    "# 2ème méthode de récupération du fichier .csv + requête SQL + export en DF pandas\n",
    "df_pandas = conn.sql(f\"\"\"\n",
    "    SELECT * FROM read_csv_auto ('{my_file}') LIMIT 3\n",
    "    \"\"\").df()\n",
    "df_pandas"
   ]
  },
  {
   "cell_type": "code",
   "execution_count": 43,
   "metadata": {},
   "outputs": [
    {
     "ename": "InvalidInputException",
     "evalue": "Invalid Input Error: Error in file \"data/01_Clients.csv\" at line 82 in column \"\"Nom\"\": Invalid unicode (byte sequence mismatch) detected in CSV file. Parser options:\n  file=data/01_Clients.csv\n  delimiter=';'\n  quote='\"' (default)\n  escape='\"' (default)\n  header=1\n  sample_size=20480\n  ignore_errors=0\n  all_varchar=0",
     "output_type": "error",
     "traceback": [
      "\u001b[1;31m---------------------------------------------------------------------------\u001b[0m",
      "\u001b[1;31mInvalidInputException\u001b[0m                     Traceback (most recent call last)",
      "Cell \u001b[1;32mIn[43], line 3\u001b[0m\n\u001b[0;32m      1\u001b[0m \u001b[38;5;66;03m# 3ème méthode si les méthodes ci-avant ne permettent pas de récupérer le \u001b[39;00m\n\u001b[0;32m      2\u001b[0m \u001b[38;5;66;03m# fichier .csv\u001b[39;00m\n\u001b[1;32m----> 3\u001b[0m \u001b[43mconn\u001b[49m\u001b[38;5;241;43m.\u001b[39;49m\u001b[43msql\u001b[49m\u001b[43m(\u001b[49m\u001b[38;5;124;43m\"\"\"\u001b[39;49m\n\u001b[0;32m      4\u001b[0m \u001b[38;5;124;43m    SELECT * FROM read_csv(\u001b[39;49m\u001b[38;5;124;43m'\u001b[39;49m\u001b[38;5;124;43mdata/01_Clients.csv\u001b[39;49m\u001b[38;5;124;43m'\u001b[39;49m\u001b[38;5;124;43m, delim=\u001b[39;49m\u001b[38;5;124;43m'\u001b[39;49m\u001b[38;5;124;43m;\u001b[39;49m\u001b[38;5;124;43m'\u001b[39;49m\u001b[38;5;124;43m, header=True,\u001b[39;49m\n\u001b[0;32m      5\u001b[0m \u001b[38;5;124;43m    columns=\u001b[39;49m\u001b[38;5;124;43m{\u001b[39;49m\u001b[38;5;124;43m'\u001b[39;49m\u001b[38;5;124;43mclient ID\u001b[39;49m\u001b[38;5;124;43m'\u001b[39;49m\u001b[38;5;124;43m: \u001b[39;49m\u001b[38;5;124;43m'\u001b[39;49m\u001b[38;5;124;43mVARCHAR\u001b[39;49m\u001b[38;5;124;43m'\u001b[39;49m\u001b[38;5;124;43m, \u001b[39;49m\u001b[38;5;124;43m'\u001b[39;49m\u001b[38;5;124;43mSegment\u001b[39;49m\u001b[38;5;124;43m'\u001b[39;49m\u001b[38;5;124;43m: \u001b[39;49m\u001b[38;5;124;43m'\u001b[39;49m\u001b[38;5;124;43mVARCHAR\u001b[39;49m\u001b[38;5;124;43m'\u001b[39;49m\u001b[38;5;124;43m, \u001b[39;49m\n\u001b[0;32m      6\u001b[0m \u001b[38;5;124;43m            \u001b[39;49m\u001b[38;5;124;43m'\u001b[39;49m\u001b[38;5;124;43mPrénom\u001b[39;49m\u001b[38;5;124;43m'\u001b[39;49m\u001b[38;5;124;43m: \u001b[39;49m\u001b[38;5;124;43m'\u001b[39;49m\u001b[38;5;124;43mVARCHAR\u001b[39;49m\u001b[38;5;124;43m'\u001b[39;49m\u001b[38;5;124;43m, \u001b[39;49m\u001b[38;5;124;43m'\u001b[39;49m\u001b[38;5;124;43mNom\u001b[39;49m\u001b[38;5;124;43m'\u001b[39;49m\u001b[38;5;124;43m: \u001b[39;49m\u001b[38;5;124;43m'\u001b[39;49m\u001b[38;5;124;43mVARCHAR\u001b[39;49m\u001b[38;5;124;43m'\u001b[39;49m\u001b[38;5;124;43m})     \u001b[39;49m\n\u001b[0;32m      7\u001b[0m \u001b[38;5;124;43m         \u001b[39;49m\u001b[38;5;124;43m\"\"\"\u001b[39;49m\u001b[43m)\u001b[49m\u001b[38;5;241;43m.\u001b[39;49m\u001b[43mdf\u001b[49m\u001b[43m(\u001b[49m\u001b[43m)\u001b[49m\n",
      "\u001b[1;31mInvalidInputException\u001b[0m: Invalid Input Error: Error in file \"data/01_Clients.csv\" at line 82 in column \"\"Nom\"\": Invalid unicode (byte sequence mismatch) detected in CSV file. Parser options:\n  file=data/01_Clients.csv\n  delimiter=';'\n  quote='\"' (default)\n  escape='\"' (default)\n  header=1\n  sample_size=20480\n  ignore_errors=0\n  all_varchar=0"
     ]
    }
   ],
   "source": [
    "# 3ème méthode si les méthodes ci-avant ne permettent pas de récupérer le \n",
    "# fichier .csv\n",
    "# Problème : le fichier comporte en ligne 82 dans la colonne 'nom', le caractère\n",
    "# \"ö\" et qui n'est pas reconnu en encodage utf-8 et aucune solution n'est \n",
    "# présente pour la librairie duckdb sur ce point...\n",
    "# Autre solution : importer le fichier .csv dans une BD...\n",
    "conn.sql(\"\"\"\n",
    "    SELECT * FROM read_csv('data/01_Clients.csv', delim=';', header=True,\n",
    "    columns={'client ID': 'VARCHAR', 'Segment': 'VARCHAR', \n",
    "            'Prénom': 'VARCHAR', 'Nom': 'VARCHAR'})     \n",
    "         \"\"\").df()"
   ]
  }
 ],
 "metadata": {
  "kernelspec": {
   "display_name": ".venv",
   "language": "python",
   "name": "python3"
  },
  "language_info": {
   "codemirror_mode": {
    "name": "ipython",
    "version": 3
   },
   "file_extension": ".py",
   "mimetype": "text/x-python",
   "name": "python",
   "nbconvert_exporter": "python",
   "pygments_lexer": "ipython3",
   "version": "3.9.2"
  }
 },
 "nbformat": 4,
 "nbformat_minor": 2
}
