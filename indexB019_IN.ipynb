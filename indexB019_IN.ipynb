{
 "cells": [
  {
   "cell_type": "markdown",
   "metadata": {},
   "source": [
    "[SQL IN Operator](https://www.w3schools.com/sql/sql_in.asp)\n",
    "\n",
    "<b> Syntaxe : </b><br>\n",
    "SELECT column_name(s) FROM table_name <br>\n",
    "WHERE column_name IN (value1, value2, ...);\n",
    "\n",
    "<b> Objet de la requête : </b><br>\n",
    "L'opérateur IN permet de spécifier plusieurs valeurs dans une clause WHERE.<br>\n",
    "L'opérateur IN est une abréviation pour plusieurs conditions OR.\n",
    "\n",
    "Date : 25-01-24"
   ]
  },
  {
   "cell_type": "markdown",
   "metadata": {},
   "source": [
    "Requête SQL : affichage du nom, prénom et ville avec une ville filtrée\n",
    "à 'Bailey' ou 'Bastrop' ou 'Wichita' par trie croissant des noms et \n",
    "limité à 10 lignes"
   ]
  },
  {
   "cell_type": "code",
   "execution_count": 30,
   "metadata": {},
   "outputs": [
    {
     "data": {
      "text/html": [
       "<span style=\"None\">Running query in &#x27;duckdb:///:default:&#x27;</span>"
      ],
      "text/plain": [
       "Running query in 'duckdb:///:default:'"
      ]
     },
     "metadata": {},
     "output_type": "display_data"
    }
   ],
   "source": [
    "%%sql\n",
    "my_df <<\n",
    "SELECT \"Last Name\" AS \"Nom\", \"First Name\" AS \"Prénom\", \"County\" AS \"Ville\"\n",
    "FROM 'data/prisoners.csv'\n",
    "WHERE \"County\" IN ('Bailey', 'Bastrop', 'Wichita')\n",
    "ORDER BY \"Last Name\"\n",
    "LIMIT 10 ;"
   ]
  },
  {
   "cell_type": "code",
   "execution_count": 31,
   "metadata": {},
   "outputs": [
    {
     "data": {
      "text/html": [
       "<div>\n",
       "<style scoped>\n",
       "    .dataframe tbody tr th:only-of-type {\n",
       "        vertical-align: middle;\n",
       "    }\n",
       "\n",
       "    .dataframe tbody tr th {\n",
       "        vertical-align: top;\n",
       "    }\n",
       "\n",
       "    .dataframe thead th {\n",
       "        text-align: right;\n",
       "    }\n",
       "</style>\n",
       "<table border=\"1\" class=\"dataframe\">\n",
       "  <thead>\n",
       "    <tr style=\"text-align: right;\">\n",
       "      <th></th>\n",
       "      <th>Nom</th>\n",
       "      <th>Prénom</th>\n",
       "      <th>Ville</th>\n",
       "    </tr>\n",
       "  </thead>\n",
       "  <tbody>\n",
       "    <tr>\n",
       "      <th>0</th>\n",
       "      <td>Carter</td>\n",
       "      <td>Robert</td>\n",
       "      <td>Bastrop</td>\n",
       "    </tr>\n",
       "    <tr>\n",
       "      <th>1</th>\n",
       "      <td>Collier</td>\n",
       "      <td>James</td>\n",
       "      <td>Wichita</td>\n",
       "    </tr>\n",
       "    <tr>\n",
       "      <th>2</th>\n",
       "      <td>Dillingham</td>\n",
       "      <td>Jeffery</td>\n",
       "      <td>Wichita</td>\n",
       "    </tr>\n",
       "    <tr>\n",
       "      <th>3</th>\n",
       "      <td>Reyes</td>\n",
       "      <td>Gilberto</td>\n",
       "      <td>Bailey</td>\n",
       "    </tr>\n",
       "  </tbody>\n",
       "</table>\n",
       "</div>"
      ],
      "text/plain": [
       "          Nom    Prénom    Ville\n",
       "0      Carter    Robert  Bastrop\n",
       "1     Collier     James  Wichita\n",
       "2  Dillingham   Jeffery  Wichita\n",
       "3       Reyes  Gilberto   Bailey"
      ]
     },
     "execution_count": 31,
     "metadata": {},
     "output_type": "execute_result"
    }
   ],
   "source": [
    "my_df"
   ]
  }
 ],
 "metadata": {
  "kernelspec": {
   "display_name": ".venv",
   "language": "python",
   "name": "python3"
  },
  "language_info": {
   "codemirror_mode": {
    "name": "ipython",
    "version": 3
   },
   "file_extension": ".py",
   "mimetype": "text/x-python",
   "name": "python",
   "nbconvert_exporter": "python",
   "pygments_lexer": "ipython3",
   "version": "3.9.2"
  }
 },
 "nbformat": 4,
 "nbformat_minor": 2
}
