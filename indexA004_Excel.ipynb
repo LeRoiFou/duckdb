{
 "cells": [
  {
   "cell_type": "markdown",
   "metadata": {},
   "source": [
    "# Fichiers Excel\n",
    "\n",
    "[Extension SPATIAL](https://duckdb.org/docs/guides/file_formats/excel_import.html)\n",
    "\n",
    "[Extension SHEETREADER (non testé)](https://community-extensions.duckdb.org/extensions/sheetreader.html)<br>\n",
    "Cette extension serait plus efficace que l'extension SPATIAL testé ci-après sur un fichier Excel\n",
    "\n",
    "Date : 12/11/2024"
   ]
  },
  {
   "cell_type": "code",
   "execution_count": 2,
   "metadata": {},
   "outputs": [],
   "source": [
    "import duckdb"
   ]
  },
  {
   "cell_type": "code",
   "execution_count": 3,
   "metadata": {},
   "outputs": [],
   "source": [
    "# Connection à la librairie duckdb\n",
    "conn = duckdb.connect()"
   ]
  },
  {
   "cell_type": "code",
   "execution_count": null,
   "metadata": {},
   "outputs": [
    {
     "data": {
      "text/plain": [
       "<duckdb.duckdb.DuckDBPyConnection at 0x1d51e203030>"
      ]
     },
     "execution_count": 4,
     "metadata": {},
     "output_type": "execute_result"
    }
   ],
   "source": [
    "# Installation de l'extension spatiale\n",
    "# conn.execute(\"INSTALL spatial\")"
   ]
  },
  {
   "cell_type": "code",
   "execution_count": 5,
   "metadata": {},
   "outputs": [
    {
     "data": {
      "text/plain": [
       "<duckdb.duckdb.DuckDBPyConnection at 0x1d51e203030>"
      ]
     },
     "execution_count": 5,
     "metadata": {},
     "output_type": "execute_result"
    }
   ],
   "source": [
    "# Chargement de l'extension spatiale\n",
    "conn.execute(\"LOAD SPATIAL\")"
   ]
  },
  {
   "cell_type": "code",
   "execution_count": 6,
   "metadata": {},
   "outputs": [
    {
     "data": {
      "text/html": [
       "<div>\n",
       "<style scoped>\n",
       "    .dataframe tbody tr th:only-of-type {\n",
       "        vertical-align: middle;\n",
       "    }\n",
       "\n",
       "    .dataframe tbody tr th {\n",
       "        vertical-align: top;\n",
       "    }\n",
       "\n",
       "    .dataframe thead th {\n",
       "        text-align: right;\n",
       "    }\n",
       "</style>\n",
       "<table border=\"1\" class=\"dataframe\">\n",
       "  <thead>\n",
       "    <tr style=\"text-align: right;\">\n",
       "      <th></th>\n",
       "      <th>Cde</th>\n",
       "      <th>Dt</th>\n",
       "      <th>Livraison</th>\n",
       "      <th>Client ID</th>\n",
       "      <th>Produit ID</th>\n",
       "      <th>Qty</th>\n",
       "      <th>Rabais</th>\n",
       "      <th>Mode Livraison</th>\n",
       "    </tr>\n",
       "  </thead>\n",
       "  <tbody>\n",
       "    <tr>\n",
       "      <th>0</th>\n",
       "      <td>CA-2022-161480</td>\n",
       "      <td>2022-12-25</td>\n",
       "      <td>2022-12-31</td>\n",
       "      <td>RA-19285</td>\n",
       "      <td>FUR-BO-10004015</td>\n",
       "      <td>2</td>\n",
       "      <td>0.2</td>\n",
       "      <td>Standard Class</td>\n",
       "    </tr>\n",
       "    <tr>\n",
       "      <th>1</th>\n",
       "      <td>CA-2022-109715</td>\n",
       "      <td>2022-12-09</td>\n",
       "      <td>2022-12-14</td>\n",
       "      <td>AH-10585</td>\n",
       "      <td>OFF-PA-10004965</td>\n",
       "      <td>2</td>\n",
       "      <td>0.2</td>\n",
       "      <td>Standard Class</td>\n",
       "    </tr>\n",
       "    <tr>\n",
       "      <th>2</th>\n",
       "      <td>CA-2022-152660</td>\n",
       "      <td>2022-12-04</td>\n",
       "      <td>2022-12-10</td>\n",
       "      <td>CB-12415</td>\n",
       "      <td>OFF-ST-10000532</td>\n",
       "      <td>2</td>\n",
       "      <td>0.2</td>\n",
       "      <td>Standard Class</td>\n",
       "    </tr>\n",
       "    <tr>\n",
       "      <th>3</th>\n",
       "      <td>CA-2022-138618</td>\n",
       "      <td>2022-12-01</td>\n",
       "      <td>2022-12-05</td>\n",
       "      <td>MY-17380</td>\n",
       "      <td>OFF-PA-10000520</td>\n",
       "      <td>2</td>\n",
       "      <td>0.2</td>\n",
       "      <td>Standard Class</td>\n",
       "    </tr>\n",
       "    <tr>\n",
       "      <th>4</th>\n",
       "      <td>CA-2022-102267</td>\n",
       "      <td>2022-11-30</td>\n",
       "      <td>2022-12-04</td>\n",
       "      <td>SC-20800</td>\n",
       "      <td>OFF-FA-10000611</td>\n",
       "      <td>2</td>\n",
       "      <td>0.2</td>\n",
       "      <td>Standard Class</td>\n",
       "    </tr>\n",
       "    <tr>\n",
       "      <th>...</th>\n",
       "      <td>...</td>\n",
       "      <td>...</td>\n",
       "      <td>...</td>\n",
       "      <td>...</td>\n",
       "      <td>...</td>\n",
       "      <td>...</td>\n",
       "      <td>...</td>\n",
       "      <td>...</td>\n",
       "    </tr>\n",
       "    <tr>\n",
       "      <th>1657</th>\n",
       "      <td>CA-2022-144491</td>\n",
       "      <td>2022-03-27</td>\n",
       "      <td>2022-04-03</td>\n",
       "      <td>CJ-12010</td>\n",
       "      <td>FUR-BO-10001811</td>\n",
       "      <td>5</td>\n",
       "      <td>0.32</td>\n",
       "      <td>Standard Class</td>\n",
       "    </tr>\n",
       "    <tr>\n",
       "      <th>1658</th>\n",
       "      <td>CA-2022-122308</td>\n",
       "      <td>2022-03-24</td>\n",
       "      <td>2022-03-29</td>\n",
       "      <td>MV-17485</td>\n",
       "      <td>FUR-CH-10000665</td>\n",
       "      <td>2</td>\n",
       "      <td>0.1</td>\n",
       "      <td>Standard Class</td>\n",
       "    </tr>\n",
       "    <tr>\n",
       "      <th>1659</th>\n",
       "      <td>CA-2022-154039</td>\n",
       "      <td>2022-02-17</td>\n",
       "      <td>2022-02-21</td>\n",
       "      <td>JK-16120</td>\n",
       "      <td>FUR-TA-10001932</td>\n",
       "      <td>3</td>\n",
       "      <td>0.5</td>\n",
       "      <td>Standard Class</td>\n",
       "    </tr>\n",
       "    <tr>\n",
       "      <th>1660</th>\n",
       "      <td>CA-2022-124086</td>\n",
       "      <td>2022-02-10</td>\n",
       "      <td>2022-02-15</td>\n",
       "      <td>MP-18175</td>\n",
       "      <td>FUR-BO-10004015</td>\n",
       "      <td>2</td>\n",
       "      <td>0.15</td>\n",
       "      <td>Standard Class</td>\n",
       "    </tr>\n",
       "    <tr>\n",
       "      <th>1661</th>\n",
       "      <td>CA-2022-121790</td>\n",
       "      <td>2022-01-30</td>\n",
       "      <td>2022-02-04</td>\n",
       "      <td>LP-17095</td>\n",
       "      <td>FUR-TA-10003469</td>\n",
       "      <td>1</td>\n",
       "      <td>0.5</td>\n",
       "      <td>Standard Class</td>\n",
       "    </tr>\n",
       "  </tbody>\n",
       "</table>\n",
       "<p>1662 rows × 8 columns</p>\n",
       "</div>"
      ],
      "text/plain": [
       "                 Cde         Dt  Livraison Client ID       Produit ID Qty  \\\n",
       "0     CA-2022-161480 2022-12-25 2022-12-31  RA-19285  FUR-BO-10004015   2   \n",
       "1     CA-2022-109715 2022-12-09 2022-12-14  AH-10585  OFF-PA-10004965   2   \n",
       "2     CA-2022-152660 2022-12-04 2022-12-10  CB-12415  OFF-ST-10000532   2   \n",
       "3     CA-2022-138618 2022-12-01 2022-12-05  MY-17380  OFF-PA-10000520   2   \n",
       "4     CA-2022-102267 2022-11-30 2022-12-04  SC-20800  OFF-FA-10000611   2   \n",
       "...              ...        ...        ...       ...              ...  ..   \n",
       "1657  CA-2022-144491 2022-03-27 2022-04-03  CJ-12010  FUR-BO-10001811   5   \n",
       "1658  CA-2022-122308 2022-03-24 2022-03-29  MV-17485  FUR-CH-10000665   2   \n",
       "1659  CA-2022-154039 2022-02-17 2022-02-21  JK-16120  FUR-TA-10001932   3   \n",
       "1660  CA-2022-124086 2022-02-10 2022-02-15  MP-18175  FUR-BO-10004015   2   \n",
       "1661  CA-2022-121790 2022-01-30 2022-02-04  LP-17095  FUR-TA-10003469   1   \n",
       "\n",
       "     Rabais  Mode Livraison  \n",
       "0       0.2  Standard Class  \n",
       "1       0.2  Standard Class  \n",
       "2       0.2  Standard Class  \n",
       "3       0.2  Standard Class  \n",
       "4       0.2  Standard Class  \n",
       "...     ...             ...  \n",
       "1657   0.32  Standard Class  \n",
       "1658    0.1  Standard Class  \n",
       "1659    0.5  Standard Class  \n",
       "1660   0.15  Standard Class  \n",
       "1661    0.5  Standard Class  \n",
       "\n",
       "[1662 rows x 8 columns]"
      ]
     },
     "execution_count": 6,
     "metadata": {},
     "output_type": "execute_result"
    }
   ],
   "source": [
    "# Requête SQL\n",
    "conn.execute(\n",
    "    \"\"\"\n",
    "    SELECT *\n",
    "    FROM st_read('data/Ventes.xlsx')\n",
    "    \"\"\"\n",
    ").df()"
   ]
  }
 ],
 "metadata": {
  "kernelspec": {
   "display_name": "Python 3",
   "language": "python",
   "name": "python3"
  },
  "language_info": {
   "codemirror_mode": {
    "name": "ipython",
    "version": 3
   },
   "file_extension": ".py",
   "mimetype": "text/x-python",
   "name": "python",
   "nbconvert_exporter": "python",
   "pygments_lexer": "ipython3",
   "version": "3.12.5"
  }
 },
 "nbformat": 4,
 "nbformat_minor": 2
}
