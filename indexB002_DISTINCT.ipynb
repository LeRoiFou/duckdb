{
 "cells": [
  {
   "cell_type": "markdown",
   "metadata": {},
   "source": [
    "[SQL SELECT DISTINCT Statement](https://www.w3schools.com/sql/sql_distinct.asp)\n",
    "\n",
    "<b> Syntaxe : </b><br>\n",
    "SELECT DISTINCT column1, column2, ...\n",
    "FROM table_name;\n",
    "\n",
    "<b> Objet de la requête : </b><br>\n",
    "Renvoi uniquement des valeurs distinctes (différentes)\n",
    "\n",
    "Date : 09-01-24"
   ]
  },
  {
   "cell_type": "code",
   "execution_count": 3,
   "metadata": {},
   "outputs": [],
   "source": [
    "import duckdb\n",
    "import polars as pl"
   ]
  },
  {
   "cell_type": "code",
   "execution_count": 2,
   "metadata": {},
   "outputs": [],
   "source": [
    "# Création d'une BD vide\n",
    "conn = duckdb.connect()"
   ]
  },
  {
   "cell_type": "code",
   "execution_count": 4,
   "metadata": {},
   "outputs": [],
   "source": [
    "# Requête SQL : récupération de toutes les lignes du fichier .csv\n",
    "df = conn.execute(\n",
    "    \"\"\"\n",
    "    SELECT *\n",
    "    FROM read_csv_auto('data/prisoners.csv', header=True)\n",
    "    \"\"\").df()"
   ]
  },
  {
   "cell_type": "code",
   "execution_count": 5,
   "metadata": {},
   "outputs": [
    {
     "data": {
      "text/plain": [
       "<duckdb.duckdb.DuckDBPyConnection at 0x1ffb3784870>"
      ]
     },
     "execution_count": 5,
     "metadata": {},
     "output_type": "execute_result"
    }
   ],
   "source": [
    "# Requête SQL : enregistrement virtuel de la BD\n",
    "conn.register(\"df_view\", df)"
   ]
  },
  {
   "cell_type": "code",
   "execution_count": 10,
   "metadata": {},
   "outputs": [],
   "source": [
    "# Requête SQL : nombre de races présentes\n",
    "df_polars = conn.execute(\n",
    "    \"\"\"\n",
    "    SELECT DISTINCT \"Race\" FROM df_view ORDER BY \"Race\"\n",
    "    \"\"\"\n",
    ").df()"
   ]
  },
  {
   "cell_type": "code",
   "execution_count": 11,
   "metadata": {},
   "outputs": [
    {
     "data": {
      "text/html": [
       "<div><style>\n",
       ".dataframe > thead > tr,\n",
       ".dataframe > tbody > tr {\n",
       "  text-align: right;\n",
       "  white-space: pre-wrap;\n",
       "}\n",
       "</style>\n",
       "<small>shape: (5, 1)</small><table border=\"1\" class=\"dataframe\"><thead><tr><th>Race</th></tr><tr><td>str</td></tr></thead><tbody><tr><td>&quot;Asian&quot;</td></tr><tr><td>&quot;Black&quot;</td></tr><tr><td>&quot;Hispanic&quot;</td></tr><tr><td>&quot;Other&quot;</td></tr><tr><td>&quot;White&quot;</td></tr></tbody></table></div>"
      ],
      "text/plain": [
       "shape: (5, 1)\n",
       "┌──────────┐\n",
       "│ Race     │\n",
       "│ ---      │\n",
       "│ str      │\n",
       "╞══════════╡\n",
       "│ Asian    │\n",
       "│ Black    │\n",
       "│ Hispanic │\n",
       "│ Other    │\n",
       "│ White    │\n",
       "└──────────┘"
      ]
     },
     "execution_count": 11,
     "metadata": {},
     "output_type": "execute_result"
    }
   ],
   "source": [
    "# Récupération de la requête ci-avant sous DF polars\n",
    "pl.from_pandas(df_polars)"
   ]
  }
 ],
 "metadata": {
  "kernelspec": {
   "display_name": ".venv",
   "language": "python",
   "name": "python3"
  },
  "language_info": {
   "codemirror_mode": {
    "name": "ipython",
    "version": 3
   },
   "file_extension": ".py",
   "mimetype": "text/x-python",
   "name": "python",
   "nbconvert_exporter": "python",
   "pygments_lexer": "ipython3",
   "version": "3.12.5"
  }
 },
 "nbformat": 4,
 "nbformat_minor": 2
}
