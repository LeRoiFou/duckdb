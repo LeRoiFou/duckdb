{
 "cells": [
  {
   "cell_type": "markdown",
   "metadata": {},
   "source": [
    "[DuckDB Tutorial - DuckDB course for beginners](https://www.youtube.com/watch?v=AjsB6lM2-zw)\n",
    "\n",
    "[Introduction](https://marclamberti.com/blog/duckdb-getting-started-for-beginners/)\n",
    "\n",
    "Date : 27-12-2023"
   ]
  },
  {
   "cell_type": "code",
   "execution_count": 1,
   "metadata": {},
   "outputs": [],
   "source": [
    "# %%\n",
    "import pandas as pd\n",
    "import glob\n",
    "import time\n",
    "import duckdb"
   ]
  },
  {
   "cell_type": "code",
   "execution_count": 3,
   "metadata": {},
   "outputs": [],
   "source": [
    "# Création d'une base de données vide : \n",
    "conn = duckdb.connect()"
   ]
  },
  {
   "cell_type": "code",
   "execution_count": 12,
   "metadata": {},
   "outputs": [
    {
     "name": "stdout",
     "output_type": "stream",
     "text": [
      "time: 0.7440307140350342\n",
      "  Order ID                     Product Quantity Ordered Price Each  \\\n",
      "0   176558        USB-C Charging Cable                2      11.95   \n",
      "1      NaN                         NaN              NaN        NaN   \n",
      "2   176559  Bose SoundSport Headphones                1      99.99   \n",
      "3   176560                Google Phone                1        600   \n",
      "4   176560            Wired Headphones                1      11.99   \n",
      "5   176561            Wired Headphones                1      11.99   \n",
      "6   176562        USB-C Charging Cable                1      11.95   \n",
      "7   176563  Bose SoundSport Headphones                1      99.99   \n",
      "8   176564        USB-C Charging Cable                1      11.95   \n",
      "9   176565          Macbook Pro Laptop                1       1700   \n",
      "\n",
      "       Order Date                        Purchase Address  \n",
      "0  04/19/19 08:46            917 1st St, Dallas, TX 75001  \n",
      "1             NaN                                     NaN  \n",
      "2  04/07/19 22:30       682 Chestnut St, Boston, MA 02215  \n",
      "3  04/12/19 14:38    669 Spruce St, Los Angeles, CA 90001  \n",
      "4  04/12/19 14:38    669 Spruce St, Los Angeles, CA 90001  \n",
      "5  04/30/19 09:27       333 8th St, Los Angeles, CA 90001  \n",
      "6  04/29/19 13:03  381 Wilson St, San Francisco, CA 94016  \n",
      "7  04/02/19 07:46        668 Center St, Seattle, WA 98101  \n",
      "8  04/12/19 10:58         790 Ridge St, Atlanta, GA 30301  \n",
      "9  04/24/19 10:38  915 Willow St, San Francisco, CA 94016  \n"
     ]
    }
   ],
   "source": [
    "# Instruction avec la librairie pandas :\n",
    "# Temps d'écoulement de chargement de tous les fichiers .csv du répertoire\n",
    "# 'dataset'\n",
    "cur_time = time.time()\n",
    "\n",
    "df = pd.concat([pd.read_csv(f) \n",
    "                for f in glob.glob('dataset/*.csv')])\n",
    "\n",
    "print(f\"time: {(time.time() - cur_time)}\")\n",
    "\n",
    "print(df.head(10))"
   ]
  },
  {
   "cell_type": "code",
   "execution_count": 13,
   "metadata": {},
   "outputs": [
    {
     "name": "stdout",
     "output_type": "stream",
     "text": [
      "time: 0.15200042724609375\n",
      "  Order ID                     Product Quantity Ordered Price Each  \\\n",
      "0   176558        USB-C Charging Cable                2      11.95   \n",
      "1     None                        None             None       None   \n",
      "2   176559  Bose SoundSport Headphones                1      99.99   \n",
      "3   176560                Google Phone                1        600   \n",
      "4   176560            Wired Headphones                1      11.99   \n",
      "5   176561            Wired Headphones                1      11.99   \n",
      "6   176562        USB-C Charging Cable                1      11.95   \n",
      "7   176563  Bose SoundSport Headphones                1      99.99   \n",
      "8   176564        USB-C Charging Cable                1      11.95   \n",
      "9   176565          Macbook Pro Laptop                1       1700   \n",
      "\n",
      "       Order Date                        Purchase Address  \n",
      "0  04/19/19 08:46            917 1st St, Dallas, TX 75001  \n",
      "1            None                                    None  \n",
      "2  04/07/19 22:30       682 Chestnut St, Boston, MA 02215  \n",
      "3  04/12/19 14:38    669 Spruce St, Los Angeles, CA 90001  \n",
      "4  04/12/19 14:38    669 Spruce St, Los Angeles, CA 90001  \n",
      "5  04/30/19 09:27       333 8th St, Los Angeles, CA 90001  \n",
      "6  04/29/19 13:03  381 Wilson St, San Francisco, CA 94016  \n",
      "7  04/02/19 07:46        668 Center St, Seattle, WA 98101  \n",
      "8  04/12/19 10:58         790 Ridge St, Atlanta, GA 30301  \n",
      "9  04/24/19 10:38  915 Willow St, San Francisco, CA 94016  \n"
     ]
    }
   ],
   "source": [
    "# Instruction avec une requête SQL avec la librairie duckdb :\n",
    "# Temps d'écoulement de chargement de tous les fichiers .csv du répertoire\n",
    "# 'dataset' à partir d'une requête SQL convertie en DF pandas\n",
    "cur_time = time.time()\n",
    "\n",
    "df = conn.execute(\"\"\"\n",
    "SELECT * \n",
    "FROM read_csv_auto('dataset/*.csv', header=True)\n",
    "LIMIT 10\n",
    "\"\"\").df()\n",
    "\n",
    "print(f\"time: {(time.time() - cur_time)}\")\n",
    "\n",
    "print(df)"
   ]
  },
  {
   "cell_type": "code",
   "execution_count": 14,
   "metadata": {},
   "outputs": [],
   "source": [
    "# Requête SQL : Récupération de toutes les lignes des fichiers .csv\n",
    "df = conn.execute(\"\"\"\n",
    "SELECT * \n",
    "FROM read_csv_auto('dataset/*.csv', header=True)\n",
    "\"\"\").df()\n"
   ]
  },
  {
   "cell_type": "code",
   "execution_count": 15,
   "metadata": {},
   "outputs": [
    {
     "data": {
      "text/plain": [
       "<duckdb.duckdb.DuckDBPyConnection at 0x25a344d5e30>"
      ]
     },
     "execution_count": 15,
     "metadata": {},
     "output_type": "execute_result"
    }
   ],
   "source": [
    "# Requête SQL : enregistrement virtuel de la base de données dans une \n",
    "# table nommée 'df_view'\n",
    "conn.register(\"df_view\", df)"
   ]
  },
  {
   "cell_type": "code",
   "execution_count": 16,
   "metadata": {},
   "outputs": [
    {
     "data": {
      "text/html": [
       "<div>\n",
       "<style scoped>\n",
       "    .dataframe tbody tr th:only-of-type {\n",
       "        vertical-align: middle;\n",
       "    }\n",
       "\n",
       "    .dataframe tbody tr th {\n",
       "        vertical-align: top;\n",
       "    }\n",
       "\n",
       "    .dataframe thead th {\n",
       "        text-align: right;\n",
       "    }\n",
       "</style>\n",
       "<table border=\"1\" class=\"dataframe\">\n",
       "  <thead>\n",
       "    <tr style=\"text-align: right;\">\n",
       "      <th></th>\n",
       "      <th>column_name</th>\n",
       "      <th>column_type</th>\n",
       "      <th>null</th>\n",
       "      <th>key</th>\n",
       "      <th>default</th>\n",
       "      <th>extra</th>\n",
       "    </tr>\n",
       "  </thead>\n",
       "  <tbody>\n",
       "    <tr>\n",
       "      <th>0</th>\n",
       "      <td>Order ID</td>\n",
       "      <td>VARCHAR</td>\n",
       "      <td>YES</td>\n",
       "      <td>None</td>\n",
       "      <td>None</td>\n",
       "      <td>NaN</td>\n",
       "    </tr>\n",
       "    <tr>\n",
       "      <th>1</th>\n",
       "      <td>Product</td>\n",
       "      <td>VARCHAR</td>\n",
       "      <td>YES</td>\n",
       "      <td>None</td>\n",
       "      <td>None</td>\n",
       "      <td>NaN</td>\n",
       "    </tr>\n",
       "    <tr>\n",
       "      <th>2</th>\n",
       "      <td>Quantity Ordered</td>\n",
       "      <td>VARCHAR</td>\n",
       "      <td>YES</td>\n",
       "      <td>None</td>\n",
       "      <td>None</td>\n",
       "      <td>NaN</td>\n",
       "    </tr>\n",
       "    <tr>\n",
       "      <th>3</th>\n",
       "      <td>Price Each</td>\n",
       "      <td>VARCHAR</td>\n",
       "      <td>YES</td>\n",
       "      <td>None</td>\n",
       "      <td>None</td>\n",
       "      <td>NaN</td>\n",
       "    </tr>\n",
       "    <tr>\n",
       "      <th>4</th>\n",
       "      <td>Order Date</td>\n",
       "      <td>VARCHAR</td>\n",
       "      <td>YES</td>\n",
       "      <td>None</td>\n",
       "      <td>None</td>\n",
       "      <td>NaN</td>\n",
       "    </tr>\n",
       "    <tr>\n",
       "      <th>5</th>\n",
       "      <td>Purchase Address</td>\n",
       "      <td>VARCHAR</td>\n",
       "      <td>YES</td>\n",
       "      <td>None</td>\n",
       "      <td>None</td>\n",
       "      <td>NaN</td>\n",
       "    </tr>\n",
       "  </tbody>\n",
       "</table>\n",
       "</div>"
      ],
      "text/plain": [
       "        column_name column_type null   key default  extra\n",
       "0          Order ID     VARCHAR  YES  None    None    NaN\n",
       "1           Product     VARCHAR  YES  None    None    NaN\n",
       "2  Quantity Ordered     VARCHAR  YES  None    None    NaN\n",
       "3        Price Each     VARCHAR  YES  None    None    NaN\n",
       "4        Order Date     VARCHAR  YES  None    None    NaN\n",
       "5  Purchase Address     VARCHAR  YES  None    None    NaN"
      ]
     },
     "execution_count": 16,
     "metadata": {},
     "output_type": "execute_result"
    }
   ],
   "source": [
    "# Requête SQL : analyse de la table virtuelle enregistrée ci-avant\n",
    "conn.execute(\"DESCRIBE df_view\").df()"
   ]
  },
  {
   "cell_type": "code",
   "execution_count": 17,
   "metadata": {},
   "outputs": [
    {
     "data": {
      "text/html": [
       "<div>\n",
       "<style scoped>\n",
       "    .dataframe tbody tr th:only-of-type {\n",
       "        vertical-align: middle;\n",
       "    }\n",
       "\n",
       "    .dataframe tbody tr th {\n",
       "        vertical-align: top;\n",
       "    }\n",
       "\n",
       "    .dataframe thead th {\n",
       "        text-align: right;\n",
       "    }\n",
       "</style>\n",
       "<table border=\"1\" class=\"dataframe\">\n",
       "  <thead>\n",
       "    <tr style=\"text-align: right;\">\n",
       "      <th></th>\n",
       "      <th>count_star()</th>\n",
       "    </tr>\n",
       "  </thead>\n",
       "  <tbody>\n",
       "    <tr>\n",
       "      <th>0</th>\n",
       "      <td>186850</td>\n",
       "    </tr>\n",
       "  </tbody>\n",
       "</table>\n",
       "</div>"
      ],
      "text/plain": [
       "   count_star()\n",
       "0        186850"
      ]
     },
     "execution_count": 17,
     "metadata": {},
     "output_type": "execute_result"
    }
   ],
   "source": [
    "# Requête SQL : nombre de lignes dans la table virtuelle\n",
    "conn.execute(\"SELECT COUNT(*) FROM df_view\").df()"
   ]
  },
  {
   "cell_type": "code",
   "execution_count": 18,
   "metadata": {},
   "outputs": [
    {
     "data": {
      "text/plain": [
       "Order ID            545\n",
       "Product             545\n",
       "Quantity Ordered    545\n",
       "Price Each          545\n",
       "Order Date          545\n",
       "Purchase Address    545\n",
       "dtype: int64"
      ]
     },
     "execution_count": 18,
     "metadata": {},
     "output_type": "execute_result"
    }
   ],
   "source": [
    "# Instructions pandas : valeurs nulles dans chaque colonne\n",
    "df.isnull().sum()"
   ]
  },
  {
   "cell_type": "code",
   "execution_count": 19,
   "metadata": {},
   "outputs": [],
   "source": [
    "# Instruction pandas : suppression des lignes avec uniquement \n",
    "# des valeurs nulles\n",
    "df = df.dropna(how='all')"
   ]
  },
  {
   "cell_type": "code",
   "execution_count": 20,
   "metadata": {},
   "outputs": [
    {
     "data": {
      "text/plain": [
       "Order ID            0\n",
       "Product             0\n",
       "Quantity Ordered    0\n",
       "Price Each          0\n",
       "Order Date          0\n",
       "Purchase Address    0\n",
       "dtype: int64"
      ]
     },
     "execution_count": 20,
     "metadata": {},
     "output_type": "execute_result"
    }
   ],
   "source": [
    "df.isnull().sum()"
   ]
  },
  {
   "cell_type": "code",
   "execution_count": 21,
   "metadata": {},
   "outputs": [
    {
     "data": {
      "text/html": [
       "<div>\n",
       "<style scoped>\n",
       "    .dataframe tbody tr th:only-of-type {\n",
       "        vertical-align: middle;\n",
       "    }\n",
       "\n",
       "    .dataframe tbody tr th {\n",
       "        vertical-align: top;\n",
       "    }\n",
       "\n",
       "    .dataframe thead th {\n",
       "        text-align: right;\n",
       "    }\n",
       "</style>\n",
       "<table border=\"1\" class=\"dataframe\">\n",
       "  <thead>\n",
       "    <tr style=\"text-align: right;\">\n",
       "      <th></th>\n",
       "      <th>count_star()</th>\n",
       "    </tr>\n",
       "  </thead>\n",
       "  <tbody>\n",
       "    <tr>\n",
       "      <th>0</th>\n",
       "      <td>186305</td>\n",
       "    </tr>\n",
       "  </tbody>\n",
       "</table>\n",
       "</div>"
      ],
      "text/plain": [
       "   count_star()\n",
       "0        186305"
      ]
     },
     "execution_count": 21,
     "metadata": {},
     "output_type": "execute_result"
    }
   ],
   "source": [
    "# Requête SQL : nombre de lignes dans la df d'origine\n",
    "conn.execute(\"SELECT COUNT(*) FROM df\").df()"
   ]
  },
  {
   "cell_type": "code",
   "execution_count": 22,
   "metadata": {},
   "outputs": [
    {
     "data": {
      "text/html": [
       "<div>\n",
       "<style scoped>\n",
       "    .dataframe tbody tr th:only-of-type {\n",
       "        vertical-align: middle;\n",
       "    }\n",
       "\n",
       "    .dataframe tbody tr th {\n",
       "        vertical-align: top;\n",
       "    }\n",
       "\n",
       "    .dataframe thead th {\n",
       "        text-align: right;\n",
       "    }\n",
       "</style>\n",
       "<table border=\"1\" class=\"dataframe\">\n",
       "  <thead>\n",
       "    <tr style=\"text-align: right;\">\n",
       "      <th></th>\n",
       "      <th>Order ID</th>\n",
       "      <th>Product</th>\n",
       "      <th>Quantity Ordered</th>\n",
       "      <th>Price Each</th>\n",
       "      <th>Order Date</th>\n",
       "      <th>Purchase Address</th>\n",
       "    </tr>\n",
       "  </thead>\n",
       "  <tbody>\n",
       "    <tr>\n",
       "      <th>0</th>\n",
       "      <td>295665</td>\n",
       "      <td>Macbook Pro Laptop</td>\n",
       "      <td>1</td>\n",
       "      <td>1700</td>\n",
       "      <td>12/30/19 00:01</td>\n",
       "      <td>136 Church St, New York City, NY 10001</td>\n",
       "    </tr>\n",
       "  </tbody>\n",
       "</table>\n",
       "</div>"
      ],
      "text/plain": [
       "  Order ID             Product Quantity Ordered Price Each      Order Date  \\\n",
       "0   295665  Macbook Pro Laptop                1       1700  12/30/19 00:01   \n",
       "\n",
       "                         Purchase Address  \n",
       "0  136 Church St, New York City, NY 10001  "
      ]
     },
     "execution_count": 22,
     "metadata": {},
     "output_type": "execute_result"
    }
   ],
   "source": [
    "# Requête SQL : affichage de la ligne avec Order ID = 295665\n",
    "conn.execute(\"\"\"SELECT * FROM df WHERE \"Order ID\"='295665';\"\"\").df()"
   ]
  },
  {
   "cell_type": "code",
   "execution_count": 23,
   "metadata": {},
   "outputs": [
    {
     "data": {
      "text/plain": [
       "<duckdb.duckdb.DuckDBPyConnection at 0x25a344d5e30>"
      ]
     },
     "execution_count": 23,
     "metadata": {},
     "output_type": "execute_result"
    }
   ],
   "source": [
    "# Requête SQL : enregistrement des champs de la DF dans une table 'sales'\n",
    "# TRY_CAST(\"Order ID\" AS INTEGER) NOTNULL : suppression des lignes d'en-tête\n",
    "# présentes dans la DF\n",
    "conn.execute(\"\"\"\n",
    "CREATE OR REPLACE TABLE sales AS\n",
    "    SELECT\n",
    "        \"Order ID\"::INTEGER AS order_id,\n",
    "        Product AS product,\n",
    "        \"Quantity Ordered\"::INTEGER AS quantity,\n",
    "        \"Price Each\"::DECIMAL AS price_each,\n",
    "        strptime(\"Order Date\", '%m/%d/%Y %H:%M')::DATE as order_date,\n",
    "        \"Purchase Address\" AS purchase_adress\n",
    "    FROM df\n",
    "    WHERE\n",
    "        TRY_CAST(\"Order ID\" AS INTEGER) NOTNULL;\n",
    "\"\"\")"
   ]
  },
  {
   "cell_type": "code",
   "execution_count": 24,
   "metadata": {},
   "outputs": [
    {
     "data": {
      "text/html": [
       "<div>\n",
       "<style scoped>\n",
       "    .dataframe tbody tr th:only-of-type {\n",
       "        vertical-align: middle;\n",
       "    }\n",
       "\n",
       "    .dataframe tbody tr th {\n",
       "        vertical-align: top;\n",
       "    }\n",
       "\n",
       "    .dataframe thead th {\n",
       "        text-align: right;\n",
       "    }\n",
       "</style>\n",
       "<table border=\"1\" class=\"dataframe\">\n",
       "  <thead>\n",
       "    <tr style=\"text-align: right;\">\n",
       "      <th></th>\n",
       "      <th>order_id</th>\n",
       "      <th>quantity</th>\n",
       "      <th>price_each</th>\n",
       "    </tr>\n",
       "  </thead>\n",
       "  <tbody>\n",
       "    <tr>\n",
       "      <th>0</th>\n",
       "      <td>176558</td>\n",
       "      <td>2</td>\n",
       "      <td>11.95</td>\n",
       "    </tr>\n",
       "    <tr>\n",
       "      <th>1</th>\n",
       "      <td>176559</td>\n",
       "      <td>1</td>\n",
       "      <td>99.99</td>\n",
       "    </tr>\n",
       "    <tr>\n",
       "      <th>2</th>\n",
       "      <td>176560</td>\n",
       "      <td>1</td>\n",
       "      <td>600.00</td>\n",
       "    </tr>\n",
       "    <tr>\n",
       "      <th>3</th>\n",
       "      <td>176560</td>\n",
       "      <td>1</td>\n",
       "      <td>11.99</td>\n",
       "    </tr>\n",
       "    <tr>\n",
       "      <th>4</th>\n",
       "      <td>176561</td>\n",
       "      <td>1</td>\n",
       "      <td>11.99</td>\n",
       "    </tr>\n",
       "    <tr>\n",
       "      <th>...</th>\n",
       "      <td>...</td>\n",
       "      <td>...</td>\n",
       "      <td>...</td>\n",
       "    </tr>\n",
       "    <tr>\n",
       "      <th>185945</th>\n",
       "      <td>259353</td>\n",
       "      <td>3</td>\n",
       "      <td>2.99</td>\n",
       "    </tr>\n",
       "    <tr>\n",
       "      <th>185946</th>\n",
       "      <td>259354</td>\n",
       "      <td>1</td>\n",
       "      <td>700.00</td>\n",
       "    </tr>\n",
       "    <tr>\n",
       "      <th>185947</th>\n",
       "      <td>259355</td>\n",
       "      <td>1</td>\n",
       "      <td>700.00</td>\n",
       "    </tr>\n",
       "    <tr>\n",
       "      <th>185948</th>\n",
       "      <td>259356</td>\n",
       "      <td>1</td>\n",
       "      <td>379.99</td>\n",
       "    </tr>\n",
       "    <tr>\n",
       "      <th>185949</th>\n",
       "      <td>259357</td>\n",
       "      <td>1</td>\n",
       "      <td>11.95</td>\n",
       "    </tr>\n",
       "  </tbody>\n",
       "</table>\n",
       "<p>185950 rows × 3 columns</p>\n",
       "</div>"
      ],
      "text/plain": [
       "        order_id  quantity  price_each\n",
       "0         176558         2       11.95\n",
       "1         176559         1       99.99\n",
       "2         176560         1      600.00\n",
       "3         176560         1       11.99\n",
       "4         176561         1       11.99\n",
       "...          ...       ...         ...\n",
       "185945    259353         3        2.99\n",
       "185946    259354         1      700.00\n",
       "185947    259355         1      700.00\n",
       "185948    259356         1      379.99\n",
       "185949    259357         1       11.95\n",
       "\n",
       "[185950 rows x 3 columns]"
      ]
     },
     "execution_count": 24,
     "metadata": {},
     "output_type": "execute_result"
    }
   ],
   "source": [
    "# Requête SQL : affichage de certaines colonnes de la table créée ci-avant\n",
    "conn.execute(\"\"\"\n",
    "SELECT *\n",
    "    EXCLUDE (product, order_date, purchase_adress) FROM sales         \n",
    "             \"\"\").df()"
   ]
  },
  {
   "cell_type": "code",
   "execution_count": 25,
   "metadata": {},
   "outputs": [
    {
     "data": {
      "text/html": [
       "<div>\n",
       "<style scoped>\n",
       "    .dataframe tbody tr th:only-of-type {\n",
       "        vertical-align: middle;\n",
       "    }\n",
       "\n",
       "    .dataframe tbody tr th {\n",
       "        vertical-align: top;\n",
       "    }\n",
       "\n",
       "    .dataframe thead th {\n",
       "        text-align: right;\n",
       "    }\n",
       "</style>\n",
       "<table border=\"1\" class=\"dataframe\">\n",
       "  <thead>\n",
       "    <tr style=\"text-align: right;\">\n",
       "      <th></th>\n",
       "      <th>min(sales.order_id)</th>\n",
       "      <th>min(sales.quantity)</th>\n",
       "      <th>min(sales.price_each)</th>\n",
       "    </tr>\n",
       "  </thead>\n",
       "  <tbody>\n",
       "    <tr>\n",
       "      <th>0</th>\n",
       "      <td>141234</td>\n",
       "      <td>1</td>\n",
       "      <td>2.99</td>\n",
       "    </tr>\n",
       "  </tbody>\n",
       "</table>\n",
       "</div>"
      ],
      "text/plain": [
       "   min(sales.order_id)  min(sales.quantity)  min(sales.price_each)\n",
       "0               141234                    1                   2.99"
      ]
     },
     "execution_count": 25,
     "metadata": {},
     "output_type": "execute_result"
    }
   ],
   "source": [
    "# Requête SQL : valeur minimum à afficher pour certaines colonnes\n",
    "conn.execute(\"\"\"\n",
    "SELECT\n",
    "    MIN(COLUMNS(* EXCLUDE (product, order_date, purchase_adress)))\n",
    "FROM sales         \n",
    "             \"\"\").df()"
   ]
  },
  {
   "cell_type": "code",
   "execution_count": 26,
   "metadata": {},
   "outputs": [
    {
     "data": {
      "text/plain": [
       "<duckdb.duckdb.DuckDBPyConnection at 0x25a344d5e30>"
      ]
     },
     "execution_count": 26,
     "metadata": {},
     "output_type": "execute_result"
    }
   ],
   "source": [
    "# Requête SQL : création d'une nouvelle table virtuelle avec l'agrégation\n",
    "# de certaines données de la table virtuelle 'sales'\n",
    "conn.execute(\"\"\"\n",
    "CREATE OR REPLACE TABLE aggregated_sales AS\n",
    "    SELECT\n",
    "        order_id,\n",
    "        COUNT(1) as nb_orders,\n",
    "        MONTH(order_date) as month,\n",
    "        str_split(purchase_adress, ',')[2] AS city,\n",
    "        SUM(quantity * price_each) AS revenue\n",
    "    FROM sales\n",
    "    GROUP BY ALL;\n",
    "\"\"\")"
   ]
  },
  {
   "cell_type": "code",
   "execution_count": 27,
   "metadata": {},
   "outputs": [
    {
     "data": {
      "text/html": [
       "<div>\n",
       "<style scoped>\n",
       "    .dataframe tbody tr th:only-of-type {\n",
       "        vertical-align: middle;\n",
       "    }\n",
       "\n",
       "    .dataframe tbody tr th {\n",
       "        vertical-align: top;\n",
       "    }\n",
       "\n",
       "    .dataframe thead th {\n",
       "        text-align: right;\n",
       "    }\n",
       "</style>\n",
       "<table border=\"1\" class=\"dataframe\">\n",
       "  <thead>\n",
       "    <tr style=\"text-align: right;\">\n",
       "      <th></th>\n",
       "      <th>order_id</th>\n",
       "      <th>nb_orders</th>\n",
       "      <th>month</th>\n",
       "      <th>city</th>\n",
       "      <th>revenue</th>\n",
       "    </tr>\n",
       "  </thead>\n",
       "  <tbody>\n",
       "    <tr>\n",
       "      <th>0</th>\n",
       "      <td>196937</td>\n",
       "      <td>1</td>\n",
       "      <td>5</td>\n",
       "      <td>Los Angeles</td>\n",
       "      <td>379.99</td>\n",
       "    </tr>\n",
       "    <tr>\n",
       "      <th>1</th>\n",
       "      <td>196944</td>\n",
       "      <td>1</td>\n",
       "      <td>5</td>\n",
       "      <td>Los Angeles</td>\n",
       "      <td>149.99</td>\n",
       "    </tr>\n",
       "    <tr>\n",
       "      <th>2</th>\n",
       "      <td>196950</td>\n",
       "      <td>1</td>\n",
       "      <td>5</td>\n",
       "      <td>New York City</td>\n",
       "      <td>11.99</td>\n",
       "    </tr>\n",
       "    <tr>\n",
       "      <th>3</th>\n",
       "      <td>196951</td>\n",
       "      <td>1</td>\n",
       "      <td>5</td>\n",
       "      <td>San Francisco</td>\n",
       "      <td>150.00</td>\n",
       "    </tr>\n",
       "    <tr>\n",
       "      <th>4</th>\n",
       "      <td>196955</td>\n",
       "      <td>1</td>\n",
       "      <td>5</td>\n",
       "      <td>Dallas</td>\n",
       "      <td>379.99</td>\n",
       "    </tr>\n",
       "    <tr>\n",
       "      <th>...</th>\n",
       "      <td>...</td>\n",
       "      <td>...</td>\n",
       "      <td>...</td>\n",
       "      <td>...</td>\n",
       "      <td>...</td>\n",
       "    </tr>\n",
       "    <tr>\n",
       "      <th>178432</th>\n",
       "      <td>196915</td>\n",
       "      <td>1</td>\n",
       "      <td>5</td>\n",
       "      <td>Atlanta</td>\n",
       "      <td>600.00</td>\n",
       "    </tr>\n",
       "    <tr>\n",
       "      <th>178433</th>\n",
       "      <td>196916</td>\n",
       "      <td>1</td>\n",
       "      <td>5</td>\n",
       "      <td>Dallas</td>\n",
       "      <td>2.99</td>\n",
       "    </tr>\n",
       "    <tr>\n",
       "      <th>178434</th>\n",
       "      <td>196918</td>\n",
       "      <td>1</td>\n",
       "      <td>5</td>\n",
       "      <td>Dallas</td>\n",
       "      <td>5.98</td>\n",
       "    </tr>\n",
       "    <tr>\n",
       "      <th>178435</th>\n",
       "      <td>196920</td>\n",
       "      <td>2</td>\n",
       "      <td>5</td>\n",
       "      <td>Los Angeles</td>\n",
       "      <td>26.90</td>\n",
       "    </tr>\n",
       "    <tr>\n",
       "      <th>178436</th>\n",
       "      <td>196925</td>\n",
       "      <td>1</td>\n",
       "      <td>5</td>\n",
       "      <td>San Francisco</td>\n",
       "      <td>5.98</td>\n",
       "    </tr>\n",
       "  </tbody>\n",
       "</table>\n",
       "<p>178437 rows × 5 columns</p>\n",
       "</div>"
      ],
      "text/plain": [
       "        order_id  nb_orders  month            city  revenue\n",
       "0         196937          1      5     Los Angeles   379.99\n",
       "1         196944          1      5     Los Angeles   149.99\n",
       "2         196950          1      5   New York City    11.99\n",
       "3         196951          1      5   San Francisco   150.00\n",
       "4         196955          1      5          Dallas   379.99\n",
       "...          ...        ...    ...             ...      ...\n",
       "178432    196915          1      5         Atlanta   600.00\n",
       "178433    196916          1      5          Dallas     2.99\n",
       "178434    196918          1      5          Dallas     5.98\n",
       "178435    196920          2      5     Los Angeles    26.90\n",
       "178436    196925          1      5   San Francisco     5.98\n",
       "\n",
       "[178437 rows x 5 columns]"
      ]
     },
     "execution_count": 27,
     "metadata": {},
     "output_type": "execute_result"
    }
   ],
   "source": [
    "# Requête SQL : affichage des données de la table virtuelle\n",
    "# 'aggregated_sales'\n",
    "conn.execute(\"FROM aggregated_sales\").df()"
   ]
  },
  {
   "cell_type": "code",
   "execution_count": 28,
   "metadata": {},
   "outputs": [
    {
     "data": {
      "text/html": [
       "<div>\n",
       "<style scoped>\n",
       "    .dataframe tbody tr th:only-of-type {\n",
       "        vertical-align: middle;\n",
       "    }\n",
       "\n",
       "    .dataframe tbody tr th {\n",
       "        vertical-align: top;\n",
       "    }\n",
       "\n",
       "    .dataframe thead th {\n",
       "        text-align: right;\n",
       "    }\n",
       "</style>\n",
       "<table border=\"1\" class=\"dataframe\">\n",
       "  <thead>\n",
       "    <tr style=\"text-align: right;\">\n",
       "      <th></th>\n",
       "      <th>city</th>\n",
       "      <th>total</th>\n",
       "    </tr>\n",
       "  </thead>\n",
       "  <tbody>\n",
       "    <tr>\n",
       "      <th>0</th>\n",
       "      <td>San Francisco</td>\n",
       "      <td>8262203.91</td>\n",
       "    </tr>\n",
       "    <tr>\n",
       "      <th>1</th>\n",
       "      <td>Los Angeles</td>\n",
       "      <td>5452570.80</td>\n",
       "    </tr>\n",
       "    <tr>\n",
       "      <th>2</th>\n",
       "      <td>New York City</td>\n",
       "      <td>4664317.43</td>\n",
       "    </tr>\n",
       "    <tr>\n",
       "      <th>3</th>\n",
       "      <td>Boston</td>\n",
       "      <td>3661642.01</td>\n",
       "    </tr>\n",
       "    <tr>\n",
       "      <th>4</th>\n",
       "      <td>Atlanta</td>\n",
       "      <td>2795498.58</td>\n",
       "    </tr>\n",
       "    <tr>\n",
       "      <th>5</th>\n",
       "      <td>Dallas</td>\n",
       "      <td>2767975.40</td>\n",
       "    </tr>\n",
       "    <tr>\n",
       "      <th>6</th>\n",
       "      <td>Seattle</td>\n",
       "      <td>2747755.48</td>\n",
       "    </tr>\n",
       "    <tr>\n",
       "      <th>7</th>\n",
       "      <td>Portland</td>\n",
       "      <td>2320490.61</td>\n",
       "    </tr>\n",
       "    <tr>\n",
       "      <th>8</th>\n",
       "      <td>Austin</td>\n",
       "      <td>1819581.75</td>\n",
       "    </tr>\n",
       "  </tbody>\n",
       "</table>\n",
       "</div>"
      ],
      "text/plain": [
       "             city       total\n",
       "0   San Francisco  8262203.91\n",
       "1     Los Angeles  5452570.80\n",
       "2   New York City  4664317.43\n",
       "3          Boston  3661642.01\n",
       "4         Atlanta  2795498.58\n",
       "5          Dallas  2767975.40\n",
       "6         Seattle  2747755.48\n",
       "7        Portland  2320490.61\n",
       "8          Austin  1819581.75"
      ]
     },
     "execution_count": 28,
     "metadata": {},
     "output_type": "execute_result"
    }
   ],
   "source": [
    "# Requête SQL : Revenu total par ville par trie décroissant\n",
    "conn.execute(\"\"\"\n",
    "SELECT\n",
    "    city,\n",
    "    SUM(revenue) AS total\n",
    "FROM aggregated_sales\n",
    "GROUP BY city\n",
    "ORDER BY total DESC\n",
    "             \"\"\").df()"
   ]
  },
  {
   "cell_type": "code",
   "execution_count": 29,
   "metadata": {},
   "outputs": [
    {
     "data": {
      "text/plain": [
       "<duckdb.duckdb.DuckDBPyConnection at 0x25a344d5e30>"
      ]
     },
     "execution_count": 29,
     "metadata": {},
     "output_type": "execute_result"
    }
   ],
   "source": [
    "# Requête SQL : exportation sous un type .parquet\n",
    "conn.execute(\"\"\"\n",
    "             COPY (FROM aggregated_sales) \n",
    "             TO 'dataset/aggregated_sales.parquet' (FORMAT 'parquet');\n",
    "             \"\"\")"
   ]
  },
  {
   "cell_type": "code",
   "execution_count": 30,
   "metadata": {},
   "outputs": [
    {
     "data": {
      "text/html": [
       "<div>\n",
       "<style scoped>\n",
       "    .dataframe tbody tr th:only-of-type {\n",
       "        vertical-align: middle;\n",
       "    }\n",
       "\n",
       "    .dataframe tbody tr th {\n",
       "        vertical-align: top;\n",
       "    }\n",
       "\n",
       "    .dataframe thead th {\n",
       "        text-align: right;\n",
       "    }\n",
       "</style>\n",
       "<table border=\"1\" class=\"dataframe\">\n",
       "  <thead>\n",
       "    <tr style=\"text-align: right;\">\n",
       "      <th></th>\n",
       "      <th>order_id</th>\n",
       "      <th>nb_orders</th>\n",
       "      <th>month</th>\n",
       "      <th>city</th>\n",
       "      <th>revenue</th>\n",
       "    </tr>\n",
       "  </thead>\n",
       "  <tbody>\n",
       "    <tr>\n",
       "      <th>0</th>\n",
       "      <td>196937</td>\n",
       "      <td>1</td>\n",
       "      <td>5</td>\n",
       "      <td>Los Angeles</td>\n",
       "      <td>379.99</td>\n",
       "    </tr>\n",
       "    <tr>\n",
       "      <th>1</th>\n",
       "      <td>196944</td>\n",
       "      <td>1</td>\n",
       "      <td>5</td>\n",
       "      <td>Los Angeles</td>\n",
       "      <td>149.99</td>\n",
       "    </tr>\n",
       "    <tr>\n",
       "      <th>2</th>\n",
       "      <td>196950</td>\n",
       "      <td>1</td>\n",
       "      <td>5</td>\n",
       "      <td>New York City</td>\n",
       "      <td>11.99</td>\n",
       "    </tr>\n",
       "    <tr>\n",
       "      <th>3</th>\n",
       "      <td>196951</td>\n",
       "      <td>1</td>\n",
       "      <td>5</td>\n",
       "      <td>San Francisco</td>\n",
       "      <td>150.00</td>\n",
       "    </tr>\n",
       "    <tr>\n",
       "      <th>4</th>\n",
       "      <td>196955</td>\n",
       "      <td>1</td>\n",
       "      <td>5</td>\n",
       "      <td>Dallas</td>\n",
       "      <td>379.99</td>\n",
       "    </tr>\n",
       "    <tr>\n",
       "      <th>...</th>\n",
       "      <td>...</td>\n",
       "      <td>...</td>\n",
       "      <td>...</td>\n",
       "      <td>...</td>\n",
       "      <td>...</td>\n",
       "    </tr>\n",
       "    <tr>\n",
       "      <th>178432</th>\n",
       "      <td>196915</td>\n",
       "      <td>1</td>\n",
       "      <td>5</td>\n",
       "      <td>Atlanta</td>\n",
       "      <td>600.00</td>\n",
       "    </tr>\n",
       "    <tr>\n",
       "      <th>178433</th>\n",
       "      <td>196916</td>\n",
       "      <td>1</td>\n",
       "      <td>5</td>\n",
       "      <td>Dallas</td>\n",
       "      <td>2.99</td>\n",
       "    </tr>\n",
       "    <tr>\n",
       "      <th>178434</th>\n",
       "      <td>196918</td>\n",
       "      <td>1</td>\n",
       "      <td>5</td>\n",
       "      <td>Dallas</td>\n",
       "      <td>5.98</td>\n",
       "    </tr>\n",
       "    <tr>\n",
       "      <th>178435</th>\n",
       "      <td>196920</td>\n",
       "      <td>2</td>\n",
       "      <td>5</td>\n",
       "      <td>Los Angeles</td>\n",
       "      <td>26.90</td>\n",
       "    </tr>\n",
       "    <tr>\n",
       "      <th>178436</th>\n",
       "      <td>196925</td>\n",
       "      <td>1</td>\n",
       "      <td>5</td>\n",
       "      <td>San Francisco</td>\n",
       "      <td>5.98</td>\n",
       "    </tr>\n",
       "  </tbody>\n",
       "</table>\n",
       "<p>178437 rows × 5 columns</p>\n",
       "</div>"
      ],
      "text/plain": [
       "        order_id  nb_orders  month            city  revenue\n",
       "0         196937          1      5     Los Angeles   379.99\n",
       "1         196944          1      5     Los Angeles   149.99\n",
       "2         196950          1      5   New York City    11.99\n",
       "3         196951          1      5   San Francisco   150.00\n",
       "4         196955          1      5          Dallas   379.99\n",
       "...          ...        ...    ...             ...      ...\n",
       "178432    196915          1      5         Atlanta   600.00\n",
       "178433    196916          1      5          Dallas     2.99\n",
       "178434    196918          1      5          Dallas     5.98\n",
       "178435    196920          2      5     Los Angeles    26.90\n",
       "178436    196925          1      5   San Francisco     5.98\n",
       "\n",
       "[178437 rows x 5 columns]"
      ]
     },
     "execution_count": 30,
     "metadata": {},
     "output_type": "execute_result"
    }
   ],
   "source": [
    "# Requête SQL : récupation du fichier .parquet converti en DF pandas\n",
    "conn.execute(\"\"\"\n",
    "FROM 'dataset/aggregated_sales.parquet'\n",
    "            \"\"\").df()"
   ]
  }
 ],
 "metadata": {
  "kernelspec": {
   "display_name": ".venv",
   "language": "python",
   "name": "python3"
  },
  "language_info": {
   "codemirror_mode": {
    "name": "ipython",
    "version": 3
   },
   "file_extension": ".py",
   "mimetype": "text/x-python",
   "name": "python",
   "nbconvert_exporter": "python",
   "pygments_lexer": "ipython3",
   "version": "3.9.2"
  }
 },
 "nbformat": 4,
 "nbformat_minor": 2
}
