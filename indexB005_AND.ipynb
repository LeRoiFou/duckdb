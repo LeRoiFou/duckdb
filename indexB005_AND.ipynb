{
 "cells": [
  {
   "cell_type": "markdown",
   "metadata": {},
   "source": [
    "[SQL AND Operator](https://www.w3schools.com/sql/sql_and_or.asp)\n",
    "\n",
    "<b> Syntaxe : </b><br>\n",
    "SELECT column1, column2, ...\n",
    "FROM table_name <br>\n",
    "WHERE condition1 AND condition2 AND condition3 ...;\n",
    "\n",
    "<b> Objet de la requête : </b><br>\n",
    "La clause WHERE peut contenir un ou plusieurs opérateurs AND. <br>\n",
    "L'opérateur AND est utilisé pour filtrer les enregistrements sur la base de plusieurs conditions.\n",
    "\n",
    "Date : 10-01-24"
   ]
  },
  {
   "cell_type": "code",
   "execution_count": 1,
   "metadata": {},
   "outputs": [],
   "source": [
    "import duckdb\n",
    "import polars as pl"
   ]
  },
  {
   "cell_type": "code",
   "execution_count": 2,
   "metadata": {},
   "outputs": [],
   "source": [
    "# Création d'une BD vide\n",
    "conn = duckdb.connect()"
   ]
  },
  {
   "cell_type": "code",
   "execution_count": 4,
   "metadata": {},
   "outputs": [],
   "source": [
    "# Requête SQL : récupération de toutes les données du fichier .csv\n",
    "df = conn.execute(\n",
    "    \"\"\"\n",
    "    SELECT * FROM read_csv_auto('data/prisoners.csv', header=True)\n",
    "    \"\"\"\n",
    ").df()"
   ]
  },
  {
   "cell_type": "code",
   "execution_count": 5,
   "metadata": {},
   "outputs": [
    {
     "data": {
      "text/plain": [
       "<duckdb.duckdb.DuckDBPyConnection at 0x172b23f1f30>"
      ]
     },
     "execution_count": 5,
     "metadata": {},
     "output_type": "execute_result"
    }
   ],
   "source": [
    "# Requête SQL : enregistrement virtuel de la BD\n",
    "conn.register(\"df_view\", df)"
   ]
  },
  {
   "cell_type": "markdown",
   "metadata": {},
   "source": [
    "Requête SQL : Affichage des colonnes \"Last Name\", \"First Name\", \"Age at Execution\", et \"Race\" et filtrer lorsque la colonne \"Age at Execution\" est < à 30 et la colonne \"Race\" est égal à White et trie décroissant de la colonne \"Age at Execution\" avec affichage des 10 premières lignes"
   ]
  },
  {
   "cell_type": "code",
   "execution_count": 8,
   "metadata": {},
   "outputs": [],
   "source": [
    "df = conn.execute(\n",
    "    \"\"\"\n",
    "    SELECT \"Last Name\", \"First Name\", \"Age at Execution\", \"Race\"\n",
    "    FROM df_view\n",
    "    WHERE \"Age at Execution\" < 30 AND \"Race\" = 'White'\n",
    "    ORDER BY \"Age at Execution\" DESC\n",
    "    LIMIT 10\n",
    "    \"\"\"\n",
    ").df()"
   ]
  },
  {
   "cell_type": "code",
   "execution_count": 9,
   "metadata": {},
   "outputs": [
    {
     "data": {
      "text/html": [
       "<div><style>\n",
       ".dataframe > thead > tr,\n",
       ".dataframe > tbody > tr {\n",
       "  text-align: right;\n",
       "  white-space: pre-wrap;\n",
       "}\n",
       "</style>\n",
       "<small>shape: (10, 4)</small><table border=\"1\" class=\"dataframe\"><thead><tr><th>Last Name</th><th>First Name</th><th>Age at Execution</th><th>Race</th></tr><tr><td>str</td><td>str</td><td>i64</td><td>str</td></tr></thead><tbody><tr><td>&quot;Cobb&quot;</td><td>&quot;Richard&quot;</td><td>29</td><td>&quot;White&quot;</td></tr><tr><td>&quot;Ries&quot;</td><td>&quot;Joseph&quot;</td><td>29</td><td>&quot;White&quot;</td></tr><tr><td>&quot;Motley&quot;</td><td>&quot;Jeffery&quot;</td><td>29</td><td>&quot;White&quot;</td></tr><tr><td>&quot;Autry&quot;</td><td>&quot;James&quot;</td><td>29</td><td>&quot;White&quot;</td></tr><tr><td>&quot;Perry&quot;</td><td>&quot;Michael&quot;</td><td>28</td><td>&quot;White&quot;</td></tr><tr><td>&quot;Busby&quot;</td><td>&quot;Jasen&quot;</td><td>28</td><td>&quot;White&quot;</td></tr><tr><td>&quot;Massey&quot;</td><td>&quot;Jason&quot;</td><td>28</td><td>&quot;White&quot;</td></tr><tr><td>&quot;Garrett&quot;</td><td>&quot;Johnny&quot;</td><td>28</td><td>&quot;White&quot;</td></tr><tr><td>&quot;Barney&quot;</td><td>&quot;Jeffery&quot;</td><td>28</td><td>&quot;White&quot;</td></tr><tr><td>&quot;Rumbaugh&quot;</td><td>&quot;Charles&quot;</td><td>28</td><td>&quot;White&quot;</td></tr></tbody></table></div>"
      ],
      "text/plain": [
       "shape: (10, 4)\n",
       "┌───────────┬────────────┬──────────────────┬───────┐\n",
       "│ Last Name ┆ First Name ┆ Age at Execution ┆ Race  │\n",
       "│ ---       ┆ ---        ┆ ---              ┆ ---   │\n",
       "│ str       ┆ str        ┆ i64              ┆ str   │\n",
       "╞═══════════╪════════════╪══════════════════╪═══════╡\n",
       "│ Cobb      ┆ Richard    ┆ 29               ┆ White │\n",
       "│ Ries      ┆ Joseph     ┆ 29               ┆ White │\n",
       "│ Motley    ┆ Jeffery    ┆ 29               ┆ White │\n",
       "│ Autry     ┆ James      ┆ 29               ┆ White │\n",
       "│ Perry     ┆ Michael    ┆ 28               ┆ White │\n",
       "│ Busby     ┆ Jasen      ┆ 28               ┆ White │\n",
       "│ Massey    ┆ Jason      ┆ 28               ┆ White │\n",
       "│ Garrett   ┆ Johnny     ┆ 28               ┆ White │\n",
       "│ Barney    ┆ Jeffery    ┆ 28               ┆ White │\n",
       "│ Rumbaugh  ┆ Charles    ┆ 28               ┆ White │\n",
       "└───────────┴────────────┴──────────────────┴───────┘"
      ]
     },
     "execution_count": 9,
     "metadata": {},
     "output_type": "execute_result"
    }
   ],
   "source": [
    "# Récupérationd de la requête ci-avans dans une DF polars\n",
    "pl.from_pandas(df)"
   ]
  }
 ],
 "metadata": {
  "kernelspec": {
   "display_name": ".venv",
   "language": "python",
   "name": "python3"
  },
  "language_info": {
   "codemirror_mode": {
    "name": "ipython",
    "version": 3
   },
   "file_extension": ".py",
   "mimetype": "text/x-python",
   "name": "python",
   "nbconvert_exporter": "python",
   "pygments_lexer": "ipython3",
   "version": "3.12.5"
  }
 },
 "nbformat": 4,
 "nbformat_minor": 2
}
