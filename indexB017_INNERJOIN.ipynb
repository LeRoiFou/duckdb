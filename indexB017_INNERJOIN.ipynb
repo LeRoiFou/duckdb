{
 "cells": [
  {
   "cell_type": "markdown",
   "metadata": {},
   "source": [
    "[SQL INNER JOIN](https://www.w3schools.com/sql/sql_join_inner.asp)\n",
    "\n",
    "<b> Syntaxe : </b><br>\n",
    "SELECT column_name(s)\n",
    "FROM table1 <br>\n",
    "INNER JOIN table2\n",
    "ON table1.column_name = table2.column_name;\n",
    "\n",
    "<b> Objet de la requête : </b><br>\n",
    "Le mot-clé INNER JOIN sélectionne les enregistrements dont les valeurs correspondent dans les deux tables.\n",
    "\n",
    "Problème : comment effectuer des fusions ? <br>\n",
    "<b>Solution : fusions à opérer avec polars</b>\n",
    "\n",
    "Date : 20-01-24"
   ]
  },
  {
   "cell_type": "code",
   "execution_count": 1,
   "metadata": {},
   "outputs": [],
   "source": [
    "import duckdb\n",
    "from skimpy import skim"
   ]
  },
  {
   "cell_type": "code",
   "execution_count": 2,
   "metadata": {},
   "outputs": [],
   "source": [
    "# Connexion native à DuckDB : pour saisir du SQL sur notebook jupyter\n",
    "%load_ext sql\n",
    "conn = duckdb.connect()\n",
    "%sql conn --alias duckdb"
   ]
  },
  {
   "cell_type": "code",
   "execution_count": 3,
   "metadata": {},
   "outputs": [],
   "source": [
    "# Configurations sur jupysql pour afficher les données en DF\n",
    "%config SqlMagic.autopandas = True"
   ]
  },
  {
   "cell_type": "code",
   "execution_count": 4,
   "metadata": {},
   "outputs": [
    {
     "data": {
      "text/html": [
       "<span style=\"None\">Connecting and switching to connection &#x27;duckdb:///:default:&#x27;</span>"
      ],
      "text/plain": [
       "Connecting and switching to connection 'duckdb:///:default:'"
      ]
     },
     "metadata": {},
     "output_type": "display_data"
    }
   ],
   "source": [
    "# Connection jupysql à DuckDB\n",
    "%sql duckdb:///:default:"
   ]
  },
  {
   "cell_type": "markdown",
   "metadata": {},
   "source": [
    "Requête sql : récupération des données des tables de la BD"
   ]
  },
  {
   "cell_type": "code",
   "execution_count": 268,
   "metadata": {},
   "outputs": [
    {
     "data": {
      "text/html": [
       "<span style=\"None\">Running query in &#x27;duckdb:///:default:&#x27;</span>"
      ],
      "text/plain": [
       "Running query in 'duckdb:///:default:'"
      ]
     },
     "metadata": {},
     "output_type": "display_data"
    }
   ],
   "source": [
    "%%sql\n",
    "customers_df <<\n",
    "SELECT *\n",
    "FROM sqlite_scan('data/Ventes.db', 'Clients')"
   ]
  },
  {
   "cell_type": "code",
   "execution_count": 269,
   "metadata": {},
   "outputs": [
    {
     "data": {
      "text/html": [
       "<span style=\"None\">Running query in &#x27;duckdb:///:default:&#x27;</span>"
      ],
      "text/plain": [
       "Running query in 'duckdb:///:default:'"
      ]
     },
     "metadata": {},
     "output_type": "display_data"
    }
   ],
   "source": [
    "%%sql\n",
    "orders_df <<\n",
    "SELECT *\n",
    "FROM sqlite_scan('data/Ventes.db', 'Commandes')"
   ]
  },
  {
   "cell_type": "code",
   "execution_count": 270,
   "metadata": {},
   "outputs": [
    {
     "data": {
      "text/html": [
       "<span style=\"None\">Running query in &#x27;duckdb:///:default:&#x27;</span>"
      ],
      "text/plain": [
       "Running query in 'duckdb:///:default:'"
      ]
     },
     "metadata": {},
     "output_type": "display_data"
    }
   ],
   "source": [
    "%%sql\n",
    "products_df <<\n",
    "SELECT *\n",
    "FROM sqlite_scan('data/Ventes.db', 'Produits')"
   ]
  },
  {
   "cell_type": "markdown",
   "metadata": {},
   "source": [
    "Export des tables sous des fichiers .csv"
   ]
  },
  {
   "cell_type": "code",
   "execution_count": 271,
   "metadata": {},
   "outputs": [],
   "source": [
    "customers_df.to_csv('data/clients.csv')\n",
    "orders_df.to_csv('data/commandes.csv')\n",
    "products_df.to_csv('data/produits.csv')"
   ]
  },
  {
   "cell_type": "markdown",
   "metadata": {},
   "source": [
    "Traitements opérés avec la librairie pandas"
   ]
  },
  {
   "cell_type": "code",
   "execution_count": 272,
   "metadata": {},
   "outputs": [],
   "source": [
    "import polars as pl"
   ]
  },
  {
   "cell_type": "code",
   "execution_count": 273,
   "metadata": {},
   "outputs": [],
   "source": [
    "# Suppression de la 1ère colonne (index) des tables exportées\n",
    "customers_df = pl.read_csv('data/clients.csv').drop('')\n",
    "orders_df = pl.read_csv('data/commandes.csv').drop('')\n",
    "products_df = pl.read_csv('data/produits.csv').drop('')"
   ]
  },
  {
   "cell_type": "code",
   "execution_count": 274,
   "metadata": {},
   "outputs": [],
   "source": [
    "# Exportation à nouveau des fichiers .csv modifiés\n",
    "customers_df.write_csv('data/clients.csv')\n",
    "orders_df.write_csv('data/commandes.csv')\n",
    "products_df.write_csv('data/produits.csv')"
   ]
  },
  {
   "cell_type": "code",
   "execution_count": 279,
   "metadata": {},
   "outputs": [
    {
     "data": {
      "text/html": [
       "<span style=\"None\">Running query in &#x27;duckdb:///:default:&#x27;</span>"
      ],
      "text/plain": [
       "Running query in 'duckdb:///:default:'"
      ]
     },
     "metadata": {},
     "output_type": "display_data"
    },
    {
     "data": {
      "text/html": [
       "<div>\n",
       "<style scoped>\n",
       "    .dataframe tbody tr th:only-of-type {\n",
       "        vertical-align: middle;\n",
       "    }\n",
       "\n",
       "    .dataframe tbody tr th {\n",
       "        vertical-align: top;\n",
       "    }\n",
       "\n",
       "    .dataframe thead th {\n",
       "        text-align: right;\n",
       "    }\n",
       "</style>\n",
       "<table border=\"1\" class=\"dataframe\">\n",
       "  <thead>\n",
       "    <tr style=\"text-align: right;\">\n",
       "      <th></th>\n",
       "      <th>column0</th>\n",
       "      <th>column1</th>\n",
       "      <th>column2</th>\n",
       "      <th>column3</th>\n",
       "    </tr>\n",
       "  </thead>\n",
       "  <tbody>\n",
       "    <tr>\n",
       "      <th>0</th>\n",
       "      <td>ClientID</td>\n",
       "      <td>Segment</td>\n",
       "      <td>Prénom</td>\n",
       "      <td>Nom</td>\n",
       "    </tr>\n",
       "    <tr>\n",
       "      <th>1</th>\n",
       "      <td>CG-12520</td>\n",
       "      <td>Consumer</td>\n",
       "      <td>Claire</td>\n",
       "      <td>Gute</td>\n",
       "    </tr>\n",
       "    <tr>\n",
       "      <th>2</th>\n",
       "      <td>SO-20335</td>\n",
       "      <td>Consumer</td>\n",
       "      <td>Sean</td>\n",
       "      <td>O'Donnell</td>\n",
       "    </tr>\n",
       "  </tbody>\n",
       "</table>\n",
       "</div>"
      ],
      "text/plain": [
       "    column0   column1 column2    column3\n",
       "0  ClientID   Segment  Prénom        Nom\n",
       "1  CG-12520  Consumer  Claire       Gute\n",
       "2  SO-20335  Consumer    Sean  O'Donnell"
      ]
     },
     "execution_count": 279,
     "metadata": {},
     "output_type": "execute_result"
    }
   ],
   "source": [
    "%sql SELECT * FROM 'data/clients.csv' LIMIT 3;"
   ]
  },
  {
   "cell_type": "code",
   "execution_count": 276,
   "metadata": {},
   "outputs": [
    {
     "data": {
      "text/html": [
       "<span style=\"None\">Running query in &#x27;duckdb:///:default:&#x27;</span>"
      ],
      "text/plain": [
       "Running query in 'duckdb:///:default:'"
      ]
     },
     "metadata": {},
     "output_type": "display_data"
    },
    {
     "data": {
      "text/html": [
       "<div>\n",
       "<style scoped>\n",
       "    .dataframe tbody tr th:only-of-type {\n",
       "        vertical-align: middle;\n",
       "    }\n",
       "\n",
       "    .dataframe tbody tr th {\n",
       "        vertical-align: top;\n",
       "    }\n",
       "\n",
       "    .dataframe thead th {\n",
       "        text-align: right;\n",
       "    }\n",
       "</style>\n",
       "<table border=\"1\" class=\"dataframe\">\n",
       "  <thead>\n",
       "    <tr style=\"text-align: right;\">\n",
       "      <th></th>\n",
       "      <th>Cde</th>\n",
       "      <th>Dt</th>\n",
       "      <th>Livraison</th>\n",
       "      <th>ClientID</th>\n",
       "      <th>ProduitID</th>\n",
       "      <th>Qty</th>\n",
       "      <th>Rabais</th>\n",
       "      <th>ModeLivraison</th>\n",
       "    </tr>\n",
       "  </thead>\n",
       "  <tbody>\n",
       "    <tr>\n",
       "      <th>0</th>\n",
       "      <td>CA-2022-161480</td>\n",
       "      <td>2022-12-25</td>\n",
       "      <td>2022-12-31</td>\n",
       "      <td>RA-19285</td>\n",
       "      <td>FUR-BO-10004015</td>\n",
       "      <td>2</td>\n",
       "      <td>20 %</td>\n",
       "      <td>Standard Class</td>\n",
       "    </tr>\n",
       "    <tr>\n",
       "      <th>1</th>\n",
       "      <td>CA-2022-109715</td>\n",
       "      <td>2022-12-09</td>\n",
       "      <td>2022-12-14</td>\n",
       "      <td>AH-10585</td>\n",
       "      <td>OFF-PA-10004965</td>\n",
       "      <td>2</td>\n",
       "      <td>20 %</td>\n",
       "      <td>Standard Class</td>\n",
       "    </tr>\n",
       "    <tr>\n",
       "      <th>2</th>\n",
       "      <td>CA-2022-152660</td>\n",
       "      <td>2022-12-04</td>\n",
       "      <td>2022-12-10</td>\n",
       "      <td>CB-12415</td>\n",
       "      <td>OFF-ST-10000532</td>\n",
       "      <td>2</td>\n",
       "      <td>20 %</td>\n",
       "      <td>Standard Class</td>\n",
       "    </tr>\n",
       "  </tbody>\n",
       "</table>\n",
       "</div>"
      ],
      "text/plain": [
       "              Cde         Dt  Livraison  ClientID        ProduitID Qty Rabais  \\\n",
       "0  CA-2022-161480 2022-12-25 2022-12-31  RA-19285  FUR-BO-10004015   2   20 %   \n",
       "1  CA-2022-109715 2022-12-09 2022-12-14  AH-10585  OFF-PA-10004965   2   20 %   \n",
       "2  CA-2022-152660 2022-12-04 2022-12-10  CB-12415  OFF-ST-10000532   2   20 %   \n",
       "\n",
       "    ModeLivraison  \n",
       "0  Standard Class  \n",
       "1  Standard Class  \n",
       "2  Standard Class  "
      ]
     },
     "execution_count": 276,
     "metadata": {},
     "output_type": "execute_result"
    }
   ],
   "source": [
    "%sql SELECT * FROM 'data/commandes.csv' LIMIT 3;"
   ]
  },
  {
   "cell_type": "code",
   "execution_count": 277,
   "metadata": {},
   "outputs": [
    {
     "data": {
      "text/html": [
       "<span style=\"None\">Running query in &#x27;duckdb:///:default:&#x27;</span>"
      ],
      "text/plain": [
       "Running query in 'duckdb:///:default:'"
      ]
     },
     "metadata": {},
     "output_type": "display_data"
    },
    {
     "data": {
      "text/html": [
       "<div>\n",
       "<style scoped>\n",
       "    .dataframe tbody tr th:only-of-type {\n",
       "        vertical-align: middle;\n",
       "    }\n",
       "\n",
       "    .dataframe tbody tr th {\n",
       "        vertical-align: top;\n",
       "    }\n",
       "\n",
       "    .dataframe thead th {\n",
       "        text-align: right;\n",
       "    }\n",
       "</style>\n",
       "<table border=\"1\" class=\"dataframe\">\n",
       "  <thead>\n",
       "    <tr style=\"text-align: right;\">\n",
       "      <th></th>\n",
       "      <th>ProdID</th>\n",
       "      <th>Produit</th>\n",
       "      <th>PrixUnitaire</th>\n",
       "      <th>Coût</th>\n",
       "      <th>Cat</th>\n",
       "      <th>SousCat</th>\n",
       "    </tr>\n",
       "  </thead>\n",
       "  <tbody>\n",
       "    <tr>\n",
       "      <th>0</th>\n",
       "      <td>OFF-PA-10000007</td>\n",
       "      <td>Telephone Message Books with Fax/Mobile Sectio...</td>\n",
       "      <td>3.60</td>\n",
       "      <td>1.9</td>\n",
       "      <td>Office Supplies</td>\n",
       "      <td>Paper</td>\n",
       "    </tr>\n",
       "    <tr>\n",
       "      <th>1</th>\n",
       "      <td>OFF-PA-10000019</td>\n",
       "      <td>Xerox 1931</td>\n",
       "      <td>6.48</td>\n",
       "      <td>3.4</td>\n",
       "      <td>Office Supplies</td>\n",
       "      <td>Paper</td>\n",
       "    </tr>\n",
       "    <tr>\n",
       "      <th>2</th>\n",
       "      <td>OFF-PA-10000029</td>\n",
       "      <td>Xerox 224</td>\n",
       "      <td>6.48</td>\n",
       "      <td>3.4</td>\n",
       "      <td>Office Supplies</td>\n",
       "      <td>Paper</td>\n",
       "    </tr>\n",
       "  </tbody>\n",
       "</table>\n",
       "</div>"
      ],
      "text/plain": [
       "            ProdID                                            Produit  \\\n",
       "0  OFF-PA-10000007  Telephone Message Books with Fax/Mobile Sectio...   \n",
       "1  OFF-PA-10000019                                         Xerox 1931   \n",
       "2  OFF-PA-10000029                                          Xerox 224   \n",
       "\n",
       "   PrixUnitaire  Coût              Cat SousCat  \n",
       "0          3.60   1.9  Office Supplies   Paper  \n",
       "1          6.48   3.4  Office Supplies   Paper  \n",
       "2          6.48   3.4  Office Supplies   Paper  "
      ]
     },
     "execution_count": 277,
     "metadata": {},
     "output_type": "execute_result"
    }
   ],
   "source": [
    "%sql SELECT * FROM 'data/produits.csv' LIMIT 3;"
   ]
  }
 ],
 "metadata": {
  "kernelspec": {
   "display_name": ".venv",
   "language": "python",
   "name": "python3"
  },
  "language_info": {
   "codemirror_mode": {
    "name": "ipython",
    "version": 3
   },
   "file_extension": ".py",
   "mimetype": "text/x-python",
   "name": "python",
   "nbconvert_exporter": "python",
   "pygments_lexer": "ipython3",
   "version": "3.9.2"
  }
 },
 "nbformat": 4,
 "nbformat_minor": 2
}
