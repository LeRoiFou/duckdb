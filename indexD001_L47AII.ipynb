{
 "cells": [
  {
   "cell_type": "markdown",
   "metadata": {},
   "source": [
    "### Test sur fichiers L47AII\n",
    "\n",
    "La conversion d'un fichier en encodage utf-8 prend du temps, mais toutes les requêtes SQL avec duckdb fonctionnent pour les gros fichiers contrairement à certaines requêtes effectuées sur Java Spark SQL et le temps d'exécution des requêtes sur DuckDB est largement plus rapide que sur Java Spark SQL\n",
    "\n",
    "Date : 12-04-2024\n",
    "\n",
    "Éditeur : Laurent Reynaud"
   ]
  },
  {
   "cell_type": "markdown",
   "metadata": {},
   "source": [
    "Le traitement porte ici sur l'identité des clients : montant des espèces payés, quantité de marchandises achetées"
   ]
  },
  {
   "cell_type": "code",
   "execution_count": 1,
   "metadata": {},
   "outputs": [],
   "source": [
    "import duckdb\n",
    "from skimpy import skim"
   ]
  },
  {
   "cell_type": "code",
   "execution_count": 2,
   "metadata": {},
   "outputs": [
    {
     "name": "stdout",
     "output_type": "stream",
     "text": [
      "0.10.1\n"
     ]
    }
   ],
   "source": [
    "# Version de duckdb\n",
    "print(duckdb.__version__)"
   ]
  },
  {
   "cell_type": "markdown",
   "metadata": {},
   "source": [
    "### Fichiers Excel à charger..."
   ]
  },
  {
   "cell_type": "code",
   "execution_count": null,
   "metadata": {},
   "outputs": [],
   "source": [
    "# # Installation et extension de spatial pour les fichiers Excel\n",
    "# duckdb.install_extension(\"spatial\")\n",
    "# duckdb.load_extension(\"spatial\")"
   ]
  },
  {
   "cell_type": "code",
   "execution_count": null,
   "metadata": {},
   "outputs": [],
   "source": [
    "# # Lecture d'un fichier Excel avec en-tête en première ligne\n",
    "# # https://duckdb.org/docs/guides/import/excel_import.html\n",
    "# %sql SELECT * FROM st_read('data/Quantites.xlsx', open_options = ['HEADERS=FORCE']);"
   ]
  },
  {
   "cell_type": "markdown",
   "metadata": {},
   "source": [
    "### Fichiers non encodés utf-8\n",
    "\n",
    "Les fonctions ci-après sont à utiliser dans le cas où l'encodage n'est pas de type utf-8 : la librairie duckdb ne charge que les fichiers avec un encodage de type utf-8 pour les CSV -> [documentation](https://duckdb.org/docs/data/csv/overview.html)\n",
    "\n",
    "Pour voir si un fichier a un encodage utf-8, il suffit de le charger sur sur l'application Notepad++ et voir l'encodage affiché au menu en bas de la fenêtre de cette application\n",
    "\n",
    "Temps de conversion pour un fichier d'1 Go => pratiquement 1 heure"
   ]
  },
  {
   "cell_type": "code",
   "execution_count": 1,
   "metadata": {},
   "outputs": [],
   "source": [
    "# Fonction pour détecter l'encodage d'un fichier CSV :\n",
    "import chardet\n",
    "def detect_encoding(file_path):\n",
    "    with open(file_path, 'rb') as f:\n",
    "        result = chardet.detect(f.read())\n",
    "    return result['encoding']"
   ]
  },
  {
   "cell_type": "code",
   "execution_count": 6,
   "metadata": {},
   "outputs": [],
   "source": [
    "# Fonction pour convertir le fichier CSV en encodage UTF-8 :\n",
    "def convert_to_utf8(input_file, output_file):\n",
    "    encoding = detect_encoding(input_file)\n",
    "    with open(input_file, 'r', encoding=encoding, errors='ignore') as f_in, \\\n",
    "         open(output_file, 'w', newline='', encoding='utf-8', errors='ignore') as f_out:\n",
    "             f_out.write(f_in.read())"
   ]
  },
  {
   "cell_type": "code",
   "execution_count": 7,
   "metadata": {},
   "outputs": [],
   "source": [
    "# # Appelez ces fonctions pour convertir votre fichier CSV\n",
    "# input_file = 'data/indexD001/DGITRAI222.csv'\n",
    "# output_file = 'data/indexD001/DGITRAI222-utf8.csv'\n",
    "# convert_to_utf8(input_file, output_file)"
   ]
  },
  {
   "cell_type": "markdown",
   "metadata": {},
   "source": [
    "### Configuration de JupySQL"
   ]
  },
  {
   "cell_type": "code",
   "execution_count": 2,
   "metadata": {},
   "outputs": [],
   "source": [
    "# Connexion native à DuckDB : pour saisir du SQL sur notebook jupyter\n",
    "%load_ext sql\n",
    "conn = duckdb.connect()\n",
    "%sql conn --alias duckdb"
   ]
  },
  {
   "cell_type": "code",
   "execution_count": 3,
   "metadata": {},
   "outputs": [],
   "source": [
    "# Configurations sur jupysql pour afficher les données en DF\n",
    "%config SqlMagic.autopandas = True"
   ]
  },
  {
   "cell_type": "code",
   "execution_count": 4,
   "metadata": {},
   "outputs": [
    {
     "data": {
      "text/html": [
       "<span style=\"None\">Connecting and switching to connection &#x27;duckdb:///:default:&#x27;</span>"
      ],
      "text/plain": [
       "Connecting and switching to connection 'duckdb:///:default:'"
      ]
     },
     "metadata": {},
     "output_type": "display_data"
    }
   ],
   "source": [
    "# Connection jupysql à DuckDB\n",
    "%sql duckdb:///:default:"
   ]
  },
  {
   "cell_type": "markdown",
   "metadata": {},
   "source": [
    "### Requêtes SQL"
   ]
  },
  {
   "cell_type": "markdown",
   "metadata": {},
   "source": [
    "Affichage des premières lignes"
   ]
  },
  {
   "cell_type": "code",
   "execution_count": 5,
   "metadata": {},
   "outputs": [
    {
     "data": {
      "text/html": [
       "<span style=\"None\">Running query in &#x27;duckdb:///:default:&#x27;</span>"
      ],
      "text/plain": [
       "Running query in 'duckdb:///:default:'"
      ]
     },
     "metadata": {},
     "output_type": "display_data"
    }
   ],
   "source": [
    "%%sql \n",
    "df << \n",
    "SELECT * FROM 'data/indexD001/DGITRAI222-utf8.csv' LIMIT 5;"
   ]
  },
  {
   "cell_type": "code",
   "execution_count": 6,
   "metadata": {},
   "outputs": [
    {
     "data": {
      "text/html": [
       "<div>\n",
       "<style scoped>\n",
       "    .dataframe tbody tr th:only-of-type {\n",
       "        vertical-align: middle;\n",
       "    }\n",
       "\n",
       "    .dataframe tbody tr th {\n",
       "        vertical-align: top;\n",
       "    }\n",
       "\n",
       "    .dataframe thead th {\n",
       "        text-align: right;\n",
       "    }\n",
       "</style>\n",
       "<table border=\"1\" class=\"dataframe\">\n",
       "  <thead>\n",
       "    <tr style=\"text-align: right;\">\n",
       "      <th></th>\n",
       "      <th>ENNUME</th>\n",
       "      <th>ENSEQU</th>\n",
       "      <th>ENCLIE</th>\n",
       "      <th>ENFOUA</th>\n",
       "      <th>ENTHT</th>\n",
       "      <th>ENTTC</th>\n",
       "      <th>ENMRGT</th>\n",
       "      <th>ENNFAC</th>\n",
       "      <th>ENTKCA</th>\n",
       "      <th>ENDFAA</th>\n",
       "      <th>...</th>\n",
       "      <th>ALNSEQ</th>\n",
       "      <th>ALTYPE</th>\n",
       "      <th>ALSEQU</th>\n",
       "      <th>ALLIGNB</th>\n",
       "      <th>CLNOM</th>\n",
       "      <th>CLADR1</th>\n",
       "      <th>CLADR2</th>\n",
       "      <th>CLPTT</th>\n",
       "      <th>CLVILL</th>\n",
       "      <th>CLCLIE</th>\n",
       "    </tr>\n",
       "  </thead>\n",
       "  <tbody>\n",
       "    <tr>\n",
       "      <th>0</th>\n",
       "      <td>69854</td>\n",
       "      <td>2</td>\n",
       "      <td>ZZ009</td>\n",
       "      <td>A</td>\n",
       "      <td>-850.78</td>\n",
       "      <td>-1020.94</td>\n",
       "      <td>SCR</td>\n",
       "      <td>4811899</td>\n",
       "      <td></td>\n",
       "      <td>22</td>\n",
       "      <td>...</td>\n",
       "      <td>0</td>\n",
       "      <td>A</td>\n",
       "      <td>6</td>\n",
       "      <td>LUTRINGER MARIE PASCALE 19 RUE PRINCIPALE 6876...</td>\n",
       "      <td>COMPTANT PART CERNAY</td>\n",
       "      <td></td>\n",
       "      <td></td>\n",
       "      <td></td>\n",
       "      <td></td>\n",
       "      <td>ZZ009</td>\n",
       "    </tr>\n",
       "    <tr>\n",
       "      <th>1</th>\n",
       "      <td>118936</td>\n",
       "      <td>1</td>\n",
       "      <td>ZZ074</td>\n",
       "      <td>A</td>\n",
       "      <td>-115.31</td>\n",
       "      <td>-138.37</td>\n",
       "      <td>ESP</td>\n",
       "      <td>4658617</td>\n",
       "      <td></td>\n",
       "      <td>22</td>\n",
       "      <td>...</td>\n",
       "      <td>0</td>\n",
       "      <td>A</td>\n",
       "      <td>6</td>\n",
       "      <td>DESCHAMPS JORDAN 6 RUE DES GENEVRIERS 25660 SA...</td>\n",
       "      <td>COMPTANT ELEC THISE</td>\n",
       "      <td></td>\n",
       "      <td></td>\n",
       "      <td></td>\n",
       "      <td></td>\n",
       "      <td>ZZ074</td>\n",
       "    </tr>\n",
       "    <tr>\n",
       "      <th>2</th>\n",
       "      <td>118936</td>\n",
       "      <td>1</td>\n",
       "      <td>ZZ074</td>\n",
       "      <td>A</td>\n",
       "      <td>-115.31</td>\n",
       "      <td>-138.37</td>\n",
       "      <td>ESP</td>\n",
       "      <td>4658617</td>\n",
       "      <td></td>\n",
       "      <td>22</td>\n",
       "      <td>...</td>\n",
       "      <td>0</td>\n",
       "      <td>A</td>\n",
       "      <td>6</td>\n",
       "      <td>DESCHAMPS JORDAN 6 RUE DES GENEVRIERS 25660 SA...</td>\n",
       "      <td>COMPTANT ELEC THISE</td>\n",
       "      <td></td>\n",
       "      <td></td>\n",
       "      <td></td>\n",
       "      <td></td>\n",
       "      <td>ZZ074</td>\n",
       "    </tr>\n",
       "    <tr>\n",
       "      <th>3</th>\n",
       "      <td>118936</td>\n",
       "      <td>1</td>\n",
       "      <td>ZZ074</td>\n",
       "      <td>A</td>\n",
       "      <td>-115.31</td>\n",
       "      <td>-138.37</td>\n",
       "      <td>ESP</td>\n",
       "      <td>4658617</td>\n",
       "      <td></td>\n",
       "      <td>22</td>\n",
       "      <td>...</td>\n",
       "      <td>0</td>\n",
       "      <td>A</td>\n",
       "      <td>6</td>\n",
       "      <td>DESCHAMPS JORDAN 6 RUE DES GENEVRIERS 25660 SA...</td>\n",
       "      <td>COMPTANT ELEC THISE</td>\n",
       "      <td></td>\n",
       "      <td></td>\n",
       "      <td></td>\n",
       "      <td></td>\n",
       "      <td>ZZ074</td>\n",
       "    </tr>\n",
       "    <tr>\n",
       "      <th>4</th>\n",
       "      <td>118936</td>\n",
       "      <td>1</td>\n",
       "      <td>ZZ074</td>\n",
       "      <td>A</td>\n",
       "      <td>-115.31</td>\n",
       "      <td>-138.37</td>\n",
       "      <td>ESP</td>\n",
       "      <td>4658617</td>\n",
       "      <td></td>\n",
       "      <td>22</td>\n",
       "      <td>...</td>\n",
       "      <td>0</td>\n",
       "      <td>A</td>\n",
       "      <td>6</td>\n",
       "      <td>DESCHAMPS JORDAN 6 RUE DES GENEVRIERS 25660 SA...</td>\n",
       "      <td>COMPTANT ELEC THISE</td>\n",
       "      <td></td>\n",
       "      <td></td>\n",
       "      <td></td>\n",
       "      <td></td>\n",
       "      <td>ZZ074</td>\n",
       "    </tr>\n",
       "  </tbody>\n",
       "</table>\n",
       "<p>5 rows × 32 columns</p>\n",
       "</div>"
      ],
      "text/plain": [
       "   ENNUME  ENSEQU ENCLIE ENFOUA          ENTHT          ENTTC ENMRGT   ENNFAC  \\\n",
       "0   69854       2  ZZ009      A  -850.78        -1020.94         SCR  4811899   \n",
       "1  118936       1  ZZ074      A  -115.31        -138.37          ESP  4658617   \n",
       "2  118936       1  ZZ074      A  -115.31        -138.37          ESP  4658617   \n",
       "3  118936       1  ZZ074      A  -115.31        -138.37          ESP  4658617   \n",
       "4  118936       1  ZZ074      A  -115.31        -138.37          ESP  4658617   \n",
       "\n",
       "  ENTKCA  ENDFAA  ...  ALNSEQ  ALTYPE ALSEQU  \\\n",
       "0             22  ...       0       A      6   \n",
       "1             22  ...       0       A      6   \n",
       "2             22  ...       0       A      6   \n",
       "3             22  ...       0       A      6   \n",
       "4             22  ...       0       A      6   \n",
       "\n",
       "                                             ALLIGNB  \\\n",
       "0  LUTRINGER MARIE PASCALE 19 RUE PRINCIPALE 6876...   \n",
       "1  DESCHAMPS JORDAN 6 RUE DES GENEVRIERS 25660 SA...   \n",
       "2  DESCHAMPS JORDAN 6 RUE DES GENEVRIERS 25660 SA...   \n",
       "3  DESCHAMPS JORDAN 6 RUE DES GENEVRIERS 25660 SA...   \n",
       "4  DESCHAMPS JORDAN 6 RUE DES GENEVRIERS 25660 SA...   \n",
       "\n",
       "                            CLNOM                          CLADR1  \\\n",
       "0  COMPTANT PART CERNAY                                             \n",
       "1  COMPTANT ELEC THISE                                              \n",
       "2  COMPTANT ELEC THISE                                              \n",
       "3  COMPTANT ELEC THISE                                              \n",
       "4  COMPTANT ELEC THISE                                              \n",
       "\n",
       "                           CLADR2  CLPTT                          CLVILL  \\\n",
       "0                                                                          \n",
       "1                                                                          \n",
       "2                                                                          \n",
       "3                                                                          \n",
       "4                                                                          \n",
       "\n",
       "  CLCLIE  \n",
       "0  ZZ009  \n",
       "1  ZZ074  \n",
       "2  ZZ074  \n",
       "3  ZZ074  \n",
       "4  ZZ074  \n",
       "\n",
       "[5 rows x 32 columns]"
      ]
     },
     "execution_count": 6,
     "metadata": {},
     "output_type": "execute_result"
    }
   ],
   "source": [
    "df.head()"
   ]
  },
  {
   "cell_type": "markdown",
   "metadata": {},
   "source": [
    "Nombre de lignes"
   ]
  },
  {
   "cell_type": "code",
   "execution_count": 7,
   "metadata": {},
   "outputs": [
    {
     "data": {
      "text/html": [
       "<span style=\"None\">Running query in &#x27;duckdb:///:default:&#x27;</span>"
      ],
      "text/plain": [
       "Running query in 'duckdb:///:default:'"
      ]
     },
     "metadata": {},
     "output_type": "display_data"
    },
    {
     "data": {
      "application/vnd.jupyter.widget-view+json": {
       "model_id": "045cdff0c99e46c7af9d0420ab3e2026",
       "version_major": 2,
       "version_minor": 0
      },
      "text/plain": [
       "FloatProgress(value=0.0, layout=Layout(width='auto'), style=ProgressStyle(bar_color='black'))"
      ]
     },
     "metadata": {},
     "output_type": "display_data"
    },
    {
     "data": {
      "text/html": [
       "<div>\n",
       "<style scoped>\n",
       "    .dataframe tbody tr th:only-of-type {\n",
       "        vertical-align: middle;\n",
       "    }\n",
       "\n",
       "    .dataframe tbody tr th {\n",
       "        vertical-align: top;\n",
       "    }\n",
       "\n",
       "    .dataframe thead th {\n",
       "        text-align: right;\n",
       "    }\n",
       "</style>\n",
       "<table border=\"1\" class=\"dataframe\">\n",
       "  <thead>\n",
       "    <tr style=\"text-align: right;\">\n",
       "      <th></th>\n",
       "      <th>count_star()</th>\n",
       "    </tr>\n",
       "  </thead>\n",
       "  <tbody>\n",
       "    <tr>\n",
       "      <th>0</th>\n",
       "      <td>1657858</td>\n",
       "    </tr>\n",
       "  </tbody>\n",
       "</table>\n",
       "</div>"
      ],
      "text/plain": [
       "   count_star()\n",
       "0       1657858"
      ]
     },
     "execution_count": 7,
     "metadata": {},
     "output_type": "execute_result"
    }
   ],
   "source": [
    "%sql SELECT COUNT(*) FROM 'data/indexD001/DGITRAI222-utf8.csv';"
   ]
  },
  {
   "cell_type": "markdown",
   "metadata": {},
   "source": [
    "Affichage des différents types de paiements et leurs montants par ordre décroissant"
   ]
  },
  {
   "cell_type": "code",
   "execution_count": 8,
   "metadata": {},
   "outputs": [
    {
     "data": {
      "text/html": [
       "<span style=\"None\">Running query in &#x27;duckdb:///:default:&#x27;</span>"
      ],
      "text/plain": [
       "Running query in 'duckdb:///:default:'"
      ]
     },
     "metadata": {},
     "output_type": "display_data"
    }
   ],
   "source": [
    "%%sql\n",
    "dfpayment <<\n",
    "SELECT \"ENMRGT\", SUM(\"ENTTC\") AS \"Montant\" \n",
    "FROM read_csv('data/indexD001/DGITRAI222-utf8.csv', types={\"ENTTC\": \"DECIMAL(10, 2)\"}) \n",
    "GROUP BY \"ENMRGT\" \n",
    "ORDER BY \"Montant\" DESC;"
   ]
  },
  {
   "cell_type": "code",
   "execution_count": 9,
   "metadata": {},
   "outputs": [
    {
     "data": {
      "text/html": [
       "<div>\n",
       "<style scoped>\n",
       "    .dataframe tbody tr th:only-of-type {\n",
       "        vertical-align: middle;\n",
       "    }\n",
       "\n",
       "    .dataframe tbody tr th {\n",
       "        vertical-align: top;\n",
       "    }\n",
       "\n",
       "    .dataframe thead th {\n",
       "        text-align: right;\n",
       "    }\n",
       "</style>\n",
       "<table border=\"1\" class=\"dataframe\">\n",
       "  <thead>\n",
       "    <tr style=\"text-align: right;\">\n",
       "      <th></th>\n",
       "      <th>ENMRGT</th>\n",
       "      <th>Montant</th>\n",
       "    </tr>\n",
       "  </thead>\n",
       "  <tbody>\n",
       "    <tr>\n",
       "      <th>0</th>\n",
       "      <td>TRA</td>\n",
       "      <td>8.281783e+08</td>\n",
       "    </tr>\n",
       "    <tr>\n",
       "      <th>1</th>\n",
       "      <td>CHE</td>\n",
       "      <td>1.574164e+08</td>\n",
       "    </tr>\n",
       "    <tr>\n",
       "      <th>2</th>\n",
       "      <td>VIR</td>\n",
       "      <td>1.204510e+08</td>\n",
       "    </tr>\n",
       "    <tr>\n",
       "      <th>3</th>\n",
       "      <td>SCR</td>\n",
       "      <td>1.073265e+08</td>\n",
       "    </tr>\n",
       "    <tr>\n",
       "      <th>4</th>\n",
       "      <td>CB</td>\n",
       "      <td>6.913738e+07</td>\n",
       "    </tr>\n",
       "  </tbody>\n",
       "</table>\n",
       "</div>"
      ],
      "text/plain": [
       "  ENMRGT       Montant\n",
       "0    TRA  8.281783e+08\n",
       "1    CHE  1.574164e+08\n",
       "2    VIR  1.204510e+08\n",
       "3    SCR  1.073265e+08\n",
       "4    CB   6.913738e+07"
      ]
     },
     "execution_count": 9,
     "metadata": {},
     "output_type": "execute_result"
    }
   ],
   "source": [
    "dfpayment.head()"
   ]
  },
  {
   "cell_type": "code",
   "execution_count": 30,
   "metadata": {},
   "outputs": [],
   "source": [
    "# dfpayment.to_excel('data/indexD001/2022_payment.xlsx')"
   ]
  },
  {
   "cell_type": "markdown",
   "metadata": {},
   "source": [
    "Affichage des clients qui payent en espèces et à partir d'un montant >= à 5 000 € et le champ CLNOM (RAISON SOCIAL) ne contient pas le mot 'COMPTANT'"
   ]
  },
  {
   "cell_type": "code",
   "execution_count": 10,
   "metadata": {},
   "outputs": [
    {
     "data": {
      "text/html": [
       "<span style=\"None\">Running query in &#x27;duckdb:///:default:&#x27;</span>"
      ],
      "text/plain": [
       "Running query in 'duckdb:///:default:'"
      ]
     },
     "metadata": {},
     "output_type": "display_data"
    },
    {
     "data": {
      "application/vnd.jupyter.widget-view+json": {
       "model_id": "34c548aad2b74116a4c00338d2030405",
       "version_major": 2,
       "version_minor": 0
      },
      "text/plain": [
       "FloatProgress(value=0.0, layout=Layout(width='auto'), style=ProgressStyle(bar_color='black'))"
      ]
     },
     "metadata": {},
     "output_type": "display_data"
    },
    {
     "data": {
      "application/vnd.jupyter.widget-view+json": {
       "model_id": "4746e9721b1146a28f9a08154b1f84a5",
       "version_major": 2,
       "version_minor": 0
      },
      "text/plain": [
       "FloatProgress(value=0.0, layout=Layout(width='auto'), style=ProgressStyle(bar_color='black'))"
      ]
     },
     "metadata": {},
     "output_type": "display_data"
    }
   ],
   "source": [
    "%%sql\n",
    "dfCashAndNoComptant <<\n",
    "SELECT CLCLIE, ALLIGNB, CLNOM, CLADR1, CLADR2, CLPTT, CLVILL, \n",
    "ENMRGT, SUM(ENTTC) AS Montant \n",
    "FROM read_csv('data/indexD001/DGITRAI222-utf8.csv', types={\"ENTTC\": \"DECIMAL(10, 2)\"}) \n",
    "GROUP BY CLCLIE, ALLIGNB, CLNOM, CLADR1, CLADR2, CLPTT, CLVILL, ENMRGT\n",
    "HAVING ENMRGT LIKE 'ESP' \n",
    "AND Montant >= 5000 \n",
    "AND CLNOM NOT LIKE '%COMPTANT%' \n",
    "ORDER BY Montant DESC;"
   ]
  },
  {
   "cell_type": "code",
   "execution_count": 11,
   "metadata": {},
   "outputs": [
    {
     "data": {
      "text/html": [
       "<pre style=\"white-space:pre;overflow-x:auto;line-height:normal;font-family:Menlo,'DejaVu Sans Mono',consolas,'Courier New',monospace\">╭──────────────────────────────────────────────── skimpy summary ─────────────────────────────────────────────────╮\n",
       "│ <span style=\"font-style: italic\">         Data Summary         </span> <span style=\"font-style: italic\">      Data Types       </span>                                                          │\n",
       "│ ┏━━━━━━━━━━━━━━━━━━━┳━━━━━━━━┓ ┏━━━━━━━━━━━━━┳━━━━━━━┓                                                          │\n",
       "│ ┃<span style=\"color: #008080; text-decoration-color: #008080; font-weight: bold\"> dataframe         </span>┃<span style=\"color: #008080; text-decoration-color: #008080; font-weight: bold\"> Values </span>┃ ┃<span style=\"color: #008080; text-decoration-color: #008080; font-weight: bold\"> Column Type </span>┃<span style=\"color: #008080; text-decoration-color: #008080; font-weight: bold\"> Count </span>┃                                                          │\n",
       "│ ┡━━━━━━━━━━━━━━━━━━━╇━━━━━━━━┩ ┡━━━━━━━━━━━━━╇━━━━━━━┩                                                          │\n",
       "│ │ Number of rows    │ 93     │ │ string      │ 8     │                                                          │\n",
       "│ │ Number of columns │ 9      │ │ float64     │ 1     │                                                          │\n",
       "│ └───────────────────┴────────┘ └─────────────┴───────┘                                                          │\n",
       "│ <span style=\"font-style: italic\">                                                    number                                                    </span>  │\n",
       "│ ┏━━━━━━━━━━━━━━━━━┳━━━━━┳━━━━━━━━┳━━━━━━━━━┳━━━━━━━━━┳━━━━━━━━┳━━━━━━━┳━━━━━━━━━┳━━━━━━━━┳━━━━━━━━━┳━━━━━━━━━┓  │\n",
       "│ ┃<span style=\"font-weight: bold\"> column_name     </span>┃<span style=\"font-weight: bold\"> NA  </span>┃<span style=\"font-weight: bold\"> NA %   </span>┃<span style=\"font-weight: bold\"> mean    </span>┃<span style=\"font-weight: bold\"> sd      </span>┃<span style=\"font-weight: bold\"> p0     </span>┃<span style=\"font-weight: bold\"> p25   </span>┃<span style=\"font-weight: bold\"> p50     </span>┃<span style=\"font-weight: bold\"> p75    </span>┃<span style=\"font-weight: bold\"> p100    </span>┃<span style=\"font-weight: bold\"> hist    </span>┃  │\n",
       "│ ┡━━━━━━━━━━━━━━━━━╇━━━━━╇━━━━━━━━╇━━━━━━━━━╇━━━━━━━━━╇━━━━━━━━╇━━━━━━━╇━━━━━━━━━╇━━━━━━━━╇━━━━━━━━━╇━━━━━━━━━┩  │\n",
       "│ │ <span style=\"color: #af87ff; text-decoration-color: #af87ff\">Montant        </span> │ <span style=\"color: #008080; text-decoration-color: #008080\">  0</span> │ <span style=\"color: #008080; text-decoration-color: #008080\">     0</span> │ <span style=\"color: #008080; text-decoration-color: #008080\">  18000</span> │ <span style=\"color: #008080; text-decoration-color: #008080\">  30000</span> │ <span style=\"color: #008080; text-decoration-color: #008080\">  5100</span> │ <span style=\"color: #008080; text-decoration-color: #008080\"> 7000</span> │ <span style=\"color: #008080; text-decoration-color: #008080\">  11000</span> │ <span style=\"color: #008080; text-decoration-color: #008080\"> 16000</span> │ <span style=\"color: #008080; text-decoration-color: #008080\"> 280000</span> │ <span style=\"color: #008000; text-decoration-color: #008000\">   ▇   </span> │  │\n",
       "│ └─────────────────┴─────┴────────┴─────────┴─────────┴────────┴───────┴─────────┴────────┴─────────┴─────────┘  │\n",
       "│ <span style=\"font-style: italic\">                                                    string                                                    </span>  │\n",
       "│ ┏━━━━━━━━━━━━━━━━━━━━━━━━━━━┳━━━━━━━━━┳━━━━━━━━━━━━┳━━━━━━━━━━━━━━━━━━━━━━━━━━━━━━┳━━━━━━━━━━━━━━━━━━━━━━━━━━┓  │\n",
       "│ ┃<span style=\"font-weight: bold\"> column_name               </span>┃<span style=\"font-weight: bold\"> NA      </span>┃<span style=\"font-weight: bold\"> NA %       </span>┃<span style=\"font-weight: bold\"> words per row                </span>┃<span style=\"font-weight: bold\"> total words              </span>┃  │\n",
       "│ ┡━━━━━━━━━━━━━━━━━━━━━━━━━━━╇━━━━━━━━━╇━━━━━━━━━━━━╇━━━━━━━━━━━━━━━━━━━━━━━━━━━━━━╇━━━━━━━━━━━━━━━━━━━━━━━━━━┩  │\n",
       "│ │ <span style=\"color: #af87ff; text-decoration-color: #af87ff\">CLCLIE                   </span> │ <span style=\"color: #008080; text-decoration-color: #008080\">      0</span> │ <span style=\"color: #008080; text-decoration-color: #008080\">         0</span> │ <span style=\"color: #008080; text-decoration-color: #008080\">                           1</span> │ <span style=\"color: #008080; text-decoration-color: #008080\">                      93</span> │  │\n",
       "│ │ <span style=\"color: #af87ff; text-decoration-color: #af87ff\">ALLIGNB                  </span> │ <span style=\"color: #008080; text-decoration-color: #008080\">      0</span> │ <span style=\"color: #008080; text-decoration-color: #008080\">         0</span> │ <span style=\"color: #008080; text-decoration-color: #008080\">                         510</span> │ <span style=\"color: #008080; text-decoration-color: #008080\">                   47299</span> │  │\n",
       "│ │ <span style=\"color: #af87ff; text-decoration-color: #af87ff\">CLNOM                    </span> │ <span style=\"color: #008080; text-decoration-color: #008080\">      0</span> │ <span style=\"color: #008080; text-decoration-color: #008080\">         0</span> │ <span style=\"color: #008080; text-decoration-color: #008080\">                          16</span> │ <span style=\"color: #008080; text-decoration-color: #008080\">                    1467</span> │  │\n",
       "│ │ <span style=\"color: #af87ff; text-decoration-color: #af87ff\">CLADR1                   </span> │ <span style=\"color: #008080; text-decoration-color: #008080\">      0</span> │ <span style=\"color: #008080; text-decoration-color: #008080\">         0</span> │ <span style=\"color: #008080; text-decoration-color: #008080\">                          15</span> │ <span style=\"color: #008080; text-decoration-color: #008080\">                    1421</span> │  │\n",
       "│ │ <span style=\"color: #af87ff; text-decoration-color: #af87ff\">CLADR2                   </span> │ <span style=\"color: #008080; text-decoration-color: #008080\">      0</span> │ <span style=\"color: #008080; text-decoration-color: #008080\">         0</span> │ <span style=\"color: #008080; text-decoration-color: #008080\">                          31</span> │ <span style=\"color: #008080; text-decoration-color: #008080\">                    2864</span> │  │\n",
       "│ │ <span style=\"color: #af87ff; text-decoration-color: #af87ff\">CLPTT                    </span> │ <span style=\"color: #008080; text-decoration-color: #008080\">      0</span> │ <span style=\"color: #008080; text-decoration-color: #008080\">         0</span> │ <span style=\"color: #008080; text-decoration-color: #008080\">                           1</span> │ <span style=\"color: #008080; text-decoration-color: #008080\">                      93</span> │  │\n",
       "│ │ <span style=\"color: #af87ff; text-decoration-color: #af87ff\">CLVILL                   </span> │ <span style=\"color: #008080; text-decoration-color: #008080\">      0</span> │ <span style=\"color: #008080; text-decoration-color: #008080\">         0</span> │ <span style=\"color: #008080; text-decoration-color: #008080\">                          21</span> │ <span style=\"color: #008080; text-decoration-color: #008080\">                    1959</span> │  │\n",
       "│ │ <span style=\"color: #af87ff; text-decoration-color: #af87ff\">ENMRGT                   </span> │ <span style=\"color: #008080; text-decoration-color: #008080\">      0</span> │ <span style=\"color: #008080; text-decoration-color: #008080\">         0</span> │ <span style=\"color: #008080; text-decoration-color: #008080\">                           1</span> │ <span style=\"color: #008080; text-decoration-color: #008080\">                      93</span> │  │\n",
       "│ └───────────────────────────┴─────────┴────────────┴──────────────────────────────┴──────────────────────────┘  │\n",
       "╰────────────────────────────────────────────────────── End ──────────────────────────────────────────────────────╯\n",
       "</pre>\n"
      ],
      "text/plain": [
       "╭──────────────────────────────────────────────── skimpy summary ─────────────────────────────────────────────────╮\n",
       "│ \u001b[3m         Data Summary         \u001b[0m \u001b[3m      Data Types       \u001b[0m                                                          │\n",
       "│ ┏━━━━━━━━━━━━━━━━━━━┳━━━━━━━━┓ ┏━━━━━━━━━━━━━┳━━━━━━━┓                                                          │\n",
       "│ ┃\u001b[1;36m \u001b[0m\u001b[1;36mdataframe        \u001b[0m\u001b[1;36m \u001b[0m┃\u001b[1;36m \u001b[0m\u001b[1;36mValues\u001b[0m\u001b[1;36m \u001b[0m┃ ┃\u001b[1;36m \u001b[0m\u001b[1;36mColumn Type\u001b[0m\u001b[1;36m \u001b[0m┃\u001b[1;36m \u001b[0m\u001b[1;36mCount\u001b[0m\u001b[1;36m \u001b[0m┃                                                          │\n",
       "│ ┡━━━━━━━━━━━━━━━━━━━╇━━━━━━━━┩ ┡━━━━━━━━━━━━━╇━━━━━━━┩                                                          │\n",
       "│ │ Number of rows    │ 93     │ │ string      │ 8     │                                                          │\n",
       "│ │ Number of columns │ 9      │ │ float64     │ 1     │                                                          │\n",
       "│ └───────────────────┴────────┘ └─────────────┴───────┘                                                          │\n",
       "│ \u001b[3m                                                    number                                                    \u001b[0m  │\n",
       "│ ┏━━━━━━━━━━━━━━━━━┳━━━━━┳━━━━━━━━┳━━━━━━━━━┳━━━━━━━━━┳━━━━━━━━┳━━━━━━━┳━━━━━━━━━┳━━━━━━━━┳━━━━━━━━━┳━━━━━━━━━┓  │\n",
       "│ ┃\u001b[1m \u001b[0m\u001b[1mcolumn_name    \u001b[0m\u001b[1m \u001b[0m┃\u001b[1m \u001b[0m\u001b[1mNA \u001b[0m\u001b[1m \u001b[0m┃\u001b[1m \u001b[0m\u001b[1mNA %  \u001b[0m\u001b[1m \u001b[0m┃\u001b[1m \u001b[0m\u001b[1mmean   \u001b[0m\u001b[1m \u001b[0m┃\u001b[1m \u001b[0m\u001b[1msd     \u001b[0m\u001b[1m \u001b[0m┃\u001b[1m \u001b[0m\u001b[1mp0    \u001b[0m\u001b[1m \u001b[0m┃\u001b[1m \u001b[0m\u001b[1mp25  \u001b[0m\u001b[1m \u001b[0m┃\u001b[1m \u001b[0m\u001b[1mp50    \u001b[0m\u001b[1m \u001b[0m┃\u001b[1m \u001b[0m\u001b[1mp75   \u001b[0m\u001b[1m \u001b[0m┃\u001b[1m \u001b[0m\u001b[1mp100   \u001b[0m\u001b[1m \u001b[0m┃\u001b[1m \u001b[0m\u001b[1mhist   \u001b[0m\u001b[1m \u001b[0m┃  │\n",
       "│ ┡━━━━━━━━━━━━━━━━━╇━━━━━╇━━━━━━━━╇━━━━━━━━━╇━━━━━━━━━╇━━━━━━━━╇━━━━━━━╇━━━━━━━━━╇━━━━━━━━╇━━━━━━━━━╇━━━━━━━━━┩  │\n",
       "│ │ \u001b[38;5;141mMontant        \u001b[0m │ \u001b[36m  0\u001b[0m │ \u001b[36m     0\u001b[0m │ \u001b[36m  18000\u001b[0m │ \u001b[36m  30000\u001b[0m │ \u001b[36m  5100\u001b[0m │ \u001b[36m 7000\u001b[0m │ \u001b[36m  11000\u001b[0m │ \u001b[36m 16000\u001b[0m │ \u001b[36m 280000\u001b[0m │ \u001b[32m   ▇   \u001b[0m │  │\n",
       "│ └─────────────────┴─────┴────────┴─────────┴─────────┴────────┴───────┴─────────┴────────┴─────────┴─────────┘  │\n",
       "│ \u001b[3m                                                    string                                                    \u001b[0m  │\n",
       "│ ┏━━━━━━━━━━━━━━━━━━━━━━━━━━━┳━━━━━━━━━┳━━━━━━━━━━━━┳━━━━━━━━━━━━━━━━━━━━━━━━━━━━━━┳━━━━━━━━━━━━━━━━━━━━━━━━━━┓  │\n",
       "│ ┃\u001b[1m \u001b[0m\u001b[1mcolumn_name              \u001b[0m\u001b[1m \u001b[0m┃\u001b[1m \u001b[0m\u001b[1mNA     \u001b[0m\u001b[1m \u001b[0m┃\u001b[1m \u001b[0m\u001b[1mNA %      \u001b[0m\u001b[1m \u001b[0m┃\u001b[1m \u001b[0m\u001b[1mwords per row               \u001b[0m\u001b[1m \u001b[0m┃\u001b[1m \u001b[0m\u001b[1mtotal words             \u001b[0m\u001b[1m \u001b[0m┃  │\n",
       "│ ┡━━━━━━━━━━━━━━━━━━━━━━━━━━━╇━━━━━━━━━╇━━━━━━━━━━━━╇━━━━━━━━━━━━━━━━━━━━━━━━━━━━━━╇━━━━━━━━━━━━━━━━━━━━━━━━━━┩  │\n",
       "│ │ \u001b[38;5;141mCLCLIE                   \u001b[0m │ \u001b[36m      0\u001b[0m │ \u001b[36m         0\u001b[0m │ \u001b[36m                           1\u001b[0m │ \u001b[36m                      93\u001b[0m │  │\n",
       "│ │ \u001b[38;5;141mALLIGNB                  \u001b[0m │ \u001b[36m      0\u001b[0m │ \u001b[36m         0\u001b[0m │ \u001b[36m                         510\u001b[0m │ \u001b[36m                   47299\u001b[0m │  │\n",
       "│ │ \u001b[38;5;141mCLNOM                    \u001b[0m │ \u001b[36m      0\u001b[0m │ \u001b[36m         0\u001b[0m │ \u001b[36m                          16\u001b[0m │ \u001b[36m                    1467\u001b[0m │  │\n",
       "│ │ \u001b[38;5;141mCLADR1                   \u001b[0m │ \u001b[36m      0\u001b[0m │ \u001b[36m         0\u001b[0m │ \u001b[36m                          15\u001b[0m │ \u001b[36m                    1421\u001b[0m │  │\n",
       "│ │ \u001b[38;5;141mCLADR2                   \u001b[0m │ \u001b[36m      0\u001b[0m │ \u001b[36m         0\u001b[0m │ \u001b[36m                          31\u001b[0m │ \u001b[36m                    2864\u001b[0m │  │\n",
       "│ │ \u001b[38;5;141mCLPTT                    \u001b[0m │ \u001b[36m      0\u001b[0m │ \u001b[36m         0\u001b[0m │ \u001b[36m                           1\u001b[0m │ \u001b[36m                      93\u001b[0m │  │\n",
       "│ │ \u001b[38;5;141mCLVILL                   \u001b[0m │ \u001b[36m      0\u001b[0m │ \u001b[36m         0\u001b[0m │ \u001b[36m                          21\u001b[0m │ \u001b[36m                    1959\u001b[0m │  │\n",
       "│ │ \u001b[38;5;141mENMRGT                   \u001b[0m │ \u001b[36m      0\u001b[0m │ \u001b[36m         0\u001b[0m │ \u001b[36m                           1\u001b[0m │ \u001b[36m                      93\u001b[0m │  │\n",
       "│ └───────────────────────────┴─────────┴────────────┴──────────────────────────────┴──────────────────────────┘  │\n",
       "╰────────────────────────────────────────────────────── End ──────────────────────────────────────────────────────╯\n"
      ]
     },
     "metadata": {},
     "output_type": "display_data"
    }
   ],
   "source": [
    "skim(dfCashAndNoComptant)"
   ]
  },
  {
   "cell_type": "code",
   "execution_count": 12,
   "metadata": {},
   "outputs": [
    {
     "data": {
      "text/html": [
       "<div>\n",
       "<style scoped>\n",
       "    .dataframe tbody tr th:only-of-type {\n",
       "        vertical-align: middle;\n",
       "    }\n",
       "\n",
       "    .dataframe tbody tr th {\n",
       "        vertical-align: top;\n",
       "    }\n",
       "\n",
       "    .dataframe thead th {\n",
       "        text-align: right;\n",
       "    }\n",
       "</style>\n",
       "<table border=\"1\" class=\"dataframe\">\n",
       "  <thead>\n",
       "    <tr style=\"text-align: right;\">\n",
       "      <th></th>\n",
       "      <th>CLCLIE</th>\n",
       "      <th>ALLIGNB</th>\n",
       "      <th>CLNOM</th>\n",
       "      <th>CLADR1</th>\n",
       "      <th>CLADR2</th>\n",
       "      <th>CLPTT</th>\n",
       "      <th>CLVILL</th>\n",
       "      <th>ENMRGT</th>\n",
       "      <th>Montant</th>\n",
       "    </tr>\n",
       "  </thead>\n",
       "  <tbody>\n",
       "    <tr>\n",
       "      <th>0</th>\n",
       "      <td>SM002</td>\n",
       "      <td>...</td>\n",
       "      <td>SARL SMSA ET FRERES</td>\n",
       "      <td>15 A RUE DES TULIPES</td>\n",
       "      <td></td>\n",
       "      <td>68110</td>\n",
       "      <td>ILLZACH</td>\n",
       "      <td>ESP</td>\n",
       "      <td>277194.81</td>\n",
       "    </tr>\n",
       "    <tr>\n",
       "      <th>1</th>\n",
       "      <td>BU002</td>\n",
       "      <td>...</td>\n",
       "      <td>ENT AB SANITAIRE</td>\n",
       "      <td>5 RUE EDOUARD BRANLY</td>\n",
       "      <td></td>\n",
       "      <td>68308</td>\n",
       "      <td>ST LOUIS</td>\n",
       "      <td>ESP</td>\n",
       "      <td>72542.65</td>\n",
       "    </tr>\n",
       "    <tr>\n",
       "      <th>2</th>\n",
       "      <td>SA442</td>\n",
       "      <td>...</td>\n",
       "      <td>SARL SA-THERMIQUE</td>\n",
       "      <td>71 RUE DE MULHOUSE</td>\n",
       "      <td></td>\n",
       "      <td>68390</td>\n",
       "      <td>SAUSHEIM</td>\n",
       "      <td>ESP</td>\n",
       "      <td>68723.59</td>\n",
       "    </tr>\n",
       "    <tr>\n",
       "      <th>3</th>\n",
       "      <td>CN002</td>\n",
       "      <td>...</td>\n",
       "      <td>SAS CN CHAUFFAGE</td>\n",
       "      <td>25 RUE DES PAYS BAS</td>\n",
       "      <td></td>\n",
       "      <td>68310</td>\n",
       "      <td>WITTELSHEIM</td>\n",
       "      <td>ESP</td>\n",
       "      <td>57493.43</td>\n",
       "    </tr>\n",
       "    <tr>\n",
       "      <th>4</th>\n",
       "      <td>BA220</td>\n",
       "      <td>...</td>\n",
       "      <td>ENT BAUDRY MATHIEU</td>\n",
       "      <td>23 RUE DE RETZWILLER</td>\n",
       "      <td></td>\n",
       "      <td>68210</td>\n",
       "      <td>ELBACH</td>\n",
       "      <td>ESP</td>\n",
       "      <td>51651.65</td>\n",
       "    </tr>\n",
       "  </tbody>\n",
       "</table>\n",
       "</div>"
      ],
      "text/plain": [
       "  CLCLIE                                            ALLIGNB  \\\n",
       "0  SM002                                                ...   \n",
       "1  BU002                                                ...   \n",
       "2  SA442                                                ...   \n",
       "3  CN002                                                ...   \n",
       "4  BA220                                                ...   \n",
       "\n",
       "                            CLNOM                          CLADR1  \\\n",
       "0  SARL SMSA ET FRERES             15 A RUE DES TULIPES             \n",
       "1  ENT AB SANITAIRE                5 RUE EDOUARD BRANLY             \n",
       "2  SARL SA-THERMIQUE               71 RUE DE MULHOUSE               \n",
       "3  SAS CN CHAUFFAGE                25 RUE DES PAYS BAS              \n",
       "4  ENT BAUDRY MATHIEU              23 RUE DE RETZWILLER             \n",
       "\n",
       "                           CLADR2  CLPTT                          CLVILL  \\\n",
       "0                                  68110  ILLZACH                          \n",
       "1                                  68308  ST LOUIS                         \n",
       "2                                  68390  SAUSHEIM                         \n",
       "3                                  68310  WITTELSHEIM                      \n",
       "4                                  68210  ELBACH                           \n",
       "\n",
       "  ENMRGT    Montant  \n",
       "0    ESP  277194.81  \n",
       "1    ESP   72542.65  \n",
       "2    ESP   68723.59  \n",
       "3    ESP   57493.43  \n",
       "4    ESP   51651.65  "
      ]
     },
     "execution_count": 12,
     "metadata": {},
     "output_type": "execute_result"
    }
   ],
   "source": [
    "dfCashAndNoComptant.head()"
   ]
  },
  {
   "cell_type": "code",
   "execution_count": 34,
   "metadata": {},
   "outputs": [],
   "source": [
    "# dfCashAndNoComptant.to_excel('data/indexD001/2022_CashAndNoComptant.xlsx')"
   ]
  },
  {
   "cell_type": "markdown",
   "metadata": {},
   "source": [
    "Affichage par client des articles achetées dans la limite de 1 000 quantités achetées par article"
   ]
  },
  {
   "cell_type": "code",
   "execution_count": 13,
   "metadata": {},
   "outputs": [
    {
     "data": {
      "text/html": [
       "<span style=\"None\">Running query in &#x27;duckdb:///:default:&#x27;</span>"
      ],
      "text/plain": [
       "Running query in 'duckdb:///:default:'"
      ]
     },
     "metadata": {},
     "output_type": "display_data"
    },
    {
     "data": {
      "application/vnd.jupyter.widget-view+json": {
       "model_id": "fc185661394347cb8f1b836b4156d6b3",
       "version_major": 2,
       "version_minor": 0
      },
      "text/plain": [
       "FloatProgress(value=0.0, layout=Layout(width='auto'), style=ProgressStyle(bar_color='black'))"
      ]
     },
     "metadata": {},
     "output_type": "display_data"
    },
    {
     "data": {
      "application/vnd.jupyter.widget-view+json": {
       "model_id": "ba10be95b3a84d29b404570564a5488d",
       "version_major": 2,
       "version_minor": 0
      },
      "text/plain": [
       "FloatProgress(value=0.0, layout=Layout(width='auto'), style=ProgressStyle(bar_color='black'))"
      ]
     },
     "metadata": {},
     "output_type": "display_data"
    }
   ],
   "source": [
    "%%sql\n",
    "dfCustomersQuantity <<\n",
    "SELECT ENCLIE, ALLIGNB, CLNOM, CLADR1, CLADR2, CLPTT, CLVILL, DENART, \n",
    "DELIBE, DEUFAC, SUM(DEQLIV) AS Quantites \n",
    "FROM read_csv('data/indexD001/DGITRAI222-utf8.csv', types={\"DEQLIV\": \"INT\"})  \n",
    "GROUP BY ENCLIE, ALLIGNB, CLNOM, CLADR1, CLADR2, CLPTT, CLVILL, DENART,\n",
    "DELIBE, DEUFAC \n",
    "HAVING Quantites > 1000 \n",
    "ORDER BY Quantites DESC"
   ]
  },
  {
   "cell_type": "code",
   "execution_count": 14,
   "metadata": {},
   "outputs": [
    {
     "data": {
      "text/html": [
       "<pre style=\"white-space:pre;overflow-x:auto;line-height:normal;font-family:Menlo,'DejaVu Sans Mono',consolas,'Courier New',monospace\">╭──────────────────────────────────────────────── skimpy summary ─────────────────────────────────────────────────╮\n",
       "│ <span style=\"font-style: italic\">         Data Summary         </span> <span style=\"font-style: italic\">      Data Types       </span>                                                          │\n",
       "│ ┏━━━━━━━━━━━━━━━━━━━┳━━━━━━━━┓ ┏━━━━━━━━━━━━━┳━━━━━━━┓                                                          │\n",
       "│ ┃<span style=\"color: #008080; text-decoration-color: #008080; font-weight: bold\"> dataframe         </span>┃<span style=\"color: #008080; text-decoration-color: #008080; font-weight: bold\"> Values </span>┃ ┃<span style=\"color: #008080; text-decoration-color: #008080; font-weight: bold\"> Column Type </span>┃<span style=\"color: #008080; text-decoration-color: #008080; font-weight: bold\"> Count </span>┃                                                          │\n",
       "│ ┡━━━━━━━━━━━━━━━━━━━╇━━━━━━━━┩ ┡━━━━━━━━━━━━━╇━━━━━━━┩                                                          │\n",
       "│ │ Number of rows    │ 896    │ │ string      │ 10    │                                                          │\n",
       "│ │ Number of columns │ 11     │ │ float64     │ 1     │                                                          │\n",
       "│ └───────────────────┴────────┘ └─────────────┴───────┘                                                          │\n",
       "│ <span style=\"font-style: italic\">                                                    number                                                    </span>  │\n",
       "│ ┏━━━━━━━━━━━━━━━━━━┳━━━━━━┳━━━━━━━━┳━━━━━━━━┳━━━━━━━━┳━━━━━━━━┳━━━━━━━━┳━━━━━━━━┳━━━━━━━━┳━━━━━━━━━┳━━━━━━━━━┓  │\n",
       "│ ┃<span style=\"font-weight: bold\"> column_name      </span>┃<span style=\"font-weight: bold\"> NA   </span>┃<span style=\"font-weight: bold\"> NA %   </span>┃<span style=\"font-weight: bold\"> mean   </span>┃<span style=\"font-weight: bold\"> sd     </span>┃<span style=\"font-weight: bold\"> p0     </span>┃<span style=\"font-weight: bold\"> p25    </span>┃<span style=\"font-weight: bold\"> p50    </span>┃<span style=\"font-weight: bold\"> p75    </span>┃<span style=\"font-weight: bold\"> p100    </span>┃<span style=\"font-weight: bold\"> hist    </span>┃  │\n",
       "│ ┡━━━━━━━━━━━━━━━━━━╇━━━━━━╇━━━━━━━━╇━━━━━━━━╇━━━━━━━━╇━━━━━━━━╇━━━━━━━━╇━━━━━━━━╇━━━━━━━━╇━━━━━━━━━╇━━━━━━━━━┩  │\n",
       "│ │ <span style=\"color: #af87ff; text-decoration-color: #af87ff\">Quantites       </span> │ <span style=\"color: #008080; text-decoration-color: #008080\">   0</span> │ <span style=\"color: #008080; text-decoration-color: #008080\">     0</span> │ <span style=\"color: #008080; text-decoration-color: #008080\">  2400</span> │ <span style=\"color: #008080; text-decoration-color: #008080\">  2500</span> │ <span style=\"color: #008080; text-decoration-color: #008080\">  1000</span> │ <span style=\"color: #008080; text-decoration-color: #008080\">  1200</span> │ <span style=\"color: #008080; text-decoration-color: #008080\">  1600</span> │ <span style=\"color: #008080; text-decoration-color: #008080\">  2500</span> │ <span style=\"color: #008080; text-decoration-color: #008080\">  34000</span> │ <span style=\"color: #008000; text-decoration-color: #008000\">   ▇   </span> │  │\n",
       "│ └──────────────────┴──────┴────────┴────────┴────────┴────────┴────────┴────────┴────────┴─────────┴─────────┘  │\n",
       "│ <span style=\"font-style: italic\">                                                    string                                                    </span>  │\n",
       "│ ┏━━━━━━━━━━━━━━━━━━━━━━━━━━━┳━━━━━━━━━┳━━━━━━━━━━━━┳━━━━━━━━━━━━━━━━━━━━━━━━━━━━━━┳━━━━━━━━━━━━━━━━━━━━━━━━━━┓  │\n",
       "│ ┃<span style=\"font-weight: bold\"> column_name               </span>┃<span style=\"font-weight: bold\"> NA      </span>┃<span style=\"font-weight: bold\"> NA %       </span>┃<span style=\"font-weight: bold\"> words per row                </span>┃<span style=\"font-weight: bold\"> total words              </span>┃  │\n",
       "│ ┡━━━━━━━━━━━━━━━━━━━━━━━━━━━╇━━━━━━━━━╇━━━━━━━━━━━━╇━━━━━━━━━━━━━━━━━━━━━━━━━━━━━━╇━━━━━━━━━━━━━━━━━━━━━━━━━━┩  │\n",
       "│ │ <span style=\"color: #af87ff; text-decoration-color: #af87ff\">ENCLIE                   </span> │ <span style=\"color: #008080; text-decoration-color: #008080\">      0</span> │ <span style=\"color: #008080; text-decoration-color: #008080\">         0</span> │ <span style=\"color: #008080; text-decoration-color: #008080\">                           1</span> │ <span style=\"color: #008080; text-decoration-color: #008080\">                     896</span> │  │\n",
       "│ │ <span style=\"color: #af87ff; text-decoration-color: #af87ff\">ALLIGNB                  </span> │ <span style=\"color: #008080; text-decoration-color: #008080\">      0</span> │ <span style=\"color: #008080; text-decoration-color: #008080\">         0</span> │ <span style=\"color: #008080; text-decoration-color: #008080\">                         500</span> │ <span style=\"color: #008080; text-decoration-color: #008080\">                  449846</span> │  │\n",
       "│ │ <span style=\"color: #af87ff; text-decoration-color: #af87ff\">CLNOM                    </span> │ <span style=\"color: #008080; text-decoration-color: #008080\">      0</span> │ <span style=\"color: #008080; text-decoration-color: #008080\">         0</span> │ <span style=\"color: #008080; text-decoration-color: #008080\">                          15</span> │ <span style=\"color: #008080; text-decoration-color: #008080\">                   13711</span> │  │\n",
       "│ │ <span style=\"color: #af87ff; text-decoration-color: #af87ff\">CLADR1                   </span> │ <span style=\"color: #008080; text-decoration-color: #008080\">      0</span> │ <span style=\"color: #008080; text-decoration-color: #008080\">         0</span> │ <span style=\"color: #008080; text-decoration-color: #008080\">                          16</span> │ <span style=\"color: #008080; text-decoration-color: #008080\">                   14205</span> │  │\n",
       "│ │ <span style=\"color: #af87ff; text-decoration-color: #af87ff\">CLADR2                   </span> │ <span style=\"color: #008080; text-decoration-color: #008080\">      0</span> │ <span style=\"color: #008080; text-decoration-color: #008080\">         0</span> │ <span style=\"color: #008080; text-decoration-color: #008080\">                          30</span> │ <span style=\"color: #008080; text-decoration-color: #008080\">                   26798</span> │  │\n",
       "│ │ <span style=\"color: #af87ff; text-decoration-color: #af87ff\">CLPTT                    </span> │ <span style=\"color: #008080; text-decoration-color: #008080\">      0</span> │ <span style=\"color: #008080; text-decoration-color: #008080\">         0</span> │ <span style=\"color: #008080; text-decoration-color: #008080\">                         1.1</span> │ <span style=\"color: #008080; text-decoration-color: #008080\">                     971</span> │  │\n",
       "│ │ <span style=\"color: #af87ff; text-decoration-color: #af87ff\">CLVILL                   </span> │ <span style=\"color: #008080; text-decoration-color: #008080\">      0</span> │ <span style=\"color: #008080; text-decoration-color: #008080\">         0</span> │ <span style=\"color: #008080; text-decoration-color: #008080\">                          21</span> │ <span style=\"color: #008080; text-decoration-color: #008080\">                   18706</span> │  │\n",
       "│ │ <span style=\"color: #af87ff; text-decoration-color: #af87ff\">DENART                   </span> │ <span style=\"color: #008080; text-decoration-color: #008080\">      0</span> │ <span style=\"color: #008080; text-decoration-color: #008080\">         0</span> │ <span style=\"color: #008080; text-decoration-color: #008080\">                         1.3</span> │ <span style=\"color: #008080; text-decoration-color: #008080\">                    1170</span> │  │\n",
       "│ │ <span style=\"color: #af87ff; text-decoration-color: #af87ff\">DELIBE                   </span> │ <span style=\"color: #008080; text-decoration-color: #008080\">      0</span> │ <span style=\"color: #008080; text-decoration-color: #008080\">         0</span> │ <span style=\"color: #008080; text-decoration-color: #008080\">                          19</span> │ <span style=\"color: #008080; text-decoration-color: #008080\">                   17051</span> │  │\n",
       "│ │ <span style=\"color: #af87ff; text-decoration-color: #af87ff\">DEUFAC                   </span> │ <span style=\"color: #008080; text-decoration-color: #008080\">      0</span> │ <span style=\"color: #008080; text-decoration-color: #008080\">         0</span> │ <span style=\"color: #008080; text-decoration-color: #008080\">                         1.9</span> │ <span style=\"color: #008080; text-decoration-color: #008080\">                    1725</span> │  │\n",
       "│ └───────────────────────────┴─────────┴────────────┴──────────────────────────────┴──────────────────────────┘  │\n",
       "╰────────────────────────────────────────────────────── End ──────────────────────────────────────────────────────╯\n",
       "</pre>\n"
      ],
      "text/plain": [
       "╭──────────────────────────────────────────────── skimpy summary ─────────────────────────────────────────────────╮\n",
       "│ \u001b[3m         Data Summary         \u001b[0m \u001b[3m      Data Types       \u001b[0m                                                          │\n",
       "│ ┏━━━━━━━━━━━━━━━━━━━┳━━━━━━━━┓ ┏━━━━━━━━━━━━━┳━━━━━━━┓                                                          │\n",
       "│ ┃\u001b[1;36m \u001b[0m\u001b[1;36mdataframe        \u001b[0m\u001b[1;36m \u001b[0m┃\u001b[1;36m \u001b[0m\u001b[1;36mValues\u001b[0m\u001b[1;36m \u001b[0m┃ ┃\u001b[1;36m \u001b[0m\u001b[1;36mColumn Type\u001b[0m\u001b[1;36m \u001b[0m┃\u001b[1;36m \u001b[0m\u001b[1;36mCount\u001b[0m\u001b[1;36m \u001b[0m┃                                                          │\n",
       "│ ┡━━━━━━━━━━━━━━━━━━━╇━━━━━━━━┩ ┡━━━━━━━━━━━━━╇━━━━━━━┩                                                          │\n",
       "│ │ Number of rows    │ 896    │ │ string      │ 10    │                                                          │\n",
       "│ │ Number of columns │ 11     │ │ float64     │ 1     │                                                          │\n",
       "│ └───────────────────┴────────┘ └─────────────┴───────┘                                                          │\n",
       "│ \u001b[3m                                                    number                                                    \u001b[0m  │\n",
       "│ ┏━━━━━━━━━━━━━━━━━━┳━━━━━━┳━━━━━━━━┳━━━━━━━━┳━━━━━━━━┳━━━━━━━━┳━━━━━━━━┳━━━━━━━━┳━━━━━━━━┳━━━━━━━━━┳━━━━━━━━━┓  │\n",
       "│ ┃\u001b[1m \u001b[0m\u001b[1mcolumn_name     \u001b[0m\u001b[1m \u001b[0m┃\u001b[1m \u001b[0m\u001b[1mNA  \u001b[0m\u001b[1m \u001b[0m┃\u001b[1m \u001b[0m\u001b[1mNA %  \u001b[0m\u001b[1m \u001b[0m┃\u001b[1m \u001b[0m\u001b[1mmean  \u001b[0m\u001b[1m \u001b[0m┃\u001b[1m \u001b[0m\u001b[1msd    \u001b[0m\u001b[1m \u001b[0m┃\u001b[1m \u001b[0m\u001b[1mp0    \u001b[0m\u001b[1m \u001b[0m┃\u001b[1m \u001b[0m\u001b[1mp25   \u001b[0m\u001b[1m \u001b[0m┃\u001b[1m \u001b[0m\u001b[1mp50   \u001b[0m\u001b[1m \u001b[0m┃\u001b[1m \u001b[0m\u001b[1mp75   \u001b[0m\u001b[1m \u001b[0m┃\u001b[1m \u001b[0m\u001b[1mp100   \u001b[0m\u001b[1m \u001b[0m┃\u001b[1m \u001b[0m\u001b[1mhist   \u001b[0m\u001b[1m \u001b[0m┃  │\n",
       "│ ┡━━━━━━━━━━━━━━━━━━╇━━━━━━╇━━━━━━━━╇━━━━━━━━╇━━━━━━━━╇━━━━━━━━╇━━━━━━━━╇━━━━━━━━╇━━━━━━━━╇━━━━━━━━━╇━━━━━━━━━┩  │\n",
       "│ │ \u001b[38;5;141mQuantites       \u001b[0m │ \u001b[36m   0\u001b[0m │ \u001b[36m     0\u001b[0m │ \u001b[36m  2400\u001b[0m │ \u001b[36m  2500\u001b[0m │ \u001b[36m  1000\u001b[0m │ \u001b[36m  1200\u001b[0m │ \u001b[36m  1600\u001b[0m │ \u001b[36m  2500\u001b[0m │ \u001b[36m  34000\u001b[0m │ \u001b[32m   ▇   \u001b[0m │  │\n",
       "│ └──────────────────┴──────┴────────┴────────┴────────┴────────┴────────┴────────┴────────┴─────────┴─────────┘  │\n",
       "│ \u001b[3m                                                    string                                                    \u001b[0m  │\n",
       "│ ┏━━━━━━━━━━━━━━━━━━━━━━━━━━━┳━━━━━━━━━┳━━━━━━━━━━━━┳━━━━━━━━━━━━━━━━━━━━━━━━━━━━━━┳━━━━━━━━━━━━━━━━━━━━━━━━━━┓  │\n",
       "│ ┃\u001b[1m \u001b[0m\u001b[1mcolumn_name              \u001b[0m\u001b[1m \u001b[0m┃\u001b[1m \u001b[0m\u001b[1mNA     \u001b[0m\u001b[1m \u001b[0m┃\u001b[1m \u001b[0m\u001b[1mNA %      \u001b[0m\u001b[1m \u001b[0m┃\u001b[1m \u001b[0m\u001b[1mwords per row               \u001b[0m\u001b[1m \u001b[0m┃\u001b[1m \u001b[0m\u001b[1mtotal words             \u001b[0m\u001b[1m \u001b[0m┃  │\n",
       "│ ┡━━━━━━━━━━━━━━━━━━━━━━━━━━━╇━━━━━━━━━╇━━━━━━━━━━━━╇━━━━━━━━━━━━━━━━━━━━━━━━━━━━━━╇━━━━━━━━━━━━━━━━━━━━━━━━━━┩  │\n",
       "│ │ \u001b[38;5;141mENCLIE                   \u001b[0m │ \u001b[36m      0\u001b[0m │ \u001b[36m         0\u001b[0m │ \u001b[36m                           1\u001b[0m │ \u001b[36m                     896\u001b[0m │  │\n",
       "│ │ \u001b[38;5;141mALLIGNB                  \u001b[0m │ \u001b[36m      0\u001b[0m │ \u001b[36m         0\u001b[0m │ \u001b[36m                         500\u001b[0m │ \u001b[36m                  449846\u001b[0m │  │\n",
       "│ │ \u001b[38;5;141mCLNOM                    \u001b[0m │ \u001b[36m      0\u001b[0m │ \u001b[36m         0\u001b[0m │ \u001b[36m                          15\u001b[0m │ \u001b[36m                   13711\u001b[0m │  │\n",
       "│ │ \u001b[38;5;141mCLADR1                   \u001b[0m │ \u001b[36m      0\u001b[0m │ \u001b[36m         0\u001b[0m │ \u001b[36m                          16\u001b[0m │ \u001b[36m                   14205\u001b[0m │  │\n",
       "│ │ \u001b[38;5;141mCLADR2                   \u001b[0m │ \u001b[36m      0\u001b[0m │ \u001b[36m         0\u001b[0m │ \u001b[36m                          30\u001b[0m │ \u001b[36m                   26798\u001b[0m │  │\n",
       "│ │ \u001b[38;5;141mCLPTT                    \u001b[0m │ \u001b[36m      0\u001b[0m │ \u001b[36m         0\u001b[0m │ \u001b[36m                         1.1\u001b[0m │ \u001b[36m                     971\u001b[0m │  │\n",
       "│ │ \u001b[38;5;141mCLVILL                   \u001b[0m │ \u001b[36m      0\u001b[0m │ \u001b[36m         0\u001b[0m │ \u001b[36m                          21\u001b[0m │ \u001b[36m                   18706\u001b[0m │  │\n",
       "│ │ \u001b[38;5;141mDENART                   \u001b[0m │ \u001b[36m      0\u001b[0m │ \u001b[36m         0\u001b[0m │ \u001b[36m                         1.3\u001b[0m │ \u001b[36m                    1170\u001b[0m │  │\n",
       "│ │ \u001b[38;5;141mDELIBE                   \u001b[0m │ \u001b[36m      0\u001b[0m │ \u001b[36m         0\u001b[0m │ \u001b[36m                          19\u001b[0m │ \u001b[36m                   17051\u001b[0m │  │\n",
       "│ │ \u001b[38;5;141mDEUFAC                   \u001b[0m │ \u001b[36m      0\u001b[0m │ \u001b[36m         0\u001b[0m │ \u001b[36m                         1.9\u001b[0m │ \u001b[36m                    1725\u001b[0m │  │\n",
       "│ └───────────────────────────┴─────────┴────────────┴──────────────────────────────┴──────────────────────────┘  │\n",
       "╰────────────────────────────────────────────────────── End ──────────────────────────────────────────────────────╯\n"
      ]
     },
     "metadata": {},
     "output_type": "display_data"
    }
   ],
   "source": [
    "skim(dfCustomersQuantity)"
   ]
  },
  {
   "cell_type": "code",
   "execution_count": 15,
   "metadata": {},
   "outputs": [
    {
     "data": {
      "text/html": [
       "<div>\n",
       "<style scoped>\n",
       "    .dataframe tbody tr th:only-of-type {\n",
       "        vertical-align: middle;\n",
       "    }\n",
       "\n",
       "    .dataframe tbody tr th {\n",
       "        vertical-align: top;\n",
       "    }\n",
       "\n",
       "    .dataframe thead th {\n",
       "        text-align: right;\n",
       "    }\n",
       "</style>\n",
       "<table border=\"1\" class=\"dataframe\">\n",
       "  <thead>\n",
       "    <tr style=\"text-align: right;\">\n",
       "      <th></th>\n",
       "      <th>ENCLIE</th>\n",
       "      <th>ALLIGNB</th>\n",
       "      <th>CLNOM</th>\n",
       "      <th>CLADR1</th>\n",
       "      <th>CLADR2</th>\n",
       "      <th>CLPTT</th>\n",
       "      <th>CLVILL</th>\n",
       "      <th>DENART</th>\n",
       "      <th>DELIBE</th>\n",
       "      <th>DEUFAC</th>\n",
       "      <th>Quantites</th>\n",
       "    </tr>\n",
       "  </thead>\n",
       "  <tbody>\n",
       "    <tr>\n",
       "      <th>0</th>\n",
       "      <td>UL019</td>\n",
       "      <td>...</td>\n",
       "      <td>SARL ULKU CONSTRUCTION</td>\n",
       "      <td>8 RUE DES PRES</td>\n",
       "      <td></td>\n",
       "      <td>68040</td>\n",
       "      <td>INGERSHEIM</td>\n",
       "      <td>G03770</td>\n",
       "      <td>HOMEBRIC 20 BRIQUE  BASE   500X200X299        ...</td>\n",
       "      <td>PIEC</td>\n",
       "      <td>33500.0</td>\n",
       "    </tr>\n",
       "    <tr>\n",
       "      <th>1</th>\n",
       "      <td>ST133</td>\n",
       "      <td>...</td>\n",
       "      <td>SARL ST CONSTRUCTION</td>\n",
       "      <td>4 BIS RUE DES COMBOTTES</td>\n",
       "      <td></td>\n",
       "      <td>25700</td>\n",
       "      <td>VALENTIGNEY</td>\n",
       "      <td>G00266</td>\n",
       "      <td>AGGLOS 20                500X200X200 CREUX    ...</td>\n",
       "      <td>PIEC</td>\n",
       "      <td>21055.0</td>\n",
       "    </tr>\n",
       "    <tr>\n",
       "      <th>2</th>\n",
       "      <td>BA183</td>\n",
       "      <td>...</td>\n",
       "      <td>ENT BAZZANA PATRICE</td>\n",
       "      <td>32 RUE SOUS BOIS</td>\n",
       "      <td></td>\n",
       "      <td>25400</td>\n",
       "      <td>TAILLECOURT</td>\n",
       "      <td>G00266</td>\n",
       "      <td>AGGLOS 20                500X200X200 CREUX    ...</td>\n",
       "      <td>PIEC</td>\n",
       "      <td>18602.0</td>\n",
       "    </tr>\n",
       "    <tr>\n",
       "      <th>3</th>\n",
       "      <td>ST260</td>\n",
       "      <td>EURL AS BTP-STN MR TASKAFA ERKAM RUE DES PYREN...</td>\n",
       "      <td>EURL AS BTP-STN</td>\n",
       "      <td>26 RUE DES GAULOIS</td>\n",
       "      <td></td>\n",
       "      <td>68390</td>\n",
       "      <td>SAUSHEIM</td>\n",
       "      <td></td>\n",
       "      <td>ARMATURE ASSEMBLEES                           ...</td>\n",
       "      <td>KILO</td>\n",
       "      <td>18084.0</td>\n",
       "    </tr>\n",
       "    <tr>\n",
       "      <th>4</th>\n",
       "      <td>YA010</td>\n",
       "      <td>...</td>\n",
       "      <td>SARL YALCIN CONSTRUCTION</td>\n",
       "      <td>2 RUE DES VERRIERS</td>\n",
       "      <td></td>\n",
       "      <td>68200</td>\n",
       "      <td>MULHOUSE</td>\n",
       "      <td>G03770</td>\n",
       "      <td>HOMEBRIC 20 BRIQUE  BASE   500X200X299        ...</td>\n",
       "      <td>PIEC</td>\n",
       "      <td>17711.0</td>\n",
       "    </tr>\n",
       "  </tbody>\n",
       "</table>\n",
       "</div>"
      ],
      "text/plain": [
       "  ENCLIE                                            ALLIGNB  \\\n",
       "0  UL019                                                ...   \n",
       "1  ST133                                                ...   \n",
       "2  BA183                                                ...   \n",
       "3  ST260  EURL AS BTP-STN MR TASKAFA ERKAM RUE DES PYREN...   \n",
       "4  YA010                                                ...   \n",
       "\n",
       "                            CLNOM                          CLADR1  \\\n",
       "0  SARL ULKU CONSTRUCTION          8 RUE DES PRES                   \n",
       "1  SARL ST CONSTRUCTION            4 BIS RUE DES COMBOTTES          \n",
       "2  ENT BAZZANA PATRICE             32 RUE SOUS BOIS                 \n",
       "3  EURL AS BTP-STN                 26 RUE DES GAULOIS               \n",
       "4  SARL YALCIN CONSTRUCTION        2 RUE DES VERRIERS               \n",
       "\n",
       "                           CLADR2  CLPTT                          CLVILL  \\\n",
       "0                                  68040  INGERSHEIM                       \n",
       "1                                  25700  VALENTIGNEY                      \n",
       "2                                  25400  TAILLECOURT                      \n",
       "3                                  68390  SAUSHEIM                         \n",
       "4                                  68200  MULHOUSE                         \n",
       "\n",
       "   DENART                                             DELIBE DEUFAC  Quantites  \n",
       "0  G03770  HOMEBRIC 20 BRIQUE  BASE   500X200X299        ...   PIEC    33500.0  \n",
       "1  G00266  AGGLOS 20                500X200X200 CREUX    ...   PIEC    21055.0  \n",
       "2  G00266  AGGLOS 20                500X200X200 CREUX    ...   PIEC    18602.0  \n",
       "3          ARMATURE ASSEMBLEES                           ...   KILO    18084.0  \n",
       "4  G03770  HOMEBRIC 20 BRIQUE  BASE   500X200X299        ...   PIEC    17711.0  "
      ]
     },
     "execution_count": 15,
     "metadata": {},
     "output_type": "execute_result"
    }
   ],
   "source": [
    "dfCustomersQuantity.head()"
   ]
  },
  {
   "cell_type": "code",
   "execution_count": 38,
   "metadata": {},
   "outputs": [],
   "source": [
    "# dfCustomersQuantity.to_excel('data/indexD001/2022_CustomersQuantity.xlsx')"
   ]
  }
 ],
 "metadata": {
  "kernelspec": {
   "display_name": ".venv",
   "language": "python",
   "name": "python3"
  },
  "language_info": {
   "codemirror_mode": {
    "name": "ipython",
    "version": 3
   },
   "file_extension": ".py",
   "mimetype": "text/x-python",
   "name": "python",
   "nbconvert_exporter": "python",
   "pygments_lexer": "ipython3",
   "version": "3.9.2"
  }
 },
 "nbformat": 4,
 "nbformat_minor": 2
}
