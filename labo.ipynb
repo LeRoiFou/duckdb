{
 "cells": [
  {
   "cell_type": "markdown",
   "metadata": {},
   "source": [
    "Lien : https://www.youtube.com/watch?v=CsWEUYLaYU0\n",
    "Titre : I installed JupySQL to see if it really improves Jupyter Notebooks\n",
    "\n",
    "Dans cette vidéo, nous allons découvrir JupySQL - un plugin qui facilite grandement l'exécution de requêtes SQL et le traçage de grands ensembles de données. Il dispose d'intégrations pour MySQL, Postgres et SQL Server, mais nous nous intéresserons à DuckDB.\n",
    "\n",
    "Date : 24-12-23"
   ]
  },
  {
   "cell_type": "code",
   "execution_count": 3,
   "metadata": {},
   "outputs": [],
   "source": [
    "# Installation des librairies suivantes : jupysql, duckdb-engine et matplotlib\n",
    "# %pip install jupysql duckdb-engine matplotlib"
   ]
  },
  {
   "cell_type": "code",
   "execution_count": 7,
   "metadata": {},
   "outputs": [],
   "source": [
    "# Dernierère version de la librairie jupysql\n",
    "# %pip install jupysql --upgrade"
   ]
  },
  {
   "cell_type": "code",
   "execution_count": 4,
   "metadata": {},
   "outputs": [],
   "source": [
    "# Affichage des données sql sur jupyter notebook\n",
    "%reload_ext sql"
   ]
  },
  {
   "cell_type": "code",
   "execution_count": 5,
   "metadata": {},
   "outputs": [],
   "source": [
    "# Création d'une BD 'movies.db' dans le répertoire 'data'\n",
    "%sql duckdb:///data/movies.db"
   ]
  },
  {
   "cell_type": "code",
   "execution_count": 6,
   "metadata": {},
   "outputs": [
    {
     "data": {
      "text/html": [
       "<span style=\"None\">Running query in &#x27;duckdb:///data/movies.db&#x27;</span>"
      ],
      "text/plain": [
       "Running query in 'duckdb:///data/movies.db'"
      ]
     },
     "metadata": {},
     "output_type": "display_data"
    },
    {
     "data": {
      "text/html": [
       "<table>\n",
       "    <thead>\n",
       "        <tr>\n",
       "            <th>Count</th>\n",
       "        </tr>\n",
       "    </thead>\n",
       "    <tbody>\n",
       "    </tbody>\n",
       "</table>"
      ],
      "text/plain": [
       "+-------+\n",
       "| Count |\n",
       "+-------+\n",
       "+-------+"
      ]
     },
     "execution_count": 6,
     "metadata": {},
     "output_type": "execute_result"
    }
   ],
   "source": [
    "%%sql\n",
    "create or replace table movies AS\n",
    "from read_csv_auto('data/movies_metadata.csv', ignore_errors=1);"
   ]
  },
  {
   "cell_type": "code",
   "execution_count": 7,
   "metadata": {},
   "outputs": [
    {
     "data": {
      "text/html": [
       "<table>\n",
       "    <thead>\n",
       "        <tr>\n",
       "            <th>Name</th>\n",
       "        </tr>\n",
       "    </thead>\n",
       "    <tbody>\n",
       "        <tr>\n",
       "            <td>movies</td>\n",
       "        </tr>\n",
       "    </tbody>\n",
       "</table>"
      ],
      "text/plain": [
       "+--------+\n",
       "|  Name  |\n",
       "+--------+\n",
       "| movies |\n",
       "+--------+"
      ]
     },
     "execution_count": 7,
     "metadata": {},
     "output_type": "execute_result"
    }
   ],
   "source": [
    "%sqlcmd tables"
   ]
  },
  {
   "cell_type": "code",
   "execution_count": 8,
   "metadata": {},
   "outputs": [
    {
     "data": {
      "text/html": [
       "<table>\n",
       "    <thead>\n",
       "        <tr>\n",
       "            <th>name</th>\n",
       "            <th>type</th>\n",
       "            <th>nullable</th>\n",
       "            <th>default</th>\n",
       "            <th>autoincrement</th>\n",
       "            <th>comment</th>\n",
       "        </tr>\n",
       "    </thead>\n",
       "    <tbody>\n",
       "        <tr>\n",
       "            <td>adult</td>\n",
       "            <td>BOOLEAN</td>\n",
       "            <td>True</td>\n",
       "            <td>None</td>\n",
       "            <td>False</td>\n",
       "            <td>None</td>\n",
       "        </tr>\n",
       "        <tr>\n",
       "            <td>belongs_to_collection</td>\n",
       "            <td>VARCHAR</td>\n",
       "            <td>True</td>\n",
       "            <td>None</td>\n",
       "            <td>False</td>\n",
       "            <td>None</td>\n",
       "        </tr>\n",
       "        <tr>\n",
       "            <td>budget</td>\n",
       "            <td>BIGINT</td>\n",
       "            <td>True</td>\n",
       "            <td>None</td>\n",
       "            <td>False</td>\n",
       "            <td>None</td>\n",
       "        </tr>\n",
       "        <tr>\n",
       "            <td>genres</td>\n",
       "            <td>VARCHAR</td>\n",
       "            <td>True</td>\n",
       "            <td>None</td>\n",
       "            <td>False</td>\n",
       "            <td>None</td>\n",
       "        </tr>\n",
       "        <tr>\n",
       "            <td>homepage</td>\n",
       "            <td>VARCHAR</td>\n",
       "            <td>True</td>\n",
       "            <td>None</td>\n",
       "            <td>False</td>\n",
       "            <td>None</td>\n",
       "        </tr>\n",
       "        <tr>\n",
       "            <td>id</td>\n",
       "            <td>BIGINT</td>\n",
       "            <td>True</td>\n",
       "            <td>None</td>\n",
       "            <td>False</td>\n",
       "            <td>None</td>\n",
       "        </tr>\n",
       "        <tr>\n",
       "            <td>imdb_id</td>\n",
       "            <td>VARCHAR</td>\n",
       "            <td>True</td>\n",
       "            <td>None</td>\n",
       "            <td>False</td>\n",
       "            <td>None</td>\n",
       "        </tr>\n",
       "        <tr>\n",
       "            <td>original_language</td>\n",
       "            <td>VARCHAR</td>\n",
       "            <td>True</td>\n",
       "            <td>None</td>\n",
       "            <td>False</td>\n",
       "            <td>None</td>\n",
       "        </tr>\n",
       "        <tr>\n",
       "            <td>original_title</td>\n",
       "            <td>VARCHAR</td>\n",
       "            <td>True</td>\n",
       "            <td>None</td>\n",
       "            <td>False</td>\n",
       "            <td>None</td>\n",
       "        </tr>\n",
       "        <tr>\n",
       "            <td>overview</td>\n",
       "            <td>VARCHAR</td>\n",
       "            <td>True</td>\n",
       "            <td>None</td>\n",
       "            <td>False</td>\n",
       "            <td>None</td>\n",
       "        </tr>\n",
       "        <tr>\n",
       "            <td>popularity</td>\n",
       "            <td>DOUBLE PRECISION</td>\n",
       "            <td>True</td>\n",
       "            <td>None</td>\n",
       "            <td>False</td>\n",
       "            <td>None</td>\n",
       "        </tr>\n",
       "        <tr>\n",
       "            <td>poster_path</td>\n",
       "            <td>VARCHAR</td>\n",
       "            <td>True</td>\n",
       "            <td>None</td>\n",
       "            <td>False</td>\n",
       "            <td>None</td>\n",
       "        </tr>\n",
       "        <tr>\n",
       "            <td>production_companies</td>\n",
       "            <td>VARCHAR</td>\n",
       "            <td>True</td>\n",
       "            <td>None</td>\n",
       "            <td>False</td>\n",
       "            <td>None</td>\n",
       "        </tr>\n",
       "        <tr>\n",
       "            <td>production_countries</td>\n",
       "            <td>VARCHAR</td>\n",
       "            <td>True</td>\n",
       "            <td>None</td>\n",
       "            <td>False</td>\n",
       "            <td>None</td>\n",
       "        </tr>\n",
       "        <tr>\n",
       "            <td>release_date</td>\n",
       "            <td>DATE</td>\n",
       "            <td>True</td>\n",
       "            <td>None</td>\n",
       "            <td>False</td>\n",
       "            <td>None</td>\n",
       "        </tr>\n",
       "        <tr>\n",
       "            <td>revenue</td>\n",
       "            <td>BIGINT</td>\n",
       "            <td>True</td>\n",
       "            <td>None</td>\n",
       "            <td>False</td>\n",
       "            <td>None</td>\n",
       "        </tr>\n",
       "        <tr>\n",
       "            <td>runtime</td>\n",
       "            <td>DOUBLE PRECISION</td>\n",
       "            <td>True</td>\n",
       "            <td>None</td>\n",
       "            <td>False</td>\n",
       "            <td>None</td>\n",
       "        </tr>\n",
       "        <tr>\n",
       "            <td>spoken_languages</td>\n",
       "            <td>VARCHAR</td>\n",
       "            <td>True</td>\n",
       "            <td>None</td>\n",
       "            <td>False</td>\n",
       "            <td>None</td>\n",
       "        </tr>\n",
       "        <tr>\n",
       "            <td>status</td>\n",
       "            <td>VARCHAR</td>\n",
       "            <td>True</td>\n",
       "            <td>None</td>\n",
       "            <td>False</td>\n",
       "            <td>None</td>\n",
       "        </tr>\n",
       "        <tr>\n",
       "            <td>tagline</td>\n",
       "            <td>VARCHAR</td>\n",
       "            <td>True</td>\n",
       "            <td>None</td>\n",
       "            <td>False</td>\n",
       "            <td>None</td>\n",
       "        </tr>\n",
       "        <tr>\n",
       "            <td>title</td>\n",
       "            <td>VARCHAR</td>\n",
       "            <td>True</td>\n",
       "            <td>None</td>\n",
       "            <td>False</td>\n",
       "            <td>None</td>\n",
       "        </tr>\n",
       "        <tr>\n",
       "            <td>video</td>\n",
       "            <td>BOOLEAN</td>\n",
       "            <td>True</td>\n",
       "            <td>None</td>\n",
       "            <td>False</td>\n",
       "            <td>None</td>\n",
       "        </tr>\n",
       "        <tr>\n",
       "            <td>vote_average</td>\n",
       "            <td>DOUBLE PRECISION</td>\n",
       "            <td>True</td>\n",
       "            <td>None</td>\n",
       "            <td>False</td>\n",
       "            <td>None</td>\n",
       "        </tr>\n",
       "        <tr>\n",
       "            <td>vote_count</td>\n",
       "            <td>BIGINT</td>\n",
       "            <td>True</td>\n",
       "            <td>None</td>\n",
       "            <td>False</td>\n",
       "            <td>None</td>\n",
       "        </tr>\n",
       "    </tbody>\n",
       "</table>"
      ],
      "text/plain": [
       "+-----------------------+------------------+----------+---------+---------------+---------+\n",
       "|          name         |       type       | nullable | default | autoincrement | comment |\n",
       "+-----------------------+------------------+----------+---------+---------------+---------+\n",
       "|         adult         |     BOOLEAN      |   True   |   None  |     False     |   None  |\n",
       "| belongs_to_collection |     VARCHAR      |   True   |   None  |     False     |   None  |\n",
       "|         budget        |      BIGINT      |   True   |   None  |     False     |   None  |\n",
       "|         genres        |     VARCHAR      |   True   |   None  |     False     |   None  |\n",
       "|        homepage       |     VARCHAR      |   True   |   None  |     False     |   None  |\n",
       "|           id          |      BIGINT      |   True   |   None  |     False     |   None  |\n",
       "|        imdb_id        |     VARCHAR      |   True   |   None  |     False     |   None  |\n",
       "|   original_language   |     VARCHAR      |   True   |   None  |     False     |   None  |\n",
       "|     original_title    |     VARCHAR      |   True   |   None  |     False     |   None  |\n",
       "|        overview       |     VARCHAR      |   True   |   None  |     False     |   None  |\n",
       "|       popularity      | DOUBLE PRECISION |   True   |   None  |     False     |   None  |\n",
       "|      poster_path      |     VARCHAR      |   True   |   None  |     False     |   None  |\n",
       "|  production_companies |     VARCHAR      |   True   |   None  |     False     |   None  |\n",
       "|  production_countries |     VARCHAR      |   True   |   None  |     False     |   None  |\n",
       "|      release_date     |       DATE       |   True   |   None  |     False     |   None  |\n",
       "|        revenue        |      BIGINT      |   True   |   None  |     False     |   None  |\n",
       "|        runtime        | DOUBLE PRECISION |   True   |   None  |     False     |   None  |\n",
       "|    spoken_languages   |     VARCHAR      |   True   |   None  |     False     |   None  |\n",
       "|         status        |     VARCHAR      |   True   |   None  |     False     |   None  |\n",
       "|        tagline        |     VARCHAR      |   True   |   None  |     False     |   None  |\n",
       "|         title         |     VARCHAR      |   True   |   None  |     False     |   None  |\n",
       "|         video         |     BOOLEAN      |   True   |   None  |     False     |   None  |\n",
       "|      vote_average     | DOUBLE PRECISION |   True   |   None  |     False     |   None  |\n",
       "|       vote_count      |      BIGINT      |   True   |   None  |     False     |   None  |\n",
       "+-----------------------+------------------+----------+---------+---------------+---------+"
      ]
     },
     "execution_count": 8,
     "metadata": {},
     "output_type": "execute_result"
    }
   ],
   "source": [
    "%sqlcmd columns --table movies"
   ]
  },
  {
   "cell_type": "code",
   "execution_count": 10,
   "metadata": {},
   "outputs": [
    {
     "data": {
      "text/html": [
       "<span style=\"None\">Running query in &#x27;duckdb:///data/movies.db&#x27;</span>"
      ],
      "text/plain": [
       "Running query in 'duckdb:///data/movies.db'"
      ]
     },
     "metadata": {},
     "output_type": "display_data"
    },
    {
     "data": {
      "text/html": [
       "<table>\n",
       "    <thead>\n",
       "        <tr>\n",
       "            <th>title</th>\n",
       "            <th>revenue</th>\n",
       "        </tr>\n",
       "    </thead>\n",
       "    <tbody>\n",
       "        <tr>\n",
       "            <td>Toy Story</td>\n",
       "            <td>373554033</td>\n",
       "        </tr>\n",
       "        <tr>\n",
       "            <td>Jumanji</td>\n",
       "            <td>262797249</td>\n",
       "        </tr>\n",
       "        <tr>\n",
       "            <td>Grumpier Old Men</td>\n",
       "            <td>0</td>\n",
       "        </tr>\n",
       "        <tr>\n",
       "            <td>Waiting to Exhale</td>\n",
       "            <td>81452156</td>\n",
       "        </tr>\n",
       "        <tr>\n",
       "            <td>Father of the Bride Part II</td>\n",
       "            <td>76578911</td>\n",
       "        </tr>\n",
       "        <tr>\n",
       "            <td>Heat</td>\n",
       "            <td>187436818</td>\n",
       "        </tr>\n",
       "        <tr>\n",
       "            <td>Sabrina</td>\n",
       "            <td>0</td>\n",
       "        </tr>\n",
       "        <tr>\n",
       "            <td>Tom and Huck</td>\n",
       "            <td>0</td>\n",
       "        </tr>\n",
       "        <tr>\n",
       "            <td>Sudden Death</td>\n",
       "            <td>64350171</td>\n",
       "        </tr>\n",
       "        <tr>\n",
       "            <td>GoldenEye</td>\n",
       "            <td>352194034</td>\n",
       "        </tr>\n",
       "    </tbody>\n",
       "</table>\n",
       "<span style=\"font-style:italic;text-align:center;\">Truncated to <a href=\"https://jupysql.ploomber.io/en/latest/api/configuration.html#displaylimit\">displaylimit</a> of 10.</span>"
      ],
      "text/plain": [
       "+-----------------------------+-----------+\n",
       "|            title            |  revenue  |\n",
       "+-----------------------------+-----------+\n",
       "|          Toy Story          | 373554033 |\n",
       "|           Jumanji           | 262797249 |\n",
       "|       Grumpier Old Men      |     0     |\n",
       "|      Waiting to Exhale      |  81452156 |\n",
       "| Father of the Bride Part II |  76578911 |\n",
       "|             Heat            | 187436818 |\n",
       "|           Sabrina           |     0     |\n",
       "|         Tom and Huck        |     0     |\n",
       "|         Sudden Death        |  64350171 |\n",
       "|          GoldenEye          | 352194034 |\n",
       "+-----------------------------+-----------+\n",
       "Truncated to displaylimit of 10."
      ]
     },
     "execution_count": 10,
     "metadata": {},
     "output_type": "execute_result"
    }
   ],
   "source": [
    "%%sql\n",
    "SELECT title, revenue FROM movies LIMIT 10"
   ]
  }
 ],
 "metadata": {
  "kernelspec": {
   "display_name": "Python 3",
   "language": "python",
   "name": "python3"
  },
  "language_info": {
   "codemirror_mode": {
    "name": "ipython",
    "version": 3
   },
   "file_extension": ".py",
   "mimetype": "text/x-python",
   "name": "python",
   "nbconvert_exporter": "python",
   "pygments_lexer": "ipython3",
   "version": "3.9.2"
  }
 },
 "nbformat": 4,
 "nbformat_minor": 2
}
