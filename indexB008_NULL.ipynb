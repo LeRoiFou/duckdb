{
 "cells": [
  {
   "cell_type": "markdown",
   "metadata": {},
   "source": [
    "[SQL NULL Values](https://www.w3schools.com/sql/sql_null_values.asp)\n",
    "\n",
    "<b> Syntaxe : </b><br>\n",
    "SELECT column_names\n",
    "FROM table_name\n",
    "WHERE column_name IS NULL;\n",
    "\n",
    "<b> Objet de la requête : </b><br>\n",
    "Un champ avec une valeur NULL est un champ sans valeur.\n",
    "\n",
    "Si un champ d'une table est facultatif, il est possible d'insérer un nouvel enregistrement ou de mettre à jour un enregistrement sans ajouter de valeur à ce champ. Dans ce cas, le champ sera sauvegardé avec une valeur NULL.\n",
    "\n",
    "Remarque : une valeur NULL est différente d'une valeur nulle ou d'un champ contenant des espaces. Un champ avec une valeur NULL est un champ qui a été laissé vide lors de la création de l'enregistrement !\n",
    "\n",
    "Date : 12-01-24"
   ]
  },
  {
   "cell_type": "code",
   "execution_count": 2,
   "metadata": {},
   "outputs": [],
   "source": [
    "import duckdb\n",
    "import polars as pl"
   ]
  },
  {
   "cell_type": "code",
   "execution_count": 3,
   "metadata": {},
   "outputs": [],
   "source": [
    "# Création d'une BD virtuelle\n",
    "conn = duckdb.connect()"
   ]
  },
  {
   "cell_type": "code",
   "execution_count": 4,
   "metadata": {},
   "outputs": [],
   "source": [
    "# Requête SQL : récup de toutes les données du fichier .csv dans un DF\n",
    "df = conn.execute(\n",
    "    \"\"\"\n",
    "    SELECT * FROM read_csv_auto('data/prisoners.csv', header=True)\n",
    "    \"\"\"\n",
    ").df()"
   ]
  },
  {
   "cell_type": "code",
   "execution_count": 5,
   "metadata": {},
   "outputs": [
    {
     "data": {
      "text/plain": [
       "<duckdb.duckdb.DuckDBPyConnection at 0x1f381a86ff0>"
      ]
     },
     "execution_count": 5,
     "metadata": {},
     "output_type": "execute_result"
    }
   ],
   "source": [
    "# Requête SQL : enregistrement de la DF ci-avant dans la BD virtuelle\n",
    "conn.register('df_view', df)"
   ]
  },
  {
   "cell_type": "markdown",
   "metadata": {},
   "source": [
    "Requête SQL : sélectionner les colonnes \"Last Name\", \"First Name\" et \"Last Statement\" (dernières volontés) -> filtrer la colonne \"Last Statement\" avec une valeur NULL et afficher les 5 premières lignes"
   ]
  },
  {
   "cell_type": "code",
   "execution_count": 9,
   "metadata": {},
   "outputs": [],
   "source": [
    "df = conn.execute(\n",
    "    \"\"\"\n",
    "    SELECT \"Last Name\", \"First Name\", \"Last Statement\"\n",
    "    FROM df_view\n",
    "    WHERE \"Last Statement\" IS NULL\n",
    "    LIMIT 5\n",
    "    \"\"\"\n",
    ").df()"
   ]
  },
  {
   "cell_type": "code",
   "execution_count": 10,
   "metadata": {},
   "outputs": [
    {
     "data": {
      "text/html": [
       "<div><style>\n",
       ".dataframe > thead > tr,\n",
       ".dataframe > tbody > tr {\n",
       "  text-align: right;\n",
       "  white-space: pre-wrap;\n",
       "}\n",
       "</style>\n",
       "<small>shape: (5, 3)</small><table border=\"1\" class=\"dataframe\"><thead><tr><th>Last Name</th><th>First Name</th><th>Last Statement</th></tr><tr><td>str</td><td>str</td><td>str</td></tr></thead><tbody><tr><td>&quot;Bible&quot;</td><td>&quot;Danny Paul&quot;</td><td>null</td></tr><tr><td>&quot;Wilkins&quot;</td><td>&quot;Christopher&quot;</td><td>null</td></tr><tr><td>&quot;Freeman&quot;</td><td>&quot;James&quot;</td><td>null</td></tr><tr><td>&quot;Sells&quot;</td><td>&quot;Tommy&quot;</td><td>null</td></tr><tr><td>&quot;Doyle&quot;</td><td>&quot;Anthony&quot;</td><td>null</td></tr></tbody></table></div>"
      ],
      "text/plain": [
       "shape: (5, 3)\n",
       "┌───────────┬─────────────┬────────────────┐\n",
       "│ Last Name ┆ First Name  ┆ Last Statement │\n",
       "│ ---       ┆ ---         ┆ ---            │\n",
       "│ str       ┆ str         ┆ str            │\n",
       "╞═══════════╪═════════════╪════════════════╡\n",
       "│ Bible     ┆ Danny Paul  ┆ null           │\n",
       "│ Wilkins   ┆ Christopher ┆ null           │\n",
       "│ Freeman   ┆ James       ┆ null           │\n",
       "│ Sells     ┆ Tommy       ┆ null           │\n",
       "│ Doyle     ┆ Anthony     ┆ null           │\n",
       "└───────────┴─────────────┴────────────────┘"
      ]
     },
     "execution_count": 10,
     "metadata": {},
     "output_type": "execute_result"
    }
   ],
   "source": [
    "# Récupération de la DF ci-avant en DF polars\n",
    "pl.from_pandas(df)"
   ]
  }
 ],
 "metadata": {
  "kernelspec": {
   "display_name": "Python 3",
   "language": "python",
   "name": "python3"
  },
  "language_info": {
   "codemirror_mode": {
    "name": "ipython",
    "version": 3
   },
   "file_extension": ".py",
   "mimetype": "text/x-python",
   "name": "python",
   "nbconvert_exporter": "python",
   "pygments_lexer": "ipython3",
   "version": "3.12.5"
  }
 },
 "nbformat": 4,
 "nbformat_minor": 2
}
