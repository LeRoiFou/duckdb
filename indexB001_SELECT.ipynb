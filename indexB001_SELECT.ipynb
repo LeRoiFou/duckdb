{
 "cells": [
  {
   "cell_type": "markdown",
   "metadata": {},
   "source": [
    "[SQL SELECT Statement](https://www.w3schools.com/sql/sql_select.asp)\n",
    "\n",
    "<b> Syntaxe : </b><br>\n",
    "SELECT column1, column2, ...\n",
    "FROM table_name;\n",
    "\n",
    "Date : 09-01-2024"
   ]
  },
  {
   "cell_type": "markdown",
   "metadata": {},
   "source": [
    "https://duckdb.org/docs/api/python/overview.html"
   ]
  },
  {
   "cell_type": "code",
   "execution_count": 13,
   "metadata": {},
   "outputs": [],
   "source": [
    "import duckdb\n",
    "import polars as pl"
   ]
  },
  {
   "cell_type": "code",
   "execution_count": 14,
   "metadata": {},
   "outputs": [],
   "source": [
    "# Création d'une base de données vide : \n",
    "conn = duckdb.connect()"
   ]
  },
  {
   "cell_type": "code",
   "execution_count": 15,
   "metadata": {},
   "outputs": [],
   "source": [
    "# Requête SQL : Récupération de toutes les lignes des fichiers .csv\n",
    "df = conn.execute(\n",
    "    \"\"\"\n",
    "    SELECT * \n",
    "    FROM read_csv_auto('data/prisoners.csv', header=True)\n",
    "    \"\"\").df()"
   ]
  },
  {
   "cell_type": "code",
   "execution_count": 16,
   "metadata": {},
   "outputs": [
    {
     "data": {
      "text/plain": [
       "<duckdb.duckdb.DuckDBPyConnection at 0x18548ec3bf0>"
      ]
     },
     "execution_count": 16,
     "metadata": {},
     "output_type": "execute_result"
    }
   ],
   "source": [
    "# Requête SQL : enregistrement virtuel de la base de données\n",
    "conn.register(\"df_view\", df)"
   ]
  },
  {
   "cell_type": "code",
   "execution_count": 17,
   "metadata": {},
   "outputs": [],
   "source": [
    "# Requête SQL : affichage des 5 premières lignes\n",
    "df_polars = conn.execute(\n",
    "    \"\"\"\n",
    "    SELECT * FROM df_view ORDER BY Execution LIMIT 5\n",
    "    \"\"\").df()"
   ]
  },
  {
   "cell_type": "code",
   "execution_count": 18,
   "metadata": {},
   "outputs": [
    {
     "data": {
      "text/html": [
       "<div><style>\n",
       ".dataframe > thead > tr,\n",
       ".dataframe > tbody > tr {\n",
       "  text-align: right;\n",
       "  white-space: pre-wrap;\n",
       "}\n",
       "</style>\n",
       "<small>shape: (5, 18)</small><table border=\"1\" class=\"dataframe\"><thead><tr><th>Execution</th><th>Date of Birth</th><th>Date of Offence</th><th>Highest Education Level</th><th>Last Name</th><th>First Name</th><th>TDCJ\n",
       "Number</th><th>Age at Execution</th><th>Date Received</th><th>Execution Date</th><th>Race</th><th>County</th><th>Eye Color</th><th>Weight</th><th>Height</th><th>Native County</th><th>Native State</th><th>Last Statement</th></tr><tr><td>i64</td><td>datetime[μs]</td><td>datetime[μs]</td><td>f64</td><td>str</td><td>str</td><td>i64</td><td>i64</td><td>datetime[μs]</td><td>datetime[μs]</td><td>str</td><td>str</td><td>str</td><td>f64</td><td>str</td><td>str</td><td>str</td><td>str</td></tr></thead><tbody><tr><td>1</td><td>1942-09-01 00:00:00</td><td>1976-12-14 00:00:00</td><td>12.0</td><td>&quot;Brooks, Jr.&quot;</td><td>&quot;Charlie&quot;</td><td>592</td><td>40</td><td>1978-04-25 00:00:00</td><td>1982-12-07 00:00:00</td><td>&quot;Black&quot;</td><td>&quot;Tarrant&quot;</td><td>&quot;Maroon&quot;</td><td>150.0</td><td>&quot;5&#x27; 9&quot;&quot;</td><td>&quot;Tarrant&quot;</td><td>&quot;Texas&quot;</td><td>&quot;(Statement to the Media:) I, a…</td></tr><tr><td>2</td><td>1954-09-27 00:00:00</td><td>1980-04-20 00:00:00</td><td>6.0</td><td>&quot;Autry&quot;</td><td>&quot;James&quot;</td><td>670</td><td>29</td><td>1980-10-10 00:00:00</td><td>1984-03-14 00:00:00</td><td>&quot;White&quot;</td><td>&quot;Jefferson&quot;</td><td>&quot;Brown&quot;</td><td>137.0</td><td>&quot;5&#x27; 8&quot;&quot;</td><td>&quot;Potter&quot;</td><td>&quot;Texas&quot;</td><td>null</td></tr><tr><td>3</td><td>1944-10-19 00:00:00</td><td>null</td><td>null</td><td>&quot;O&#x27;Bryan&quot;</td><td>&quot;Ronald&quot;</td><td>529</td><td>39</td><td>1975-07-14 00:00:00</td><td>1984-03-31 00:00:00</td><td>&quot;White&quot;</td><td>&quot;Harris&quot;</td><td>null</td><td>null</td><td>null</td><td>null</td><td>null</td><td>&quot;What is about to transpire in …</td></tr><tr><td>4</td><td>1945-02-23 00:00:00</td><td>1978-08-07 00:00:00</td><td>null</td><td>&quot;Barefoot&quot;</td><td>&quot;Thomas&quot;</td><td>621</td><td>39</td><td>1978-11-21 00:00:00</td><td>1984-10-30 00:00:00</td><td>&quot;White&quot;</td><td>&quot;Bell&quot;</td><td>null</td><td>null</td><td>null</td><td>null</td><td>null</td><td>&quot;Yes, I do. I hope that one day…</td></tr><tr><td>5</td><td>1936-04-08 00:00:00</td><td>1974-10-23 00:00:00</td><td>null</td><td>&quot;Skillern&quot;</td><td>&quot;Doyle&quot;</td><td>518</td><td>49</td><td>1975-03-03 00:00:00</td><td>1985-01-16 00:00:00</td><td>&quot;White&quot;</td><td>&quot;Lubbock&quot;</td><td>null</td><td>null</td><td>null</td><td>null</td><td>null</td><td>&quot;I pray that my family will rej…</td></tr></tbody></table></div>"
      ],
      "text/plain": [
       "shape: (5, 18)\n",
       "┌───────────┬─────────────┬─────────────┬─────────────┬───┬────────┬─────────┬────────┬────────────┐\n",
       "│ Execution ┆ Date of     ┆ Date of     ┆ Highest     ┆ … ┆ Height ┆ Native  ┆ Native ┆ Last       │\n",
       "│ ---       ┆ Birth       ┆ Offence     ┆ Education   ┆   ┆ ---    ┆ County  ┆ State  ┆ Statement  │\n",
       "│ i64       ┆ ---         ┆ ---         ┆ Level       ┆   ┆ str    ┆ ---     ┆ ---    ┆ ---        │\n",
       "│           ┆ datetime[μs ┆ datetime[μs ┆ ---         ┆   ┆        ┆ str     ┆ str    ┆ str        │\n",
       "│           ┆ ]           ┆ ]           ┆ f64         ┆   ┆        ┆         ┆        ┆            │\n",
       "╞═══════════╪═════════════╪═════════════╪═════════════╪═══╪════════╪═════════╪════════╪════════════╡\n",
       "│ 1         ┆ 1942-09-01  ┆ 1976-12-14  ┆ 12.0        ┆ … ┆ 5' 9\"  ┆ Tarrant ┆ Texas  ┆ (Statement │\n",
       "│           ┆ 00:00:00    ┆ 00:00:00    ┆             ┆   ┆        ┆         ┆        ┆ to the     │\n",
       "│           ┆             ┆             ┆             ┆   ┆        ┆         ┆        ┆ Media:) I, │\n",
       "│           ┆             ┆             ┆             ┆   ┆        ┆         ┆        ┆ a…         │\n",
       "│ 2         ┆ 1954-09-27  ┆ 1980-04-20  ┆ 6.0         ┆ … ┆ 5' 8\"  ┆ Potter  ┆ Texas  ┆ null       │\n",
       "│           ┆ 00:00:00    ┆ 00:00:00    ┆             ┆   ┆        ┆         ┆        ┆            │\n",
       "│ 3         ┆ 1944-10-19  ┆ null        ┆ null        ┆ … ┆ null   ┆ null    ┆ null   ┆ What is    │\n",
       "│           ┆ 00:00:00    ┆             ┆             ┆   ┆        ┆         ┆        ┆ about to   │\n",
       "│           ┆             ┆             ┆             ┆   ┆        ┆         ┆        ┆ transpire  │\n",
       "│           ┆             ┆             ┆             ┆   ┆        ┆         ┆        ┆ in …       │\n",
       "│ 4         ┆ 1945-02-23  ┆ 1978-08-07  ┆ null        ┆ … ┆ null   ┆ null    ┆ null   ┆ Yes, I do. │\n",
       "│           ┆ 00:00:00    ┆ 00:00:00    ┆             ┆   ┆        ┆         ┆        ┆ I hope     │\n",
       "│           ┆             ┆             ┆             ┆   ┆        ┆         ┆        ┆ that one   │\n",
       "│           ┆             ┆             ┆             ┆   ┆        ┆         ┆        ┆ day…       │\n",
       "│ 5         ┆ 1936-04-08  ┆ 1974-10-23  ┆ null        ┆ … ┆ null   ┆ null    ┆ null   ┆ I pray     │\n",
       "│           ┆ 00:00:00    ┆ 00:00:00    ┆             ┆   ┆        ┆         ┆        ┆ that my    │\n",
       "│           ┆             ┆             ┆             ┆   ┆        ┆         ┆        ┆ family     │\n",
       "│           ┆             ┆             ┆             ┆   ┆        ┆         ┆        ┆ will rej…  │\n",
       "└───────────┴─────────────┴─────────────┴─────────────┴───┴────────┴─────────┴────────┴────────────┘"
      ]
     },
     "execution_count": 18,
     "metadata": {},
     "output_type": "execute_result"
    }
   ],
   "source": [
    "# Récupération de la requête ci-avant sous DF polars\n",
    "pl.from_pandas(df_polars)"
   ]
  },
  {
   "cell_type": "code",
   "execution_count": 19,
   "metadata": {},
   "outputs": [
    {
     "data": {
      "text/html": [
       "<div>\n",
       "<style scoped>\n",
       "    .dataframe tbody tr th:only-of-type {\n",
       "        vertical-align: middle;\n",
       "    }\n",
       "\n",
       "    .dataframe tbody tr th {\n",
       "        vertical-align: top;\n",
       "    }\n",
       "\n",
       "    .dataframe thead th {\n",
       "        text-align: right;\n",
       "    }\n",
       "</style>\n",
       "<table border=\"1\" class=\"dataframe\">\n",
       "  <thead>\n",
       "    <tr style=\"text-align: right;\">\n",
       "      <th></th>\n",
       "      <th>First Name</th>\n",
       "      <th>Last Name</th>\n",
       "    </tr>\n",
       "  </thead>\n",
       "  <tbody>\n",
       "    <tr>\n",
       "      <th>0</th>\n",
       "      <td>Christopher Anthony</td>\n",
       "      <td>Young</td>\n",
       "    </tr>\n",
       "    <tr>\n",
       "      <th>1</th>\n",
       "      <td>Danny Paul</td>\n",
       "      <td>Bible</td>\n",
       "    </tr>\n",
       "    <tr>\n",
       "      <th>2</th>\n",
       "      <td>Juan Edward</td>\n",
       "      <td>Castillo</td>\n",
       "    </tr>\n",
       "    <tr>\n",
       "      <th>3</th>\n",
       "      <td>Erick Daniel</td>\n",
       "      <td>Davila</td>\n",
       "    </tr>\n",
       "    <tr>\n",
       "      <th>4</th>\n",
       "      <td>Rosendo</td>\n",
       "      <td>Rodriguez III</td>\n",
       "    </tr>\n",
       "  </tbody>\n",
       "</table>\n",
       "</div>"
      ],
      "text/plain": [
       "            First Name      Last Name\n",
       "0  Christopher Anthony          Young\n",
       "1           Danny Paul          Bible\n",
       "2          Juan Edward       Castillo\n",
       "3         Erick Daniel         Davila\n",
       "4              Rosendo  Rodriguez III"
      ]
     },
     "execution_count": 19,
     "metadata": {},
     "output_type": "execute_result"
    }
   ],
   "source": [
    "# Affichage des colonnes nom et prénom des 5 premières lignes\n",
    "conn.execute(\n",
    "    \"\"\"\n",
    "    SELECT \"First Name\", \"Last Name\" \n",
    "    FROM df_view \n",
    "    LIMIT 5\n",
    "    \"\"\").df()"
   ]
  },
  {
   "cell_type": "code",
   "execution_count": 20,
   "metadata": {},
   "outputs": [],
   "source": [
    "# Fermeture de la connexion\n",
    "conn.close()"
   ]
  }
 ],
 "metadata": {
  "kernelspec": {
   "display_name": "Python 3",
   "language": "python",
   "name": "python3"
  },
  "language_info": {
   "codemirror_mode": {
    "name": "ipython",
    "version": 3
   },
   "file_extension": ".py",
   "mimetype": "text/x-python",
   "name": "python",
   "nbconvert_exporter": "python",
   "pygments_lexer": "ipython3",
   "version": "3.12.5"
  }
 },
 "nbformat": 4,
 "nbformat_minor": 2
}
