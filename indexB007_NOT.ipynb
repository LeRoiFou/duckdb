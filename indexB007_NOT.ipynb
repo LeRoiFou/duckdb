{
 "cells": [
  {
   "cell_type": "markdown",
   "metadata": {},
   "source": [
    "[SQL NOT Operator](https://www.w3schools.com/sql/sql_not.asp)\n",
    "\n",
    "<b> Syntaxe : </b><br>\n",
    "SELECT column1, column2, ...\n",
    "FROM table_name\n",
    "WHERE NOT condition;\n",
    "\n",
    "<b> Objet de la requête : </b><br>\n",
    "L'opérateur NOT est utilisé en combinaison avec d'autres opérateurs pour obtenir le résultat opposé, également appelé résultat négatif.\n",
    "\n",
    "Date : 12-01-34"
   ]
  },
  {
   "cell_type": "code",
   "execution_count": 1,
   "metadata": {},
   "outputs": [],
   "source": [
    "import duckdb\n",
    "import polars as pl"
   ]
  },
  {
   "cell_type": "code",
   "execution_count": 2,
   "metadata": {},
   "outputs": [],
   "source": [
    "# Création d'une BD virtuelle\n",
    "conn = duckdb.connect()"
   ]
  },
  {
   "cell_type": "code",
   "execution_count": 3,
   "metadata": {},
   "outputs": [],
   "source": [
    "# Requête SQL : récupération de toutes les données du fichier .csv\n",
    "df = conn.execute(\n",
    "    \"\"\"\n",
    "    SELECT * FROM read_csv_auto('data/prisoners.csv', header=True)\n",
    "    \"\"\"\n",
    ").df()"
   ]
  },
  {
   "cell_type": "code",
   "execution_count": 4,
   "metadata": {},
   "outputs": [
    {
     "data": {
      "text/plain": [
       "<duckdb.duckdb.DuckDBPyConnection at 0x1b39950fbf0>"
      ]
     },
     "execution_count": 4,
     "metadata": {},
     "output_type": "execute_result"
    }
   ],
   "source": [
    "# Requête SQL : enregistrement de la requête ci-avant dans la BD virtuelle\n",
    "conn.register('df_view', df)"
   ]
  },
  {
   "cell_type": "markdown",
   "metadata": {},
   "source": [
    "Requête SQL : récupérer les colonnes \"Last Name\", \"First Name\" et \"Race\" en filtant la colonne \"Race\" non contenant pas la valeur 'Black' et afficher les 10 premières lignes"
   ]
  },
  {
   "cell_type": "code",
   "execution_count": 9,
   "metadata": {},
   "outputs": [],
   "source": [
    "df = conn.execute(\n",
    "    \"\"\"\n",
    "    SELECT \"Last Name\", \"First Name\", \"Race\"\n",
    "    FROM df_view\n",
    "    WHERE \"Race\" NOT LIKE 'Black'\n",
    "    LIMIT 10\n",
    "    \"\"\"\n",
    ").df()"
   ]
  },
  {
   "cell_type": "code",
   "execution_count": 10,
   "metadata": {},
   "outputs": [
    {
     "data": {
      "text/html": [
       "<div><style>\n",
       ".dataframe > thead > tr,\n",
       ".dataframe > tbody > tr {\n",
       "  text-align: right;\n",
       "  white-space: pre-wrap;\n",
       "}\n",
       "</style>\n",
       "<small>shape: (10, 3)</small><table border=\"1\" class=\"dataframe\"><thead><tr><th>Last Name</th><th>First Name</th><th>Race</th></tr><tr><td>str</td><td>str</td><td>str</td></tr></thead><tbody><tr><td>&quot;Bible&quot;</td><td>&quot;Danny Paul&quot;</td><td>&quot;White&quot;</td></tr><tr><td>&quot;Castillo&quot;</td><td>&quot;Juan Edward&quot;</td><td>&quot;Hispanic&quot;</td></tr><tr><td>&quot;Rodriguez III&quot;</td><td>&quot;Rosendo&quot;</td><td>&quot;Hispanic&quot;</td></tr><tr><td>&quot;Battaglia&quot;</td><td>&quot;John David&quot;</td><td>&quot;White&quot;</td></tr><tr><td>&quot;Shore&quot;</td><td>&quot;Anthony&quot;</td><td>&quot;White&quot;</td></tr><tr><td>&quot;Cardenas&quot;</td><td>&quot;Ruben&quot;</td><td>&quot;Hispanic&quot;</td></tr><tr><td>&quot;Pruett&quot;</td><td>&quot;Robert Lynn&quot;</td><td>&quot;White&quot;</td></tr><tr><td>&quot;Bigby&quot;</td><td>&quot;James Eugene&quot;</td><td>&quot;White&quot;</td></tr><tr><td>&quot;Ruiz&quot;</td><td>&quot;Rolando&quot;</td><td>&quot;Hispanic&quot;</td></tr><tr><td>&quot;Wilkins&quot;</td><td>&quot;Christopher&quot;</td><td>&quot;White&quot;</td></tr></tbody></table></div>"
      ],
      "text/plain": [
       "shape: (10, 3)\n",
       "┌───────────────┬──────────────┬──────────┐\n",
       "│ Last Name     ┆ First Name   ┆ Race     │\n",
       "│ ---           ┆ ---          ┆ ---      │\n",
       "│ str           ┆ str          ┆ str      │\n",
       "╞═══════════════╪══════════════╪══════════╡\n",
       "│ Bible         ┆ Danny Paul   ┆ White    │\n",
       "│ Castillo      ┆ Juan Edward  ┆ Hispanic │\n",
       "│ Rodriguez III ┆ Rosendo      ┆ Hispanic │\n",
       "│ Battaglia     ┆ John David   ┆ White    │\n",
       "│ Shore         ┆ Anthony      ┆ White    │\n",
       "│ Cardenas      ┆ Ruben        ┆ Hispanic │\n",
       "│ Pruett        ┆ Robert Lynn  ┆ White    │\n",
       "│ Bigby         ┆ James Eugene ┆ White    │\n",
       "│ Ruiz          ┆ Rolando      ┆ Hispanic │\n",
       "│ Wilkins       ┆ Christopher  ┆ White    │\n",
       "└───────────────┴──────────────┴──────────┘"
      ]
     },
     "execution_count": 10,
     "metadata": {},
     "output_type": "execute_result"
    }
   ],
   "source": [
    "# Requête SQL : récupération de la BD virtuelle ci-avant sous DF polars\n",
    "pl.from_pandas(df)"
   ]
  }
 ],
 "metadata": {
  "kernelspec": {
   "display_name": "Python 3",
   "language": "python",
   "name": "python3"
  },
  "language_info": {
   "codemirror_mode": {
    "name": "ipython",
    "version": 3
   },
   "file_extension": ".py",
   "mimetype": "text/x-python",
   "name": "python",
   "nbconvert_exporter": "python",
   "pygments_lexer": "ipython3",
   "version": "3.12.5"
  }
 },
 "nbformat": 4,
 "nbformat_minor": 2
}
