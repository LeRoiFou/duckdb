{
 "cells": [
  {
   "cell_type": "markdown",
   "metadata": {},
   "source": [
    "[SQL WHERE Clause](https://www.w3schools.com/sql/sql_where.asp)\n",
    "\n",
    "<b> Syntaxe : </b><br>\n",
    "SELECT column1, column2, ...\n",
    "FROM table_name\n",
    "WHERE condition;\n",
    "\n",
    "<b> Objet de la requête : </b><br>\n",
    "La clause WHERE est utilisée pour filtrer les enregistrements.\n",
    "Elle permet d'extraire uniquement les enregistrements qui remplissent une condition donnée.\n",
    "\n",
    "Date : 09-01-24"
   ]
  },
  {
   "cell_type": "code",
   "execution_count": 1,
   "metadata": {},
   "outputs": [],
   "source": [
    "import duckdb\n",
    "import polars as pl"
   ]
  },
  {
   "cell_type": "code",
   "execution_count": 2,
   "metadata": {},
   "outputs": [],
   "source": [
    "# Création d'une BD vide\n",
    "conn = duckdb.connect()"
   ]
  },
  {
   "cell_type": "code",
   "execution_count": 5,
   "metadata": {},
   "outputs": [],
   "source": [
    "# Requête SQL : récupération de toutes les lignes du fichier .csv\n",
    "df = conn.execute(\n",
    "    \"\"\"\n",
    "    SELECT * FROM read_csv_auto('data/prisoners.csv', header=True)\n",
    "    \"\"\"\n",
    ").df()"
   ]
  },
  {
   "cell_type": "code",
   "execution_count": 7,
   "metadata": {},
   "outputs": [
    {
     "data": {
      "text/html": [
       "<div>\n",
       "<style scoped>\n",
       "    .dataframe tbody tr th:only-of-type {\n",
       "        vertical-align: middle;\n",
       "    }\n",
       "\n",
       "    .dataframe tbody tr th {\n",
       "        vertical-align: top;\n",
       "    }\n",
       "\n",
       "    .dataframe thead th {\n",
       "        text-align: right;\n",
       "    }\n",
       "</style>\n",
       "<table border=\"1\" class=\"dataframe\">\n",
       "  <thead>\n",
       "    <tr style=\"text-align: right;\">\n",
       "      <th></th>\n",
       "      <th>Execution</th>\n",
       "      <th>Date of Birth</th>\n",
       "      <th>Date of Offence</th>\n",
       "      <th>Highest Education Level</th>\n",
       "      <th>Last Name</th>\n",
       "      <th>First Name</th>\n",
       "      <th>TDCJ\\nNumber</th>\n",
       "      <th>Age at Execution</th>\n",
       "      <th>Date Received</th>\n",
       "      <th>Execution Date</th>\n",
       "      <th>Race</th>\n",
       "      <th>County</th>\n",
       "      <th>Eye Color</th>\n",
       "      <th>Weight</th>\n",
       "      <th>Height</th>\n",
       "      <th>Native County</th>\n",
       "      <th>Native State</th>\n",
       "      <th>Last Statement</th>\n",
       "    </tr>\n",
       "  </thead>\n",
       "  <tbody>\n",
       "    <tr>\n",
       "      <th>0</th>\n",
       "      <td>553</td>\n",
       "      <td>1983-09-24</td>\n",
       "      <td>2004-11-21</td>\n",
       "      <td>9.0</td>\n",
       "      <td>Young</td>\n",
       "      <td>Christopher Anthony</td>\n",
       "      <td>999508</td>\n",
       "      <td>34</td>\n",
       "      <td>2006-03-31</td>\n",
       "      <td>2018-07-17</td>\n",
       "      <td>Black</td>\n",
       "      <td>Bexar</td>\n",
       "      <td>Brown</td>\n",
       "      <td>216.0</td>\n",
       "      <td>6' 1\"</td>\n",
       "      <td>Bexar</td>\n",
       "      <td>Texas</td>\n",
       "      <td>l want to make sure the Patel family knows I l...</td>\n",
       "    </tr>\n",
       "    <tr>\n",
       "      <th>1</th>\n",
       "      <td>552</td>\n",
       "      <td>1951-08-28</td>\n",
       "      <td>1979-05-27</td>\n",
       "      <td>12.0</td>\n",
       "      <td>Bible</td>\n",
       "      <td>Danny Paul</td>\n",
       "      <td>999455</td>\n",
       "      <td>66</td>\n",
       "      <td>2003-07-17</td>\n",
       "      <td>2018-06-27</td>\n",
       "      <td>White</td>\n",
       "      <td>Harris</td>\n",
       "      <td>Blue</td>\n",
       "      <td>194.0</td>\n",
       "      <td>5' 7\"</td>\n",
       "      <td>Brazoria</td>\n",
       "      <td>Texas</td>\n",
       "      <td>None</td>\n",
       "    </tr>\n",
       "    <tr>\n",
       "      <th>2</th>\n",
       "      <td>551</td>\n",
       "      <td>1981-04-03</td>\n",
       "      <td>2003-12-03</td>\n",
       "      <td>10.0</td>\n",
       "      <td>Castillo</td>\n",
       "      <td>Juan Edward</td>\n",
       "      <td>999502</td>\n",
       "      <td>37</td>\n",
       "      <td>2005-09-27</td>\n",
       "      <td>2018-05-16</td>\n",
       "      <td>Hispanic</td>\n",
       "      <td>Bexar</td>\n",
       "      <td>Brown</td>\n",
       "      <td>180.0</td>\n",
       "      <td>5' 11\"</td>\n",
       "      <td>Bexar</td>\n",
       "      <td>Texas</td>\n",
       "      <td>To everyone that has been there for me you kno...</td>\n",
       "    </tr>\n",
       "    <tr>\n",
       "      <th>3</th>\n",
       "      <td>550</td>\n",
       "      <td>1987-04-04</td>\n",
       "      <td>2008-04-06</td>\n",
       "      <td>11.0</td>\n",
       "      <td>Davila</td>\n",
       "      <td>Erick Daniel</td>\n",
       "      <td>999545</td>\n",
       "      <td>31</td>\n",
       "      <td>2009-02-27</td>\n",
       "      <td>2018-04-25</td>\n",
       "      <td>Black</td>\n",
       "      <td>Tarrant</td>\n",
       "      <td>Brown</td>\n",
       "      <td>161.0</td>\n",
       "      <td>5' 11\"</td>\n",
       "      <td>Tarrant</td>\n",
       "      <td>Texas</td>\n",
       "      <td>Yes, I would like to say nephew it burns huh. ...</td>\n",
       "    </tr>\n",
       "    <tr>\n",
       "      <th>4</th>\n",
       "      <td>549</td>\n",
       "      <td>1980-03-26</td>\n",
       "      <td>2005-09-13</td>\n",
       "      <td>12.0</td>\n",
       "      <td>Rodriguez III</td>\n",
       "      <td>Rosendo</td>\n",
       "      <td>999534</td>\n",
       "      <td>38</td>\n",
       "      <td>2008-05-14</td>\n",
       "      <td>2018-03-27</td>\n",
       "      <td>Hispanic</td>\n",
       "      <td>Lubbock</td>\n",
       "      <td>Brown</td>\n",
       "      <td>198.0</td>\n",
       "      <td>5' 8\"</td>\n",
       "      <td>Wichita</td>\n",
       "      <td>Texas</td>\n",
       "      <td>First I would like to say I have been here sin...</td>\n",
       "    </tr>\n",
       "  </tbody>\n",
       "</table>\n",
       "</div>"
      ],
      "text/plain": [
       "   Execution Date of Birth Date of Offence  Highest Education Level  \\\n",
       "0        553    1983-09-24      2004-11-21                      9.0   \n",
       "1        552    1951-08-28      1979-05-27                     12.0   \n",
       "2        551    1981-04-03      2003-12-03                     10.0   \n",
       "3        550    1987-04-04      2008-04-06                     11.0   \n",
       "4        549    1980-03-26      2005-09-13                     12.0   \n",
       "\n",
       "       Last Name           First Name  TDCJ\\nNumber  Age at Execution  \\\n",
       "0          Young  Christopher Anthony        999508                34   \n",
       "1          Bible           Danny Paul        999455                66   \n",
       "2       Castillo          Juan Edward        999502                37   \n",
       "3         Davila         Erick Daniel        999545                31   \n",
       "4  Rodriguez III              Rosendo        999534                38   \n",
       "\n",
       "  Date Received Execution Date      Race   County Eye Color  Weight  Height  \\\n",
       "0    2006-03-31     2018-07-17     Black    Bexar     Brown   216.0   6' 1\"   \n",
       "1    2003-07-17     2018-06-27     White   Harris      Blue   194.0   5' 7\"   \n",
       "2    2005-09-27     2018-05-16  Hispanic    Bexar     Brown   180.0  5' 11\"   \n",
       "3    2009-02-27     2018-04-25     Black  Tarrant     Brown   161.0  5' 11\"   \n",
       "4    2008-05-14     2018-03-27  Hispanic  Lubbock     Brown   198.0   5' 8\"   \n",
       "\n",
       "  Native County Native State  \\\n",
       "0         Bexar        Texas   \n",
       "1      Brazoria        Texas   \n",
       "2         Bexar        Texas   \n",
       "3       Tarrant        Texas   \n",
       "4       Wichita        Texas   \n",
       "\n",
       "                                      Last Statement  \n",
       "0  l want to make sure the Patel family knows I l...  \n",
       "1                                               None  \n",
       "2  To everyone that has been there for me you kno...  \n",
       "3  Yes, I would like to say nephew it burns huh. ...  \n",
       "4  First I would like to say I have been here sin...  "
      ]
     },
     "execution_count": 7,
     "metadata": {},
     "output_type": "execute_result"
    }
   ],
   "source": [
    "df.head()"
   ]
  },
  {
   "cell_type": "code",
   "execution_count": 6,
   "metadata": {},
   "outputs": [
    {
     "data": {
      "text/plain": [
       "<duckdb.duckdb.DuckDBPyConnection at 0x196d0d691b0>"
      ]
     },
     "execution_count": 6,
     "metadata": {},
     "output_type": "execute_result"
    }
   ],
   "source": [
    "# Requête SQL : enregistrement virtuel de la BD\n",
    "conn.register('df_view', df)"
   ]
  },
  {
   "cell_type": "code",
   "execution_count": 10,
   "metadata": {},
   "outputs": [],
   "source": [
    "# Requête SQL : nom, prénom et âge des prisonniers exécutés et âgés de moins de 25 ans\n",
    "df_polars = conn.execute(\n",
    "    \"\"\"\n",
    "    SELECT \"Last Name\", \"First Name\", \"Age at Execution\"\n",
    "    FROM df_view WHERE \"Age at Execution\" < 25\n",
    "    \"\"\"\n",
    ").df()"
   ]
  },
  {
   "cell_type": "code",
   "execution_count": 11,
   "metadata": {},
   "outputs": [
    {
     "data": {
      "text/html": [
       "<div><style>\n",
       ".dataframe > thead > tr,\n",
       ".dataframe > tbody > tr {\n",
       "  text-align: right;\n",
       "  white-space: pre-wrap;\n",
       "}\n",
       "</style>\n",
       "<small>shape: (3, 3)</small><table border=\"1\" class=\"dataframe\"><thead><tr><th>Last Name</th><th>First Name</th><th>Age at Execution</th></tr><tr><td>str</td><td>str</td><td>i64</td></tr></thead><tbody><tr><td>&quot;Patterson&quot;</td><td>&quot;Toronto&quot;</td><td>24</td></tr><tr><td>&quot;Pinkerton&quot;</td><td>&quot;Jay&quot;</td><td>24</td></tr><tr><td>&quot;De La Rosa&quot;</td><td>&quot;Jesse&quot;</td><td>24</td></tr></tbody></table></div>"
      ],
      "text/plain": [
       "shape: (3, 3)\n",
       "┌────────────┬────────────┬──────────────────┐\n",
       "│ Last Name  ┆ First Name ┆ Age at Execution │\n",
       "│ ---        ┆ ---        ┆ ---              │\n",
       "│ str        ┆ str        ┆ i64              │\n",
       "╞════════════╪════════════╪══════════════════╡\n",
       "│ Patterson  ┆ Toronto    ┆ 24               │\n",
       "│ Pinkerton  ┆ Jay        ┆ 24               │\n",
       "│ De La Rosa ┆ Jesse      ┆ 24               │\n",
       "└────────────┴────────────┴──────────────────┘"
      ]
     },
     "execution_count": 11,
     "metadata": {},
     "output_type": "execute_result"
    }
   ],
   "source": [
    "# Récupération de la requête ci-avant sous DF polars\n",
    "pl.from_pandas(df_polars)"
   ]
  }
 ],
 "metadata": {
  "kernelspec": {
   "display_name": ".venv",
   "language": "python",
   "name": "python3"
  },
  "language_info": {
   "codemirror_mode": {
    "name": "ipython",
    "version": 3
   },
   "file_extension": ".py",
   "mimetype": "text/x-python",
   "name": "python",
   "nbconvert_exporter": "python",
   "pygments_lexer": "ipython3",
   "version": "3.12.5"
  }
 },
 "nbformat": 4,
 "nbformat_minor": 2
}
