{
 "cells": [
  {
   "cell_type": "markdown",
   "metadata": {},
   "source": [
    "Multiples essais : \n",
    "- Sauvegarde dans une DF\n",
    "- Problème d'encodage\n",
    "- Champs avec des espaces\n",
    "\n",
    "Date : 06-01-24 <br>\n",
    "Éditeur : Laurent Reynaud"
   ]
  },
  {
   "cell_type": "code",
   "execution_count": 1,
   "metadata": {},
   "outputs": [],
   "source": [
    "import duckdb"
   ]
  },
  {
   "cell_type": "code",
   "execution_count": 2,
   "metadata": {},
   "outputs": [],
   "source": [
    "# Connexion native à DuckDB : pour saisir du SQL sur notebook jupyter\n",
    "%load_ext sql\n",
    "conn = duckdb.connect()\n",
    "%sql conn --alias duckdb"
   ]
  },
  {
   "cell_type": "code",
   "execution_count": 3,
   "metadata": {},
   "outputs": [],
   "source": [
    "# Configurations sur jupysql pour afficher les données en DF\n",
    "%config SqlMagic.autopandas = True"
   ]
  },
  {
   "cell_type": "code",
   "execution_count": 4,
   "metadata": {},
   "outputs": [
    {
     "data": {
      "text/html": [
       "<span style=\"None\">Connecting and switching to connection &#x27;duckdb:///:default:&#x27;</span>"
      ],
      "text/plain": [
       "Connecting and switching to connection 'duckdb:///:default:'"
      ]
     },
     "metadata": {},
     "output_type": "display_data"
    }
   ],
   "source": [
    "# Connection jupysql à DuckDB\n",
    "%sql duckdb:///:default:"
   ]
  },
  {
   "cell_type": "code",
   "execution_count": 13,
   "metadata": {},
   "outputs": [
    {
     "data": {
      "text/html": [
       "<span style=\"None\">Running query in &#x27;duckdb:///:default:&#x27;</span>"
      ],
      "text/plain": [
       "Running query in 'duckdb:///:default:'"
      ]
     },
     "metadata": {},
     "output_type": "display_data"
    },
    {
     "data": {
      "text/html": [
       "<div>\n",
       "<style scoped>\n",
       "    .dataframe tbody tr th:only-of-type {\n",
       "        vertical-align: middle;\n",
       "    }\n",
       "\n",
       "    .dataframe tbody tr th {\n",
       "        vertical-align: top;\n",
       "    }\n",
       "\n",
       "    .dataframe thead th {\n",
       "        text-align: right;\n",
       "    }\n",
       "</style>\n",
       "<table border=\"1\" class=\"dataframe\">\n",
       "  <thead>\n",
       "    <tr style=\"text-align: right;\">\n",
       "      <th></th>\n",
       "      <th>vin</th>\n",
       "      <th>back_legroom</th>\n",
       "      <th>bed</th>\n",
       "      <th>bed_height</th>\n",
       "      <th>bed_length</th>\n",
       "      <th>body_type</th>\n",
       "      <th>cabin</th>\n",
       "      <th>city</th>\n",
       "      <th>city_fuel_economy</th>\n",
       "      <th>combine_fuel_economy</th>\n",
       "      <th>...</th>\n",
       "      <th>transmission</th>\n",
       "      <th>transmission_display</th>\n",
       "      <th>trimId</th>\n",
       "      <th>trim_name</th>\n",
       "      <th>vehicle_damage_category</th>\n",
       "      <th>wheel_system</th>\n",
       "      <th>wheel_system_display</th>\n",
       "      <th>wheelbase</th>\n",
       "      <th>width</th>\n",
       "      <th>year</th>\n",
       "    </tr>\n",
       "  </thead>\n",
       "  <tbody>\n",
       "    <tr>\n",
       "      <th>0</th>\n",
       "      <td>3MZBPABL6KM107908</td>\n",
       "      <td>35.1 in</td>\n",
       "      <td>None</td>\n",
       "      <td>None</td>\n",
       "      <td>None</td>\n",
       "      <td>Sedan</td>\n",
       "      <td>None</td>\n",
       "      <td>Bayamon</td>\n",
       "      <td>NaN</td>\n",
       "      <td>None</td>\n",
       "      <td>...</td>\n",
       "      <td>A</td>\n",
       "      <td>6-Speed Automatic Overdrive</td>\n",
       "      <td>t85256</td>\n",
       "      <td>Sedan FWD</td>\n",
       "      <td>None</td>\n",
       "      <td>FWD</td>\n",
       "      <td>Front-Wheel Drive</td>\n",
       "      <td>107.3 in</td>\n",
       "      <td>70.7 in</td>\n",
       "      <td>2019</td>\n",
       "    </tr>\n",
       "    <tr>\n",
       "      <th>1</th>\n",
       "      <td>3MZBPABL1KM108237</td>\n",
       "      <td>35.1 in</td>\n",
       "      <td>None</td>\n",
       "      <td>None</td>\n",
       "      <td>None</td>\n",
       "      <td>Sedan</td>\n",
       "      <td>None</td>\n",
       "      <td>Bayamon</td>\n",
       "      <td>NaN</td>\n",
       "      <td>None</td>\n",
       "      <td>...</td>\n",
       "      <td>A</td>\n",
       "      <td>6-Speed Automatic Overdrive</td>\n",
       "      <td>t85256</td>\n",
       "      <td>Sedan FWD</td>\n",
       "      <td>None</td>\n",
       "      <td>FWD</td>\n",
       "      <td>Front-Wheel Drive</td>\n",
       "      <td>107.3 in</td>\n",
       "      <td>70.7 in</td>\n",
       "      <td>2019</td>\n",
       "    </tr>\n",
       "    <tr>\n",
       "      <th>2</th>\n",
       "      <td>3MZBPABL4KM107969</td>\n",
       "      <td>35.1 in</td>\n",
       "      <td>None</td>\n",
       "      <td>None</td>\n",
       "      <td>None</td>\n",
       "      <td>Sedan</td>\n",
       "      <td>None</td>\n",
       "      <td>Bayamon</td>\n",
       "      <td>NaN</td>\n",
       "      <td>None</td>\n",
       "      <td>...</td>\n",
       "      <td>A</td>\n",
       "      <td>6-Speed Automatic Overdrive</td>\n",
       "      <td>t85256</td>\n",
       "      <td>Sedan FWD</td>\n",
       "      <td>None</td>\n",
       "      <td>FWD</td>\n",
       "      <td>Front-Wheel Drive</td>\n",
       "      <td>107.3 in</td>\n",
       "      <td>70.7 in</td>\n",
       "      <td>2019</td>\n",
       "    </tr>\n",
       "    <tr>\n",
       "      <th>3</th>\n",
       "      <td>3MZBPABL9KM105215</td>\n",
       "      <td>35.1 in</td>\n",
       "      <td>None</td>\n",
       "      <td>None</td>\n",
       "      <td>None</td>\n",
       "      <td>Sedan</td>\n",
       "      <td>None</td>\n",
       "      <td>Bayamon</td>\n",
       "      <td>NaN</td>\n",
       "      <td>None</td>\n",
       "      <td>...</td>\n",
       "      <td>A</td>\n",
       "      <td>6-Speed Automatic Overdrive</td>\n",
       "      <td>t85256</td>\n",
       "      <td>Sedan FWD</td>\n",
       "      <td>None</td>\n",
       "      <td>FWD</td>\n",
       "      <td>Front-Wheel Drive</td>\n",
       "      <td>107.3 in</td>\n",
       "      <td>70.7 in</td>\n",
       "      <td>2019</td>\n",
       "    </tr>\n",
       "    <tr>\n",
       "      <th>4</th>\n",
       "      <td>3MZBPABL3KM107929</td>\n",
       "      <td>35.1 in</td>\n",
       "      <td>None</td>\n",
       "      <td>None</td>\n",
       "      <td>None</td>\n",
       "      <td>Sedan</td>\n",
       "      <td>None</td>\n",
       "      <td>Bayamon</td>\n",
       "      <td>NaN</td>\n",
       "      <td>None</td>\n",
       "      <td>...</td>\n",
       "      <td>A</td>\n",
       "      <td>6-Speed Automatic Overdrive</td>\n",
       "      <td>t85256</td>\n",
       "      <td>Sedan FWD</td>\n",
       "      <td>None</td>\n",
       "      <td>FWD</td>\n",
       "      <td>Front-Wheel Drive</td>\n",
       "      <td>107.3 in</td>\n",
       "      <td>70.7 in</td>\n",
       "      <td>2019</td>\n",
       "    </tr>\n",
       "  </tbody>\n",
       "</table>\n",
       "<p>5 rows × 66 columns</p>\n",
       "</div>"
      ],
      "text/plain": [
       "                 vin back_legroom   bed bed_height bed_length body_type cabin  \\\n",
       "0  3MZBPABL6KM107908      35.1 in  None       None       None     Sedan  None   \n",
       "1  3MZBPABL1KM108237      35.1 in  None       None       None     Sedan  None   \n",
       "2  3MZBPABL4KM107969      35.1 in  None       None       None     Sedan  None   \n",
       "3  3MZBPABL9KM105215      35.1 in  None       None       None     Sedan  None   \n",
       "4  3MZBPABL3KM107929      35.1 in  None       None       None     Sedan  None   \n",
       "\n",
       "      city  city_fuel_economy combine_fuel_economy  ...  transmission  \\\n",
       "0  Bayamon                NaN                 None  ...             A   \n",
       "1  Bayamon                NaN                 None  ...             A   \n",
       "2  Bayamon                NaN                 None  ...             A   \n",
       "3  Bayamon                NaN                 None  ...             A   \n",
       "4  Bayamon                NaN                 None  ...             A   \n",
       "\n",
       "          transmission_display  trimId  trim_name  vehicle_damage_category  \\\n",
       "0  6-Speed Automatic Overdrive  t85256  Sedan FWD                     None   \n",
       "1  6-Speed Automatic Overdrive  t85256  Sedan FWD                     None   \n",
       "2  6-Speed Automatic Overdrive  t85256  Sedan FWD                     None   \n",
       "3  6-Speed Automatic Overdrive  t85256  Sedan FWD                     None   \n",
       "4  6-Speed Automatic Overdrive  t85256  Sedan FWD                     None   \n",
       "\n",
       "  wheel_system wheel_system_display wheelbase    width  year  \n",
       "0          FWD    Front-Wheel Drive  107.3 in  70.7 in  2019  \n",
       "1          FWD    Front-Wheel Drive  107.3 in  70.7 in  2019  \n",
       "2          FWD    Front-Wheel Drive  107.3 in  70.7 in  2019  \n",
       "3          FWD    Front-Wheel Drive  107.3 in  70.7 in  2019  \n",
       "4          FWD    Front-Wheel Drive  107.3 in  70.7 in  2019  \n",
       "\n",
       "[5 rows x 66 columns]"
      ]
     },
     "execution_count": 13,
     "metadata": {},
     "output_type": "execute_result"
    }
   ],
   "source": [
    "# Requêtage SQL d'un fichier .csv avec présentation en DF pandas\n",
    "# sur une ligne : instruction %sql\n",
    "%sql SELECT * FROM 'data/mazda3.csv' LIMIT 5"
   ]
  },
  {
   "cell_type": "code",
   "execution_count": 14,
   "metadata": {},
   "outputs": [
    {
     "data": {
      "text/html": [
       "<span style=\"None\">Running query in &#x27;duckdb:///:default:&#x27;</span>"
      ],
      "text/plain": [
       "Running query in 'duckdb:///:default:'"
      ]
     },
     "metadata": {},
     "output_type": "display_data"
    },
    {
     "data": {
      "text/html": [
       "<div>\n",
       "<style scoped>\n",
       "    .dataframe tbody tr th:only-of-type {\n",
       "        vertical-align: middle;\n",
       "    }\n",
       "\n",
       "    .dataframe tbody tr th {\n",
       "        vertical-align: top;\n",
       "    }\n",
       "\n",
       "    .dataframe thead th {\n",
       "        text-align: right;\n",
       "    }\n",
       "</style>\n",
       "<table border=\"1\" class=\"dataframe\">\n",
       "  <thead>\n",
       "    <tr style=\"text-align: right;\">\n",
       "      <th></th>\n",
       "      <th>vin</th>\n",
       "      <th>city</th>\n",
       "    </tr>\n",
       "  </thead>\n",
       "  <tbody>\n",
       "    <tr>\n",
       "      <th>0</th>\n",
       "      <td>3MZBPABL6KM107908</td>\n",
       "      <td>Bayamon</td>\n",
       "    </tr>\n",
       "    <tr>\n",
       "      <th>1</th>\n",
       "      <td>3MZBPABL1KM108237</td>\n",
       "      <td>Bayamon</td>\n",
       "    </tr>\n",
       "    <tr>\n",
       "      <th>2</th>\n",
       "      <td>3MZBPABL4KM107969</td>\n",
       "      <td>Bayamon</td>\n",
       "    </tr>\n",
       "    <tr>\n",
       "      <th>3</th>\n",
       "      <td>3MZBPABL9KM105215</td>\n",
       "      <td>Bayamon</td>\n",
       "    </tr>\n",
       "    <tr>\n",
       "      <th>4</th>\n",
       "      <td>3MZBPABL3KM107929</td>\n",
       "      <td>Bayamon</td>\n",
       "    </tr>\n",
       "  </tbody>\n",
       "</table>\n",
       "</div>"
      ],
      "text/plain": [
       "                 vin     city\n",
       "0  3MZBPABL6KM107908  Bayamon\n",
       "1  3MZBPABL1KM108237  Bayamon\n",
       "2  3MZBPABL4KM107969  Bayamon\n",
       "3  3MZBPABL9KM105215  Bayamon\n",
       "4  3MZBPABL3KM107929  Bayamon"
      ]
     },
     "execution_count": 14,
     "metadata": {},
     "output_type": "execute_result"
    }
   ],
   "source": [
    "# Requêtage SQL d'un fichier .csv avec présentation en DF pandas\n",
    "# sur plusieurs lignes : instruction %%sql\n",
    "%%sql\n",
    "SELECT\n",
    "    vin, city\n",
    "FROM 'data/mazda3.csv'\n",
    "LIMIT 5"
   ]
  },
  {
   "cell_type": "code",
   "execution_count": 15,
   "metadata": {},
   "outputs": [
    {
     "data": {
      "text/html": [
       "<span style=\"None\">Running query in &#x27;duckdb:///:default:&#x27;</span>"
      ],
      "text/plain": [
       "Running query in 'duckdb:///:default:'"
      ]
     },
     "metadata": {},
     "output_type": "display_data"
    }
   ],
   "source": [
    "# Stockage de la requête SQL sur un fichier .csv dans une DF pandas\n",
    "%%sql\n",
    "df <<\n",
    "SELECT\n",
    "    vin, city\n",
    "    FROM 'data/mazda3.csv'\n",
    "LIMIT 5"
   ]
  },
  {
   "cell_type": "code",
   "execution_count": 16,
   "metadata": {},
   "outputs": [
    {
     "data": {
      "text/html": [
       "<div>\n",
       "<style scoped>\n",
       "    .dataframe tbody tr th:only-of-type {\n",
       "        vertical-align: middle;\n",
       "    }\n",
       "\n",
       "    .dataframe tbody tr th {\n",
       "        vertical-align: top;\n",
       "    }\n",
       "\n",
       "    .dataframe thead th {\n",
       "        text-align: right;\n",
       "    }\n",
       "</style>\n",
       "<table border=\"1\" class=\"dataframe\">\n",
       "  <thead>\n",
       "    <tr style=\"text-align: right;\">\n",
       "      <th></th>\n",
       "      <th>vin</th>\n",
       "      <th>city</th>\n",
       "    </tr>\n",
       "  </thead>\n",
       "  <tbody>\n",
       "    <tr>\n",
       "      <th>0</th>\n",
       "      <td>3MZBPABL6KM107908</td>\n",
       "      <td>Bayamon</td>\n",
       "    </tr>\n",
       "    <tr>\n",
       "      <th>1</th>\n",
       "      <td>3MZBPABL1KM108237</td>\n",
       "      <td>Bayamon</td>\n",
       "    </tr>\n",
       "    <tr>\n",
       "      <th>2</th>\n",
       "      <td>3MZBPABL4KM107969</td>\n",
       "      <td>Bayamon</td>\n",
       "    </tr>\n",
       "    <tr>\n",
       "      <th>3</th>\n",
       "      <td>3MZBPABL9KM105215</td>\n",
       "      <td>Bayamon</td>\n",
       "    </tr>\n",
       "    <tr>\n",
       "      <th>4</th>\n",
       "      <td>3MZBPABL3KM107929</td>\n",
       "      <td>Bayamon</td>\n",
       "    </tr>\n",
       "  </tbody>\n",
       "</table>\n",
       "</div>"
      ],
      "text/plain": [
       "                 vin     city\n",
       "0  3MZBPABL6KM107908  Bayamon\n",
       "1  3MZBPABL1KM108237  Bayamon\n",
       "2  3MZBPABL4KM107969  Bayamon\n",
       "3  3MZBPABL9KM105215  Bayamon\n",
       "4  3MZBPABL3KM107929  Bayamon"
      ]
     },
     "execution_count": 16,
     "metadata": {},
     "output_type": "execute_result"
    }
   ],
   "source": [
    "# Confirmation que les données ci-avant ont été stockées dans une DF\n",
    "df"
   ]
  },
  {
   "cell_type": "code",
   "execution_count": 18,
   "metadata": {},
   "outputs": [
    {
     "data": {
      "text/html": [
       "<span style=\"None\">Running query in &#x27;duckdb:///:default:&#x27;</span>"
      ],
      "text/plain": [
       "Running query in 'duckdb:///:default:'"
      ]
     },
     "metadata": {},
     "output_type": "display_data"
    },
    {
     "name": "stderr",
     "output_type": "stream",
     "text": [
      "RuntimeError: (duckdb.duckdb.InvalidInputException) Invalid Input Error: Error in file \"data/01_clients.csv\" at line 0: Invalid unicode (byte sequence mismatch) detected in CSV file. Parser options:\n",
      "  file=data/01_clients.csv\n",
      "  delimiter=',' (auto detected)\n",
      "  quote='\"' (auto detected)\n",
      "  escape='\\0' (auto detected)\n",
      "  header=0 (auto detected)\n",
      "  sample_size=20480\n",
      "  ignore_errors=0\n",
      "  all_varchar=0\n",
      "[SQL: SELECT COUNT(*) FROM 'data/01_clients.csv']\n",
      "(Background on this error at: https://sqlalche.me/e/20/f405)\n",
      "If you need help solving this issue, send us a message: https://ploomber.io/community\n"
     ]
    }
   ],
   "source": [
    "# Nombre de lignes du fichier récupéré\n",
    "%sql SELECT COUNT(*) FROM 'data/01_clients.csv'\n",
    "# Impossibilité de récupérer le fichier car problème d'encodage \n",
    "# (présence du caractère 'ö' parmis les noms de clients)"
   ]
  },
  {
   "cell_type": "markdown",
   "metadata": {},
   "source": [
    "Autre solution -> importer le fichier .csv dans une BD :\n",
    "- Création d'un fichier .db à partir d'un document texte (remplacer \n",
    "l'extension .txt par .db) puis dans le menu de la BD sélectionner :\n",
    "Fichier -> Importer -> Table depuis un fichier .SQL et ensuite :\n",
    "- Soit effectuer des requêtages SQL avec un nouveau fichier VSC .sql : voir le fichier indexA002.sql ;\n",
    "- Soit exporter la BD en un nouveau fichier .csv : voir traitement opéré ci-après sur le nouveau fichier .csv exporté"
   ]
  },
  {
   "cell_type": "code",
   "execution_count": 19,
   "metadata": {},
   "outputs": [
    {
     "data": {
      "text/html": [
       "<span style=\"None\">Running query in &#x27;duckdb:///:default:&#x27;</span>"
      ],
      "text/plain": [
       "Running query in 'duckdb:///:default:'"
      ]
     },
     "metadata": {},
     "output_type": "display_data"
    },
    {
     "data": {
      "text/html": [
       "<div>\n",
       "<style scoped>\n",
       "    .dataframe tbody tr th:only-of-type {\n",
       "        vertical-align: middle;\n",
       "    }\n",
       "\n",
       "    .dataframe tbody tr th {\n",
       "        vertical-align: top;\n",
       "    }\n",
       "\n",
       "    .dataframe thead th {\n",
       "        text-align: right;\n",
       "    }\n",
       "</style>\n",
       "<table border=\"1\" class=\"dataframe\">\n",
       "  <thead>\n",
       "    <tr style=\"text-align: right;\">\n",
       "      <th></th>\n",
       "      <th>count_star()</th>\n",
       "    </tr>\n",
       "  </thead>\n",
       "  <tbody>\n",
       "    <tr>\n",
       "      <th>0</th>\n",
       "      <td>811</td>\n",
       "    </tr>\n",
       "  </tbody>\n",
       "</table>\n",
       "</div>"
      ],
      "text/plain": [
       "   count_star()\n",
       "0           811"
      ]
     },
     "execution_count": 19,
     "metadata": {},
     "output_type": "execute_result"
    }
   ],
   "source": [
    "# Nombre de lignes du nouveau fichier récupéré\n",
    "%sql SELECT COUNT(*) FROM 'data/01_clientstest.csv'"
   ]
  },
  {
   "cell_type": "markdown",
   "metadata": {},
   "source": [
    "Requête SQL : récupération d'un champ comprenant un espace...\n",
    "-> solution utiliser le double coche \"\""
   ]
  },
  {
   "cell_type": "code",
   "execution_count": 5,
   "metadata": {},
   "outputs": [
    {
     "data": {
      "text/html": [
       "<span style=\"None\">Running query in &#x27;duckdb:///:default:&#x27;</span>"
      ],
      "text/plain": [
       "Running query in 'duckdb:///:default:'"
      ]
     },
     "metadata": {},
     "output_type": "display_data"
    },
    {
     "data": {
      "text/html": [
       "<div>\n",
       "<style scoped>\n",
       "    .dataframe tbody tr th:only-of-type {\n",
       "        vertical-align: middle;\n",
       "    }\n",
       "\n",
       "    .dataframe tbody tr th {\n",
       "        vertical-align: top;\n",
       "    }\n",
       "\n",
       "    .dataframe thead th {\n",
       "        text-align: right;\n",
       "    }\n",
       "</style>\n",
       "<table border=\"1\" class=\"dataframe\">\n",
       "  <thead>\n",
       "    <tr style=\"text-align: right;\">\n",
       "      <th></th>\n",
       "      <th>Execution</th>\n",
       "      <th>Date of Birth</th>\n",
       "      <th>Date of Offence</th>\n",
       "      <th>Highest Education Level</th>\n",
       "      <th>Last Name</th>\n",
       "      <th>First Name</th>\n",
       "      <th>TDCJ\\nNumber</th>\n",
       "      <th>Age at Execution</th>\n",
       "      <th>Date Received</th>\n",
       "      <th>Execution Date</th>\n",
       "      <th>Race</th>\n",
       "      <th>County</th>\n",
       "      <th>Eye Color</th>\n",
       "      <th>Weight</th>\n",
       "      <th>Height</th>\n",
       "      <th>Native County</th>\n",
       "      <th>Native State</th>\n",
       "      <th>Last Statement</th>\n",
       "    </tr>\n",
       "  </thead>\n",
       "  <tbody>\n",
       "    <tr>\n",
       "      <th>0</th>\n",
       "      <td>553</td>\n",
       "      <td>1983-09-24</td>\n",
       "      <td>2004-11-21</td>\n",
       "      <td>9.0</td>\n",
       "      <td>Young</td>\n",
       "      <td>Christopher Anthony</td>\n",
       "      <td>999508</td>\n",
       "      <td>34</td>\n",
       "      <td>2006-03-31</td>\n",
       "      <td>2018-07-17</td>\n",
       "      <td>Black</td>\n",
       "      <td>Bexar</td>\n",
       "      <td>Brown</td>\n",
       "      <td>216</td>\n",
       "      <td>6' 1\"</td>\n",
       "      <td>Bexar</td>\n",
       "      <td>Texas</td>\n",
       "      <td>l want to make sure the Patel family knows I l...</td>\n",
       "    </tr>\n",
       "    <tr>\n",
       "      <th>1</th>\n",
       "      <td>552</td>\n",
       "      <td>1951-08-28</td>\n",
       "      <td>1979-05-27</td>\n",
       "      <td>12.0</td>\n",
       "      <td>Bible</td>\n",
       "      <td>Danny Paul</td>\n",
       "      <td>999455</td>\n",
       "      <td>66</td>\n",
       "      <td>2003-07-17</td>\n",
       "      <td>2018-06-27</td>\n",
       "      <td>White</td>\n",
       "      <td>Harris</td>\n",
       "      <td>Blue</td>\n",
       "      <td>194</td>\n",
       "      <td>5' 7\"</td>\n",
       "      <td>Brazoria</td>\n",
       "      <td>Texas</td>\n",
       "      <td>None</td>\n",
       "    </tr>\n",
       "    <tr>\n",
       "      <th>2</th>\n",
       "      <td>551</td>\n",
       "      <td>1981-04-03</td>\n",
       "      <td>2003-12-03</td>\n",
       "      <td>10.0</td>\n",
       "      <td>Castillo</td>\n",
       "      <td>Juan Edward</td>\n",
       "      <td>999502</td>\n",
       "      <td>37</td>\n",
       "      <td>2005-09-27</td>\n",
       "      <td>2018-05-16</td>\n",
       "      <td>Hispanic</td>\n",
       "      <td>Bexar</td>\n",
       "      <td>Brown</td>\n",
       "      <td>180</td>\n",
       "      <td>5' 11\"</td>\n",
       "      <td>Bexar</td>\n",
       "      <td>Texas</td>\n",
       "      <td>To everyone that has been there for me you kno...</td>\n",
       "    </tr>\n",
       "    <tr>\n",
       "      <th>3</th>\n",
       "      <td>550</td>\n",
       "      <td>1987-04-04</td>\n",
       "      <td>2008-04-06</td>\n",
       "      <td>11.0</td>\n",
       "      <td>Davila</td>\n",
       "      <td>Erick Daniel</td>\n",
       "      <td>999545</td>\n",
       "      <td>31</td>\n",
       "      <td>2009-02-27</td>\n",
       "      <td>2018-04-25</td>\n",
       "      <td>Black</td>\n",
       "      <td>Tarrant</td>\n",
       "      <td>Brown</td>\n",
       "      <td>161</td>\n",
       "      <td>5' 11\"</td>\n",
       "      <td>Tarrant</td>\n",
       "      <td>Texas</td>\n",
       "      <td>Yes, I would like to say nephew it burns huh. ...</td>\n",
       "    </tr>\n",
       "    <tr>\n",
       "      <th>4</th>\n",
       "      <td>549</td>\n",
       "      <td>1980-03-26</td>\n",
       "      <td>2005-09-13</td>\n",
       "      <td>12.0</td>\n",
       "      <td>Rodriguez III</td>\n",
       "      <td>Rosendo</td>\n",
       "      <td>999534</td>\n",
       "      <td>38</td>\n",
       "      <td>2008-05-14</td>\n",
       "      <td>2018-03-27</td>\n",
       "      <td>Hispanic</td>\n",
       "      <td>Lubbock</td>\n",
       "      <td>Brown</td>\n",
       "      <td>198</td>\n",
       "      <td>5' 8\"</td>\n",
       "      <td>Wichita</td>\n",
       "      <td>Texas</td>\n",
       "      <td>First I would like to say I have been here sin...</td>\n",
       "    </tr>\n",
       "  </tbody>\n",
       "</table>\n",
       "</div>"
      ],
      "text/plain": [
       "   Execution Date of Birth Date of Offence  Highest Education Level  \\\n",
       "0        553    1983-09-24      2004-11-21                      9.0   \n",
       "1        552    1951-08-28      1979-05-27                     12.0   \n",
       "2        551    1981-04-03      2003-12-03                     10.0   \n",
       "3        550    1987-04-04      2008-04-06                     11.0   \n",
       "4        549    1980-03-26      2005-09-13                     12.0   \n",
       "\n",
       "       Last Name           First Name  TDCJ\\nNumber  Age at Execution  \\\n",
       "0          Young  Christopher Anthony        999508                34   \n",
       "1          Bible           Danny Paul        999455                66   \n",
       "2       Castillo          Juan Edward        999502                37   \n",
       "3         Davila         Erick Daniel        999545                31   \n",
       "4  Rodriguez III              Rosendo        999534                38   \n",
       "\n",
       "  Date Received Execution Date      Race   County Eye Color  Weight  Height  \\\n",
       "0    2006-03-31     2018-07-17     Black    Bexar     Brown     216   6' 1\"   \n",
       "1    2003-07-17     2018-06-27     White   Harris      Blue     194   5' 7\"   \n",
       "2    2005-09-27     2018-05-16  Hispanic    Bexar     Brown     180  5' 11\"   \n",
       "3    2009-02-27     2018-04-25     Black  Tarrant     Brown     161  5' 11\"   \n",
       "4    2008-05-14     2018-03-27  Hispanic  Lubbock     Brown     198   5' 8\"   \n",
       "\n",
       "  Native County Native State  \\\n",
       "0         Bexar        Texas   \n",
       "1      Brazoria        Texas   \n",
       "2         Bexar        Texas   \n",
       "3       Tarrant        Texas   \n",
       "4       Wichita        Texas   \n",
       "\n",
       "                                      Last Statement  \n",
       "0  l want to make sure the Patel family knows I l...  \n",
       "1                                               None  \n",
       "2  To everyone that has been there for me you kno...  \n",
       "3  Yes, I would like to say nephew it burns huh. ...  \n",
       "4  First I would like to say I have been here sin...  "
      ]
     },
     "execution_count": 5,
     "metadata": {},
     "output_type": "execute_result"
    }
   ],
   "source": [
    "%sql SELECT * FROM 'data/prisoners.csv' LIMIT 5"
   ]
  },
  {
   "cell_type": "code",
   "execution_count": 8,
   "metadata": {},
   "outputs": [
    {
     "data": {
      "text/html": [
       "<span style=\"None\">Running query in &#x27;duckdb:///:default:&#x27;</span>"
      ],
      "text/plain": [
       "Running query in 'duckdb:///:default:'"
      ]
     },
     "metadata": {},
     "output_type": "display_data"
    },
    {
     "data": {
      "text/html": [
       "<div>\n",
       "<style scoped>\n",
       "    .dataframe tbody tr th:only-of-type {\n",
       "        vertical-align: middle;\n",
       "    }\n",
       "\n",
       "    .dataframe tbody tr th {\n",
       "        vertical-align: top;\n",
       "    }\n",
       "\n",
       "    .dataframe thead th {\n",
       "        text-align: right;\n",
       "    }\n",
       "</style>\n",
       "<table border=\"1\" class=\"dataframe\">\n",
       "  <thead>\n",
       "    <tr style=\"text-align: right;\">\n",
       "      <th></th>\n",
       "      <th>First Name</th>\n",
       "    </tr>\n",
       "  </thead>\n",
       "  <tbody>\n",
       "    <tr>\n",
       "      <th>0</th>\n",
       "      <td>Christopher Anthony</td>\n",
       "    </tr>\n",
       "    <tr>\n",
       "      <th>1</th>\n",
       "      <td>Danny Paul</td>\n",
       "    </tr>\n",
       "    <tr>\n",
       "      <th>2</th>\n",
       "      <td>Juan Edward</td>\n",
       "    </tr>\n",
       "    <tr>\n",
       "      <th>3</th>\n",
       "      <td>Erick Daniel</td>\n",
       "    </tr>\n",
       "    <tr>\n",
       "      <th>4</th>\n",
       "      <td>Rosendo</td>\n",
       "    </tr>\n",
       "  </tbody>\n",
       "</table>\n",
       "</div>"
      ],
      "text/plain": [
       "            First Name\n",
       "0  Christopher Anthony\n",
       "1           Danny Paul\n",
       "2          Juan Edward\n",
       "3         Erick Daniel\n",
       "4              Rosendo"
      ]
     },
     "execution_count": 8,
     "metadata": {},
     "output_type": "execute_result"
    }
   ],
   "source": [
    "%sql SELECT \"First Name\" FROM 'data/prisoners.csv' LIMIT 5"
   ]
  }
 ],
 "metadata": {
  "kernelspec": {
   "display_name": ".venv",
   "language": "python",
   "name": "python3"
  },
  "language_info": {
   "codemirror_mode": {
    "name": "ipython",
    "version": 3
   },
   "file_extension": ".py",
   "mimetype": "text/x-python",
   "name": "python",
   "nbconvert_exporter": "python",
   "pygments_lexer": "ipython3",
   "version": "3.9.2"
  }
 },
 "nbformat": 4,
 "nbformat_minor": 2
}
