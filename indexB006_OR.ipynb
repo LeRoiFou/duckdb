{
 "cells": [
  {
   "cell_type": "markdown",
   "metadata": {},
   "source": [
    "[SQL OR Operator](https://www.w3schools.com/sql/sql_or.asp)\n",
    "\n",
    "<b> Syntaxe : </b><br>\n",
    "SELECT column1, column2, ...\n",
    "FROM table_name <br>\n",
    "WHERE condition1 OR condition2 OR condition3 ...;\n",
    "\n",
    "<b> Objet de la requête : </b><br>\n",
    "La clause WHERE peut contenir un ou plusieurs opérateurs OR.\n",
    "\n",
    "L'opérateur OR est utilisé pour filtrer les enregistrements sur la base de plusieurs conditions.\n",
    "\n",
    "Date : 10-01-2024"
   ]
  },
  {
   "cell_type": "code",
   "execution_count": 1,
   "metadata": {},
   "outputs": [],
   "source": [
    "import duckdb\n",
    "import polars as pl"
   ]
  },
  {
   "cell_type": "code",
   "execution_count": 2,
   "metadata": {},
   "outputs": [],
   "source": [
    "# Création d'une BD vide\n",
    "conn = duckdb.connect()"
   ]
  },
  {
   "cell_type": "code",
   "execution_count": 3,
   "metadata": {},
   "outputs": [],
   "source": [
    "# Récupération du fichier .csv avec toutes les données\n",
    "df = conn.execute(\n",
    "    \"\"\"\n",
    "    SELECT * FROM read_csv_auto('data/prisoners.csv')\n",
    "    \"\"\"\n",
    ").df()"
   ]
  },
  {
   "cell_type": "code",
   "execution_count": 4,
   "metadata": {},
   "outputs": [
    {
     "data": {
      "text/plain": [
       "<duckdb.duckdb.DuckDBPyConnection at 0x1e7a66b45f0>"
      ]
     },
     "execution_count": 4,
     "metadata": {},
     "output_type": "execute_result"
    }
   ],
   "source": [
    "# Alimentation des données ci-avant dans la BD virtuel\n",
    "conn.register('df_view', df)"
   ]
  },
  {
   "cell_type": "markdown",
   "metadata": {},
   "source": [
    "Requête SQL : Récupération des colonnes \"Last Name\", \"First Name\", \"Age at Execution\", \"Eye Color\" et la colonne \"Age at Execution\" > à 60 ou sur la colonne Eye Color = 'Blue' et trie par ordre décroissant de la colonne \"Age at Execution\" avec affichage des 10 premières lignes"
   ]
  },
  {
   "cell_type": "code",
   "execution_count": 18,
   "metadata": {},
   "outputs": [],
   "source": [
    "df = conn.execute(\n",
    "    \"\"\"\n",
    "    SELECT \"Last Name\", \"First Name\", \"Age at Execution\", \"Eye Color\"\n",
    "    FROM df_view\n",
    "    WHERE \"Age at Execution\" > 60 OR \"Eye Color\" LIKE 'Blue'\n",
    "    ORDER BY \"Age at Execution\" DESC\n",
    "    LIMIT 10\n",
    "    \"\"\"\n",
    ").df()"
   ]
  },
  {
   "cell_type": "code",
   "execution_count": 17,
   "metadata": {},
   "outputs": [
    {
     "data": {
      "text/html": [
       "<div><style>\n",
       ".dataframe > thead > tr,\n",
       ".dataframe > tbody > tr {\n",
       "  text-align: right;\n",
       "  white-space: pre-wrap;\n",
       "}\n",
       "</style>\n",
       "<small>shape: (10, 4)</small><table border=\"1\" class=\"dataframe\"><thead><tr><th>Last Name</th><th>First Name</th><th>Age at Execution</th><th>Eye Color</th></tr><tr><td>str</td><td>str</td><td>i64</td><td>str</td></tr></thead><tbody><tr><td>&quot;Bower&quot;</td><td>&quot;Lester&quot;</td><td>67</td><td>&quot;Blue&quot;</td></tr><tr><td>&quot;Bible&quot;</td><td>&quot;Danny Paul&quot;</td><td>66</td><td>&quot;Blue&quot;</td></tr><tr><td>&quot;Chappell&quot;</td><td>&quot;William&quot;</td><td>66</td><td>&quot;Brown&quot;</td></tr><tr><td>&quot;Rayford&quot;</td><td>&quot;William Earl&quot;</td><td>64</td><td>&quot;Brown&quot;</td></tr><tr><td>&quot;Crawford&quot;</td><td>&quot;Hilton&quot;</td><td>64</td><td>&quot;Blue&quot;</td></tr><tr><td>&quot;Battaglia&quot;</td><td>&quot;John David&quot;</td><td>62</td><td>&quot;Green&quot;</td></tr><tr><td>&quot;Beets&quot;</td><td>&quot;Betty&quot;</td><td>62</td><td>&quot;Blue&quot;</td></tr><tr><td>&quot;Coleman&quot;</td><td>&quot;Clydell&quot;</td><td>62</td><td>&quot;Brown&quot;</td></tr><tr><td>&quot;Bigby&quot;</td><td>&quot;James Eugene&quot;</td><td>61</td><td>&quot;Brown&quot;</td></tr><tr><td>&quot;Duncan&quot;</td><td>&quot;Richard&quot;</td><td>61</td><td>&quot;Brown&quot;</td></tr></tbody></table></div>"
      ],
      "text/plain": [
       "shape: (10, 4)\n",
       "┌───────────┬──────────────┬──────────────────┬───────────┐\n",
       "│ Last Name ┆ First Name   ┆ Age at Execution ┆ Eye Color │\n",
       "│ ---       ┆ ---          ┆ ---              ┆ ---       │\n",
       "│ str       ┆ str          ┆ i64              ┆ str       │\n",
       "╞═══════════╪══════════════╪══════════════════╪═══════════╡\n",
       "│ Bower     ┆ Lester       ┆ 67               ┆ Blue      │\n",
       "│ Bible     ┆ Danny Paul   ┆ 66               ┆ Blue      │\n",
       "│ Chappell  ┆ William      ┆ 66               ┆ Brown     │\n",
       "│ Rayford   ┆ William Earl ┆ 64               ┆ Brown     │\n",
       "│ Crawford  ┆ Hilton       ┆ 64               ┆ Blue      │\n",
       "│ Battaglia ┆ John David   ┆ 62               ┆ Green     │\n",
       "│ Beets     ┆ Betty        ┆ 62               ┆ Blue      │\n",
       "│ Coleman   ┆ Clydell      ┆ 62               ┆ Brown     │\n",
       "│ Bigby     ┆ James Eugene ┆ 61               ┆ Brown     │\n",
       "│ Duncan    ┆ Richard      ┆ 61               ┆ Brown     │\n",
       "└───────────┴──────────────┴──────────────────┴───────────┘"
      ]
     },
     "execution_count": 17,
     "metadata": {},
     "output_type": "execute_result"
    }
   ],
   "source": [
    "# Transformation de la requête SQL ci-avant en df polars\n",
    "pl.from_pandas(df)"
   ]
  }
 ],
 "metadata": {
  "kernelspec": {
   "display_name": ".venv",
   "language": "python",
   "name": "python3"
  },
  "language_info": {
   "codemirror_mode": {
    "name": "ipython",
    "version": 3
   },
   "file_extension": ".py",
   "mimetype": "text/x-python",
   "name": "python",
   "nbconvert_exporter": "python",
   "pygments_lexer": "ipython3",
   "version": "3.12.5"
  }
 },
 "nbformat": 4,
 "nbformat_minor": 2
}
