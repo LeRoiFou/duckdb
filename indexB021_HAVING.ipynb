{
 "cells": [
  {
   "cell_type": "markdown",
   "metadata": {},
   "source": [
    "[SQL HAVING Clause](https://www.w3schools.com/sql/sql_having.asp)\n",
    "\n",
    "<b> Syntaxe : </b><br>\n",
    "SELECT column_name(s) FROM table_name\n",
    "WHERE condition <br>\n",
    "GROUP BY column_name(s) <br>\n",
    "HAVING condition <br>\n",
    "ORDER BY column_name(s);\n",
    "\n",
    "<b> Objet de la requête : </b><br>\n",
    "La clause HAVING a été ajoutée à SQL parce que le mot clé WHERE ne peut pas être utilisé avec les fonctions d'agrégation.\n",
    "\n",
    "Date : 26-01-24"
   ]
  },
  {
   "cell_type": "code",
   "execution_count": 1,
   "metadata": {},
   "outputs": [],
   "source": [
    "import duckdb\n",
    "import polars as pl\n",
    "from skimpy import skim"
   ]
  },
  {
   "cell_type": "code",
   "execution_count": 2,
   "metadata": {},
   "outputs": [],
   "source": [
    "# Création d'une BD virtuelle\n",
    "conn = duckdb.connect()"
   ]
  },
  {
   "cell_type": "code",
   "execution_count": 3,
   "metadata": {},
   "outputs": [],
   "source": [
    "# Requête SQL : récupération de toutes les données du fichier .csv dans un DF\n",
    "df = conn.execute(\n",
    "    \"\"\"\n",
    "    SELECT *\n",
    "    FROM read_csv_auto('data/prisoners.csv', header=True)\n",
    "    \"\"\"\n",
    ").df()"
   ]
  },
  {
   "cell_type": "code",
   "execution_count": 5,
   "metadata": {},
   "outputs": [
    {
     "data": {
      "text/html": [
       "<pre style=\"white-space:pre;overflow-x:auto;line-height:normal;font-family:Menlo,'DejaVu Sans Mono',consolas,'Courier New',monospace\">╭──────────────────────────────────────────────── skimpy summary ─────────────────────────────────────────────────╮\n",
       "│ <span style=\"font-style: italic\">         Data Summary         </span> <span style=\"font-style: italic\">      Data Types       </span>                                                          │\n",
       "│ ┏━━━━━━━━━━━━━━━━━━━┳━━━━━━━━┓ ┏━━━━━━━━━━━━━┳━━━━━━━┓                                                          │\n",
       "│ ┃<span style=\"color: #008080; text-decoration-color: #008080; font-weight: bold\"> dataframe         </span>┃<span style=\"color: #008080; text-decoration-color: #008080; font-weight: bold\"> Values </span>┃ ┃<span style=\"color: #008080; text-decoration-color: #008080; font-weight: bold\"> Column Type </span>┃<span style=\"color: #008080; text-decoration-color: #008080; font-weight: bold\"> Count </span>┃                                                          │\n",
       "│ ┡━━━━━━━━━━━━━━━━━━━╇━━━━━━━━┩ ┡━━━━━━━━━━━━━╇━━━━━━━┩                                                          │\n",
       "│ │ Number of rows    │ 553    │ │ string      │ 9     │                                                          │\n",
       "│ │ Number of columns │ 18     │ │ datetime64  │ 4     │                                                          │\n",
       "│ └───────────────────┴────────┘ │ int32       │ 3     │                                                          │\n",
       "│                                │ float64     │ 2     │                                                          │\n",
       "│                                └─────────────┴───────┘                                                          │\n",
       "│ <span style=\"font-style: italic\">                                                    number                                                    </span>  │\n",
       "│ ┏━━━━━━━━━━━━━━━━━━━━━━━━┳━━━━━┳━━━━━━━┳━━━━━━━━━┳━━━━━━━━━┳━━━━━━┳━━━━━━┳━━━━━━━━┳━━━━━━━━┳━━━━━━━━┳━━━━━━━━┓  │\n",
       "│ ┃<span style=\"font-weight: bold\"> column_name            </span>┃<span style=\"font-weight: bold\"> NA  </span>┃<span style=\"font-weight: bold\"> NA %  </span>┃<span style=\"font-weight: bold\"> mean    </span>┃<span style=\"font-weight: bold\"> sd      </span>┃<span style=\"font-weight: bold\"> p0   </span>┃<span style=\"font-weight: bold\"> p25  </span>┃<span style=\"font-weight: bold\"> p50    </span>┃<span style=\"font-weight: bold\"> p75    </span>┃<span style=\"font-weight: bold\"> p100   </span>┃<span style=\"font-weight: bold\"> hist   </span>┃  │\n",
       "│ ┡━━━━━━━━━━━━━━━━━━━━━━━━╇━━━━━╇━━━━━━━╇━━━━━━━━━╇━━━━━━━━━╇━━━━━━╇━━━━━━╇━━━━━━━━╇━━━━━━━━╇━━━━━━━━╇━━━━━━━━┩  │\n",
       "│ │ <span style=\"color: #af87ff; text-decoration-color: #af87ff\">Execution             </span> │ <span style=\"color: #008080; text-decoration-color: #008080\">  0</span> │ <span style=\"color: #008080; text-decoration-color: #008080\">    0</span> │ <span style=\"color: #008080; text-decoration-color: #008080\">    277</span> │ <span style=\"color: #008080; text-decoration-color: #008080\">  159.8</span> │ <span style=\"color: #008080; text-decoration-color: #008080\">   1</span> │ <span style=\"color: #008080; text-decoration-color: #008080\"> 139</span> │ <span style=\"color: #008080; text-decoration-color: #008080\">   277</span> │ <span style=\"color: #008080; text-decoration-color: #008080\">   415</span> │ <span style=\"color: #008080; text-decoration-color: #008080\">   553</span> │ <span style=\"color: #008000; text-decoration-color: #008000\">▇▇▇▇▇▇</span> │  │\n",
       "│ │ <span style=\"color: #af87ff; text-decoration-color: #af87ff\">Highest Education     </span> │ <span style=\"color: #008080; text-decoration-color: #008080\"> 48</span> │ <span style=\"color: #008080; text-decoration-color: #008080\"> 8.68</span> │ <span style=\"color: #008080; text-decoration-color: #008080\">  10.21</span> │ <span style=\"color: #008080; text-decoration-color: #008080\">  2.096</span> │ <span style=\"color: #008080; text-decoration-color: #008080\">   3</span> │ <span style=\"color: #008080; text-decoration-color: #008080\">   9</span> │ <span style=\"color: #008080; text-decoration-color: #008080\">    10</span> │ <span style=\"color: #008080; text-decoration-color: #008080\">    12</span> │ <span style=\"color: #008080; text-decoration-color: #008080\">    20</span> │ <span style=\"color: #008000; text-decoration-color: #008000\">  ▃▇▅ </span> │  │\n",
       "│ │ <span style=\"color: #af87ff; text-decoration-color: #af87ff\">Level                 </span> │     │       │         │         │      │      │        │        │        │        │  │\n",
       "│ │ <span style=\"color: #af87ff; text-decoration-color: #af87ff\">TDCJ                  </span> │ <span style=\"color: #008080; text-decoration-color: #008080\">  0</span> │ <span style=\"color: #008080; text-decoration-color: #008080\">    0</span> │ <span style=\"color: #008080; text-decoration-color: #008080\"> 524400</span> │ <span style=\"color: #008080; text-decoration-color: #008080\"> 499100</span> │ <span style=\"color: #008080; text-decoration-color: #008080\"> 511</span> │ <span style=\"color: #008080; text-decoration-color: #008080\"> 815</span> │ <span style=\"color: #008080; text-decoration-color: #008080\">999000</span> │ <span style=\"color: #008080; text-decoration-color: #008080\">999300</span> │ <span style=\"color: #008080; text-decoration-color: #008080\">999600</span> │ <span style=\"color: #008000; text-decoration-color: #008000\">▇    ▇</span> │  │\n",
       "│ │ <span style=\"color: #af87ff; text-decoration-color: #af87ff\">Number                </span> │     │       │         │         │      │      │        │        │        │        │  │\n",
       "│ │ <span style=\"color: #af87ff; text-decoration-color: #af87ff\">Age at Execution      </span> │ <span style=\"color: #008080; text-decoration-color: #008080\">  0</span> │ <span style=\"color: #008080; text-decoration-color: #008080\">    0</span> │ <span style=\"color: #008080; text-decoration-color: #008080\">  39.47</span> │ <span style=\"color: #008080; text-decoration-color: #008080\">  8.628</span> │ <span style=\"color: #008080; text-decoration-color: #008080\">  24</span> │ <span style=\"color: #008080; text-decoration-color: #008080\">  33</span> │ <span style=\"color: #008080; text-decoration-color: #008080\">    38</span> │ <span style=\"color: #008080; text-decoration-color: #008080\">    44</span> │ <span style=\"color: #008080; text-decoration-color: #008080\">    67</span> │ <span style=\"color: #008000; text-decoration-color: #008000\">▅▇▇▃▂▁</span> │  │\n",
       "│ │ <span style=\"color: #af87ff; text-decoration-color: #af87ff\">Weight                </span> │ <span style=\"color: #008080; text-decoration-color: #008080\"> 42</span> │ <span style=\"color: #008080; text-decoration-color: #008080\"> 7.59</span> │ <span style=\"color: #008080; text-decoration-color: #008080\">    176</span> │ <span style=\"color: #008080; text-decoration-color: #008080\">   32.9</span> │ <span style=\"color: #008080; text-decoration-color: #008080\"> 104</span> │ <span style=\"color: #008080; text-decoration-color: #008080\"> 151</span> │ <span style=\"color: #008080; text-decoration-color: #008080\">   170</span> │ <span style=\"color: #008080; text-decoration-color: #008080\"> 191.5</span> │ <span style=\"color: #008080; text-decoration-color: #008080\">   318</span> │ <span style=\"color: #008000; text-decoration-color: #008000\"> ▁▇▅▂ </span> │  │\n",
       "│ └────────────────────────┴─────┴───────┴─────────┴─────────┴──────┴──────┴────────┴────────┴────────┴────────┘  │\n",
       "│ <span style=\"font-style: italic\">                                                   datetime                                                   </span>  │\n",
       "│ ┏━━━━━━━━━━━━━━━━━━━━━━━━━━━━━┳━━━━━━━┳━━━━━━━━━━┳━━━━━━━━━━━━━━━━━━━━┳━━━━━━━━━━━━━━━━━━━━┳━━━━━━━━━━━━━━━━━┓  │\n",
       "│ ┃<span style=\"font-weight: bold\"> column_name                 </span>┃<span style=\"font-weight: bold\"> NA    </span>┃<span style=\"font-weight: bold\"> NA %     </span>┃<span style=\"font-weight: bold\"> first              </span>┃<span style=\"font-weight: bold\"> last               </span>┃<span style=\"font-weight: bold\"> frequency       </span>┃  │\n",
       "│ ┡━━━━━━━━━━━━━━━━━━━━━━━━━━━━━╇━━━━━━━╇━━━━━━━━━━╇━━━━━━━━━━━━━━━━━━━━╇━━━━━━━━━━━━━━━━━━━━╇━━━━━━━━━━━━━━━━━┩  │\n",
       "│ │ <span style=\"color: #af87ff; text-decoration-color: #af87ff\">Date of Birth              </span> │ <span style=\"color: #008080; text-decoration-color: #008080\">   14</span> │ <span style=\"color: #008080; text-decoration-color: #008080\">    2.53</span> │ <span style=\"color: #800000; text-decoration-color: #800000\">    1931-07-31    </span> │ <span style=\"color: #800000; text-decoration-color: #800000\">    1997-02-15    </span> │ <span style=\"color: #af87ff; text-decoration-color: #af87ff\">None           </span> │  │\n",
       "│ │ <span style=\"color: #af87ff; text-decoration-color: #af87ff\">Date of Offence            </span> │ <span style=\"color: #008080; text-decoration-color: #008080\">   17</span> │ <span style=\"color: #008080; text-decoration-color: #008080\">    3.07</span> │ <span style=\"color: #800000; text-decoration-color: #800000\">    1974-03-19    </span> │ <span style=\"color: #800000; text-decoration-color: #800000\">    2009-03-11    </span> │ <span style=\"color: #af87ff; text-decoration-color: #af87ff\">None           </span> │  │\n",
       "│ │ <span style=\"color: #af87ff; text-decoration-color: #af87ff\">Date Received              </span> │ <span style=\"color: #008080; text-decoration-color: #008080\">   14</span> │ <span style=\"color: #008080; text-decoration-color: #008080\">    2.53</span> │ <span style=\"color: #800000; text-decoration-color: #800000\">    1974-08-26    </span> │ <span style=\"color: #800000; text-decoration-color: #800000\">    2010-03-16    </span> │ <span style=\"color: #af87ff; text-decoration-color: #af87ff\">None           </span> │  │\n",
       "│ │ <span style=\"color: #af87ff; text-decoration-color: #af87ff\">Execution Date             </span> │ <span style=\"color: #008080; text-decoration-color: #008080\">    0</span> │ <span style=\"color: #008080; text-decoration-color: #008080\">       0</span> │ <span style=\"color: #800000; text-decoration-color: #800000\">    1982-12-07    </span> │ <span style=\"color: #800000; text-decoration-color: #800000\">    2018-07-17    </span> │ <span style=\"color: #af87ff; text-decoration-color: #af87ff\">None           </span> │  │\n",
       "│ └─────────────────────────────┴───────┴──────────┴────────────────────┴────────────────────┴─────────────────┘  │\n",
       "│ <span style=\"font-style: italic\">                                                    string                                                    </span>  │\n",
       "│ ┏━━━━━━━━━━━━━━━━━━━━━━━━━━━━━━┳━━━━━━━━━━┳━━━━━━━━━━━━━┳━━━━━━━━━━━━━━━━━━━━━━━━━━━━┳━━━━━━━━━━━━━━━━━━━━━━━┓  │\n",
       "│ ┃<span style=\"font-weight: bold\"> column_name                  </span>┃<span style=\"font-weight: bold\"> NA       </span>┃<span style=\"font-weight: bold\"> NA %        </span>┃<span style=\"font-weight: bold\"> words per row              </span>┃<span style=\"font-weight: bold\"> total words           </span>┃  │\n",
       "│ ┡━━━━━━━━━━━━━━━━━━━━━━━━━━━━━━╇━━━━━━━━━━╇━━━━━━━━━━━━━╇━━━━━━━━━━━━━━━━━━━━━━━━━━━━╇━━━━━━━━━━━━━━━━━━━━━━━┩  │\n",
       "│ │ <span style=\"color: #af87ff; text-decoration-color: #af87ff\">Last Name                   </span> │ <span style=\"color: #008080; text-decoration-color: #008080\">       0</span> │ <span style=\"color: #008080; text-decoration-color: #008080\">          0</span> │ <span style=\"color: #008080; text-decoration-color: #008080\">                       1.1</span> │ <span style=\"color: #008080; text-decoration-color: #008080\">                  591</span> │  │\n",
       "│ │ <span style=\"color: #af87ff; text-decoration-color: #af87ff\">First Name                  </span> │ <span style=\"color: #008080; text-decoration-color: #008080\">       0</span> │ <span style=\"color: #008080; text-decoration-color: #008080\">          0</span> │ <span style=\"color: #008080; text-decoration-color: #008080\">                         1</span> │ <span style=\"color: #008080; text-decoration-color: #008080\">                  561</span> │  │\n",
       "│ │ <span style=\"color: #af87ff; text-decoration-color: #af87ff\">Race                        </span> │ <span style=\"color: #008080; text-decoration-color: #008080\">       0</span> │ <span style=\"color: #008080; text-decoration-color: #008080\">          0</span> │ <span style=\"color: #008080; text-decoration-color: #008080\">                         1</span> │ <span style=\"color: #008080; text-decoration-color: #008080\">                  553</span> │  │\n",
       "│ │ <span style=\"color: #af87ff; text-decoration-color: #af87ff\">County                      </span> │ <span style=\"color: #008080; text-decoration-color: #008080\">       0</span> │ <span style=\"color: #008080; text-decoration-color: #008080\">          0</span> │ <span style=\"color: #008080; text-decoration-color: #008080\">                         1</span> │ <span style=\"color: #008080; text-decoration-color: #008080\">                  569</span> │  │\n",
       "│ │ <span style=\"color: #af87ff; text-decoration-color: #af87ff\">Eye Color                   </span> │ <span style=\"color: #008080; text-decoration-color: #008080\">      34</span> │ <span style=\"color: #008080; text-decoration-color: #008080\">       6.15</span> │ <span style=\"color: #008080; text-decoration-color: #008080\">                      0.94</span> │ <span style=\"color: #008080; text-decoration-color: #008080\">                  519</span> │  │\n",
       "│ │ <span style=\"color: #af87ff; text-decoration-color: #af87ff\">Height                      </span> │ <span style=\"color: #008080; text-decoration-color: #008080\">      40</span> │ <span style=\"color: #008080; text-decoration-color: #008080\">       7.23</span> │ <span style=\"color: #008080; text-decoration-color: #008080\">                       1.9</span> │ <span style=\"color: #008080; text-decoration-color: #008080\">                 1025</span> │  │\n",
       "│ │ <span style=\"color: #af87ff; text-decoration-color: #af87ff\">Native County               </span> │ <span style=\"color: #008080; text-decoration-color: #008080\">      43</span> │ <span style=\"color: #008080; text-decoration-color: #008080\">       7.78</span> │ <span style=\"color: #008080; text-decoration-color: #008080\">                         1</span> │ <span style=\"color: #008080; text-decoration-color: #008080\">                  572</span> │  │\n",
       "│ │ <span style=\"color: #af87ff; text-decoration-color: #af87ff\">Native State                </span> │ <span style=\"color: #008080; text-decoration-color: #008080\">      29</span> │ <span style=\"color: #008080; text-decoration-color: #008080\">       5.24</span> │ <span style=\"color: #008080; text-decoration-color: #008080\">                      0.99</span> │ <span style=\"color: #008080; text-decoration-color: #008080\">                  550</span> │  │\n",
       "│ │ <span style=\"color: #af87ff; text-decoration-color: #af87ff\">Last Statement              </span> │ <span style=\"color: #008080; text-decoration-color: #008080\">     110</span> │ <span style=\"color: #008080; text-decoration-color: #008080\">      19.89</span> │ <span style=\"color: #008080; text-decoration-color: #008080\">                        87</span> │ <span style=\"color: #008080; text-decoration-color: #008080\">                47843</span> │  │\n",
       "│ └──────────────────────────────┴──────────┴─────────────┴────────────────────────────┴───────────────────────┘  │\n",
       "╰────────────────────────────────────────────────────── End ──────────────────────────────────────────────────────╯\n",
       "</pre>\n"
      ],
      "text/plain": [
       "╭──────────────────────────────────────────────── skimpy summary ─────────────────────────────────────────────────╮\n",
       "│ \u001b[3m         Data Summary         \u001b[0m \u001b[3m      Data Types       \u001b[0m                                                          │\n",
       "│ ┏━━━━━━━━━━━━━━━━━━━┳━━━━━━━━┓ ┏━━━━━━━━━━━━━┳━━━━━━━┓                                                          │\n",
       "│ ┃\u001b[1;36m \u001b[0m\u001b[1;36mdataframe        \u001b[0m\u001b[1;36m \u001b[0m┃\u001b[1;36m \u001b[0m\u001b[1;36mValues\u001b[0m\u001b[1;36m \u001b[0m┃ ┃\u001b[1;36m \u001b[0m\u001b[1;36mColumn Type\u001b[0m\u001b[1;36m \u001b[0m┃\u001b[1;36m \u001b[0m\u001b[1;36mCount\u001b[0m\u001b[1;36m \u001b[0m┃                                                          │\n",
       "│ ┡━━━━━━━━━━━━━━━━━━━╇━━━━━━━━┩ ┡━━━━━━━━━━━━━╇━━━━━━━┩                                                          │\n",
       "│ │ Number of rows    │ 553    │ │ string      │ 9     │                                                          │\n",
       "│ │ Number of columns │ 18     │ │ datetime64  │ 4     │                                                          │\n",
       "│ └───────────────────┴────────┘ │ int32       │ 3     │                                                          │\n",
       "│                                │ float64     │ 2     │                                                          │\n",
       "│                                └─────────────┴───────┘                                                          │\n",
       "│ \u001b[3m                                                    number                                                    \u001b[0m  │\n",
       "│ ┏━━━━━━━━━━━━━━━━━━━━━━━━┳━━━━━┳━━━━━━━┳━━━━━━━━━┳━━━━━━━━━┳━━━━━━┳━━━━━━┳━━━━━━━━┳━━━━━━━━┳━━━━━━━━┳━━━━━━━━┓  │\n",
       "│ ┃\u001b[1m \u001b[0m\u001b[1mcolumn_name           \u001b[0m\u001b[1m \u001b[0m┃\u001b[1m \u001b[0m\u001b[1mNA \u001b[0m\u001b[1m \u001b[0m┃\u001b[1m \u001b[0m\u001b[1mNA % \u001b[0m\u001b[1m \u001b[0m┃\u001b[1m \u001b[0m\u001b[1mmean   \u001b[0m\u001b[1m \u001b[0m┃\u001b[1m \u001b[0m\u001b[1msd     \u001b[0m\u001b[1m \u001b[0m┃\u001b[1m \u001b[0m\u001b[1mp0  \u001b[0m\u001b[1m \u001b[0m┃\u001b[1m \u001b[0m\u001b[1mp25 \u001b[0m\u001b[1m \u001b[0m┃\u001b[1m \u001b[0m\u001b[1mp50   \u001b[0m\u001b[1m \u001b[0m┃\u001b[1m \u001b[0m\u001b[1mp75   \u001b[0m\u001b[1m \u001b[0m┃\u001b[1m \u001b[0m\u001b[1mp100  \u001b[0m\u001b[1m \u001b[0m┃\u001b[1m \u001b[0m\u001b[1mhist  \u001b[0m\u001b[1m \u001b[0m┃  │\n",
       "│ ┡━━━━━━━━━━━━━━━━━━━━━━━━╇━━━━━╇━━━━━━━╇━━━━━━━━━╇━━━━━━━━━╇━━━━━━╇━━━━━━╇━━━━━━━━╇━━━━━━━━╇━━━━━━━━╇━━━━━━━━┩  │\n",
       "│ │ \u001b[38;5;141mExecution             \u001b[0m │ \u001b[36m  0\u001b[0m │ \u001b[36m    0\u001b[0m │ \u001b[36m    277\u001b[0m │ \u001b[36m  159.8\u001b[0m │ \u001b[36m   1\u001b[0m │ \u001b[36m 139\u001b[0m │ \u001b[36m   277\u001b[0m │ \u001b[36m   415\u001b[0m │ \u001b[36m   553\u001b[0m │ \u001b[32m▇▇▇▇▇▇\u001b[0m │  │\n",
       "│ │ \u001b[38;5;141mHighest Education     \u001b[0m │ \u001b[36m 48\u001b[0m │ \u001b[36m 8.68\u001b[0m │ \u001b[36m  10.21\u001b[0m │ \u001b[36m  2.096\u001b[0m │ \u001b[36m   3\u001b[0m │ \u001b[36m   9\u001b[0m │ \u001b[36m    10\u001b[0m │ \u001b[36m    12\u001b[0m │ \u001b[36m    20\u001b[0m │ \u001b[32m  ▃▇▅ \u001b[0m │  │\n",
       "│ │ \u001b[38;5;141mLevel                 \u001b[0m │     │       │         │         │      │      │        │        │        │        │  │\n",
       "│ │ \u001b[38;5;141mTDCJ                  \u001b[0m │ \u001b[36m  0\u001b[0m │ \u001b[36m    0\u001b[0m │ \u001b[36m 524400\u001b[0m │ \u001b[36m 499100\u001b[0m │ \u001b[36m 511\u001b[0m │ \u001b[36m 815\u001b[0m │ \u001b[36m999000\u001b[0m │ \u001b[36m999300\u001b[0m │ \u001b[36m999600\u001b[0m │ \u001b[32m▇    ▇\u001b[0m │  │\n",
       "│ │ \u001b[38;5;141mNumber                \u001b[0m │     │       │         │         │      │      │        │        │        │        │  │\n",
       "│ │ \u001b[38;5;141mAge at Execution      \u001b[0m │ \u001b[36m  0\u001b[0m │ \u001b[36m    0\u001b[0m │ \u001b[36m  39.47\u001b[0m │ \u001b[36m  8.628\u001b[0m │ \u001b[36m  24\u001b[0m │ \u001b[36m  33\u001b[0m │ \u001b[36m    38\u001b[0m │ \u001b[36m    44\u001b[0m │ \u001b[36m    67\u001b[0m │ \u001b[32m▅▇▇▃▂▁\u001b[0m │  │\n",
       "│ │ \u001b[38;5;141mWeight                \u001b[0m │ \u001b[36m 42\u001b[0m │ \u001b[36m 7.59\u001b[0m │ \u001b[36m    176\u001b[0m │ \u001b[36m   32.9\u001b[0m │ \u001b[36m 104\u001b[0m │ \u001b[36m 151\u001b[0m │ \u001b[36m   170\u001b[0m │ \u001b[36m 191.5\u001b[0m │ \u001b[36m   318\u001b[0m │ \u001b[32m ▁▇▅▂ \u001b[0m │  │\n",
       "│ └────────────────────────┴─────┴───────┴─────────┴─────────┴──────┴──────┴────────┴────────┴────────┴────────┘  │\n",
       "│ \u001b[3m                                                   datetime                                                   \u001b[0m  │\n",
       "│ ┏━━━━━━━━━━━━━━━━━━━━━━━━━━━━━┳━━━━━━━┳━━━━━━━━━━┳━━━━━━━━━━━━━━━━━━━━┳━━━━━━━━━━━━━━━━━━━━┳━━━━━━━━━━━━━━━━━┓  │\n",
       "│ ┃\u001b[1m \u001b[0m\u001b[1mcolumn_name                \u001b[0m\u001b[1m \u001b[0m┃\u001b[1m \u001b[0m\u001b[1mNA   \u001b[0m\u001b[1m \u001b[0m┃\u001b[1m \u001b[0m\u001b[1mNA %    \u001b[0m\u001b[1m \u001b[0m┃\u001b[1m \u001b[0m\u001b[1mfirst             \u001b[0m\u001b[1m \u001b[0m┃\u001b[1m \u001b[0m\u001b[1mlast              \u001b[0m\u001b[1m \u001b[0m┃\u001b[1m \u001b[0m\u001b[1mfrequency      \u001b[0m\u001b[1m \u001b[0m┃  │\n",
       "│ ┡━━━━━━━━━━━━━━━━━━━━━━━━━━━━━╇━━━━━━━╇━━━━━━━━━━╇━━━━━━━━━━━━━━━━━━━━╇━━━━━━━━━━━━━━━━━━━━╇━━━━━━━━━━━━━━━━━┩  │\n",
       "│ │ \u001b[38;5;141mDate of Birth              \u001b[0m │ \u001b[36m   14\u001b[0m │ \u001b[36m    2.53\u001b[0m │ \u001b[31m    1931-07-31    \u001b[0m │ \u001b[31m    1997-02-15    \u001b[0m │ \u001b[38;5;141mNone           \u001b[0m │  │\n",
       "│ │ \u001b[38;5;141mDate of Offence            \u001b[0m │ \u001b[36m   17\u001b[0m │ \u001b[36m    3.07\u001b[0m │ \u001b[31m    1974-03-19    \u001b[0m │ \u001b[31m    2009-03-11    \u001b[0m │ \u001b[38;5;141mNone           \u001b[0m │  │\n",
       "│ │ \u001b[38;5;141mDate Received              \u001b[0m │ \u001b[36m   14\u001b[0m │ \u001b[36m    2.53\u001b[0m │ \u001b[31m    1974-08-26    \u001b[0m │ \u001b[31m    2010-03-16    \u001b[0m │ \u001b[38;5;141mNone           \u001b[0m │  │\n",
       "│ │ \u001b[38;5;141mExecution Date             \u001b[0m │ \u001b[36m    0\u001b[0m │ \u001b[36m       0\u001b[0m │ \u001b[31m    1982-12-07    \u001b[0m │ \u001b[31m    2018-07-17    \u001b[0m │ \u001b[38;5;141mNone           \u001b[0m │  │\n",
       "│ └─────────────────────────────┴───────┴──────────┴────────────────────┴────────────────────┴─────────────────┘  │\n",
       "│ \u001b[3m                                                    string                                                    \u001b[0m  │\n",
       "│ ┏━━━━━━━━━━━━━━━━━━━━━━━━━━━━━━┳━━━━━━━━━━┳━━━━━━━━━━━━━┳━━━━━━━━━━━━━━━━━━━━━━━━━━━━┳━━━━━━━━━━━━━━━━━━━━━━━┓  │\n",
       "│ ┃\u001b[1m \u001b[0m\u001b[1mcolumn_name                 \u001b[0m\u001b[1m \u001b[0m┃\u001b[1m \u001b[0m\u001b[1mNA      \u001b[0m\u001b[1m \u001b[0m┃\u001b[1m \u001b[0m\u001b[1mNA %       \u001b[0m\u001b[1m \u001b[0m┃\u001b[1m \u001b[0m\u001b[1mwords per row             \u001b[0m\u001b[1m \u001b[0m┃\u001b[1m \u001b[0m\u001b[1mtotal words          \u001b[0m\u001b[1m \u001b[0m┃  │\n",
       "│ ┡━━━━━━━━━━━━━━━━━━━━━━━━━━━━━━╇━━━━━━━━━━╇━━━━━━━━━━━━━╇━━━━━━━━━━━━━━━━━━━━━━━━━━━━╇━━━━━━━━━━━━━━━━━━━━━━━┩  │\n",
       "│ │ \u001b[38;5;141mLast Name                   \u001b[0m │ \u001b[36m       0\u001b[0m │ \u001b[36m          0\u001b[0m │ \u001b[36m                       1.1\u001b[0m │ \u001b[36m                  591\u001b[0m │  │\n",
       "│ │ \u001b[38;5;141mFirst Name                  \u001b[0m │ \u001b[36m       0\u001b[0m │ \u001b[36m          0\u001b[0m │ \u001b[36m                         1\u001b[0m │ \u001b[36m                  561\u001b[0m │  │\n",
       "│ │ \u001b[38;5;141mRace                        \u001b[0m │ \u001b[36m       0\u001b[0m │ \u001b[36m          0\u001b[0m │ \u001b[36m                         1\u001b[0m │ \u001b[36m                  553\u001b[0m │  │\n",
       "│ │ \u001b[38;5;141mCounty                      \u001b[0m │ \u001b[36m       0\u001b[0m │ \u001b[36m          0\u001b[0m │ \u001b[36m                         1\u001b[0m │ \u001b[36m                  569\u001b[0m │  │\n",
       "│ │ \u001b[38;5;141mEye Color                   \u001b[0m │ \u001b[36m      34\u001b[0m │ \u001b[36m       6.15\u001b[0m │ \u001b[36m                      0.94\u001b[0m │ \u001b[36m                  519\u001b[0m │  │\n",
       "│ │ \u001b[38;5;141mHeight                      \u001b[0m │ \u001b[36m      40\u001b[0m │ \u001b[36m       7.23\u001b[0m │ \u001b[36m                       1.9\u001b[0m │ \u001b[36m                 1025\u001b[0m │  │\n",
       "│ │ \u001b[38;5;141mNative County               \u001b[0m │ \u001b[36m      43\u001b[0m │ \u001b[36m       7.78\u001b[0m │ \u001b[36m                         1\u001b[0m │ \u001b[36m                  572\u001b[0m │  │\n",
       "│ │ \u001b[38;5;141mNative State                \u001b[0m │ \u001b[36m      29\u001b[0m │ \u001b[36m       5.24\u001b[0m │ \u001b[36m                      0.99\u001b[0m │ \u001b[36m                  550\u001b[0m │  │\n",
       "│ │ \u001b[38;5;141mLast Statement              \u001b[0m │ \u001b[36m     110\u001b[0m │ \u001b[36m      19.89\u001b[0m │ \u001b[36m                        87\u001b[0m │ \u001b[36m                47843\u001b[0m │  │\n",
       "│ └──────────────────────────────┴──────────┴─────────────┴────────────────────────────┴───────────────────────┘  │\n",
       "╰────────────────────────────────────────────────────── End ──────────────────────────────────────────────────────╯\n"
      ]
     },
     "metadata": {},
     "output_type": "display_data"
    }
   ],
   "source": [
    "# Stats de la DF\n",
    "skim(df)"
   ]
  },
  {
   "cell_type": "code",
   "execution_count": 4,
   "metadata": {},
   "outputs": [
    {
     "data": {
      "text/plain": [
       "<duckdb.duckdb.DuckDBPyConnection at 0x26940d2c870>"
      ]
     },
     "execution_count": 4,
     "metadata": {},
     "output_type": "execute_result"
    }
   ],
   "source": [
    "# Enregistrement de la DF ci-avant dans une BD virtuelle (équivalent au CTE)\n",
    "conn.register('df_view', df)"
   ]
  },
  {
   "cell_type": "markdown",
   "metadata": {},
   "source": [
    "Requête SQL : Affichage des 5 premières lignes du nombre de prisonniers > à 10 par ville par trie décroissant"
   ]
  },
  {
   "cell_type": "code",
   "execution_count": 6,
   "metadata": {},
   "outputs": [
    {
     "data": {
      "text/html": [
       "<div>\n",
       "<style scoped>\n",
       "    .dataframe tbody tr th:only-of-type {\n",
       "        vertical-align: middle;\n",
       "    }\n",
       "\n",
       "    .dataframe tbody tr th {\n",
       "        vertical-align: top;\n",
       "    }\n",
       "\n",
       "    .dataframe thead th {\n",
       "        text-align: right;\n",
       "    }\n",
       "</style>\n",
       "<table border=\"1\" class=\"dataframe\">\n",
       "  <thead>\n",
       "    <tr style=\"text-align: right;\">\n",
       "      <th></th>\n",
       "      <th>Ville</th>\n",
       "      <th>Nombre de prisonniers</th>\n",
       "    </tr>\n",
       "  </thead>\n",
       "  <tbody>\n",
       "    <tr>\n",
       "      <th>0</th>\n",
       "      <td>Harris</td>\n",
       "      <td>128</td>\n",
       "    </tr>\n",
       "    <tr>\n",
       "      <th>1</th>\n",
       "      <td>Dallas</td>\n",
       "      <td>58</td>\n",
       "    </tr>\n",
       "    <tr>\n",
       "      <th>2</th>\n",
       "      <td>Bexar</td>\n",
       "      <td>46</td>\n",
       "    </tr>\n",
       "    <tr>\n",
       "      <th>3</th>\n",
       "      <td>Tarrant</td>\n",
       "      <td>41</td>\n",
       "    </tr>\n",
       "    <tr>\n",
       "      <th>4</th>\n",
       "      <td>Nueces</td>\n",
       "      <td>16</td>\n",
       "    </tr>\n",
       "  </tbody>\n",
       "</table>\n",
       "</div>"
      ],
      "text/plain": [
       "     Ville  Nombre de prisonniers\n",
       "0   Harris                    128\n",
       "1   Dallas                     58\n",
       "2    Bexar                     46\n",
       "3  Tarrant                     41\n",
       "4   Nueces                     16"
      ]
     },
     "execution_count": 6,
     "metadata": {},
     "output_type": "execute_result"
    }
   ],
   "source": [
    "conn.execute(\n",
    "    \"\"\"\n",
    "    -- Champs à récupérer\n",
    "    SELECT \n",
    "        \"County\" AS \"Ville\"\n",
    "        , COUNT(\"Execution\") AS \"Nombre de prisonniers\"\n",
    "    -- Depuis la BD virtuelle (CTE)\n",
    "    FROM df_view\n",
    "    -- TCD nombre de prisonniers par ville\n",
    "    GROUP BY \"Ville\"\n",
    "    -- Filtre TCD : ville avec + de 10 prisonniers\n",
    "    HAVING \"Nombre de prisonniers\" > 10\n",
    "    -- Trie décroissant\n",
    "    ORDER BY \"Nombre de prisonniers\" DESC\n",
    "    -- Affichage des 5 premières lignes\n",
    "    LIMIT 5\n",
    "    \"\"\"\n",
    ").df()"
   ]
  }
 ],
 "metadata": {
  "kernelspec": {
   "display_name": "Python 3",
   "language": "python",
   "name": "python3"
  },
  "language_info": {
   "codemirror_mode": {
    "name": "ipython",
    "version": 3
   },
   "file_extension": ".py",
   "mimetype": "text/x-python",
   "name": "python",
   "nbconvert_exporter": "python",
   "pygments_lexer": "ipython3",
   "version": "3.12.5"
  }
 },
 "nbformat": 4,
 "nbformat_minor": 2
}
