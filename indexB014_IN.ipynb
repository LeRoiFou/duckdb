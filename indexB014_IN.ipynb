{
 "cells": [
  {
   "cell_type": "markdown",
   "metadata": {},
   "source": [
    "[SQL IN Operator](https://www.w3schools.com/sql/sql_in.asp)\n",
    "\n",
    "<b> Syntaxe : </b><br>\n",
    "SELECT column_name(s)\n",
    "FROM table_name <br>\n",
    "WHERE column_name IN (value1, value2, ...);\n",
    "\n",
    "<b> Objet de la requête : </b><br>\n",
    "L'opérateur IN permet de spécifier plusieurs valeurs dans une clause WHERE. <br>\n",
    "L'opérateur IN est une abréviation pour plusieurs conditions OR.\n",
    "\n",
    "Date : 18-01-2024"
   ]
  },
  {
   "cell_type": "code",
   "execution_count": 1,
   "metadata": {},
   "outputs": [],
   "source": [
    "import duckdb\n",
    "from skimpy import skim"
   ]
  },
  {
   "cell_type": "code",
   "execution_count": 2,
   "metadata": {},
   "outputs": [
    {
     "name": "stdout",
     "output_type": "stream",
     "text": [
      "\u001b[32mDeploy AI and data apps for free on Ploomber Cloud! Learn more: https://docs.cloud.ploomber.io/en/latest/quickstart/signup.html\u001b[0m\n"
     ]
    }
   ],
   "source": [
    "# Connexion native à DuckDB : pour saisir du SQL sur notebook jupyter\n",
    "%load_ext sql\n",
    "conn = duckdb.connect()\n",
    "%sql conn --alias duckdb"
   ]
  },
  {
   "cell_type": "code",
   "execution_count": 3,
   "metadata": {},
   "outputs": [],
   "source": [
    "# Configurations sur jupysql pour afficher les données en DF\n",
    "%config SqlMagic.autopandas = True"
   ]
  },
  {
   "cell_type": "code",
   "execution_count": 4,
   "metadata": {},
   "outputs": [
    {
     "data": {
      "text/html": [
       "<span style=\"None\">Connecting and switching to connection &#x27;duckdb:///:default:&#x27;</span>"
      ],
      "text/plain": [
       "Connecting and switching to connection 'duckdb:///:default:'"
      ]
     },
     "metadata": {},
     "output_type": "display_data"
    }
   ],
   "source": [
    "# Connection jupysql à DuckDB\n",
    "%sql duckdb:///:default:"
   ]
  },
  {
   "cell_type": "markdown",
   "metadata": {},
   "source": [
    "Requête SQL : récupération de la BD"
   ]
  },
  {
   "cell_type": "code",
   "execution_count": 5,
   "metadata": {},
   "outputs": [
    {
     "data": {
      "text/html": [
       "<span style=\"None\">Running query in &#x27;duckdb:///:default:&#x27;</span>"
      ],
      "text/plain": [
       "Running query in 'duckdb:///:default:'"
      ]
     },
     "metadata": {},
     "output_type": "display_data"
    }
   ],
   "source": [
    "%%sql\n",
    "my_df <<\n",
    "SELECT * \n",
    "FROM sqlite_scan('data/prisoners.db', 'executions');"
   ]
  },
  {
   "cell_type": "markdown",
   "metadata": {},
   "source": [
    "Données statistiques"
   ]
  },
  {
   "cell_type": "code",
   "execution_count": 6,
   "metadata": {},
   "outputs": [
    {
     "data": {
      "text/html": [
       "<pre style=\"white-space:pre;overflow-x:auto;line-height:normal;font-family:Menlo,'DejaVu Sans Mono',consolas,'Courier New',monospace\">╭──────────────────────────────────────────────── skimpy summary ─────────────────────────────────────────────────╮\n",
       "│ <span style=\"font-style: italic\">         Data Summary         </span> <span style=\"font-style: italic\">      Data Types       </span>                                                          │\n",
       "│ ┏━━━━━━━━━━━━━━━━━━━┳━━━━━━━━┓ ┏━━━━━━━━━━━━━┳━━━━━━━┓                                                          │\n",
       "│ ┃<span style=\"color: #008080; text-decoration-color: #008080; font-weight: bold\"> dataframe         </span>┃<span style=\"color: #008080; text-decoration-color: #008080; font-weight: bold\"> Values </span>┃ ┃<span style=\"color: #008080; text-decoration-color: #008080; font-weight: bold\"> Column Type </span>┃<span style=\"color: #008080; text-decoration-color: #008080; font-weight: bold\"> Count </span>┃                                                          │\n",
       "│ ┡━━━━━━━━━━━━━━━━━━━╇━━━━━━━━┩ ┡━━━━━━━━━━━━━╇━━━━━━━┩                                                          │\n",
       "│ │ Number of rows    │ 553    │ │ string      │ 14    │                                                          │\n",
       "│ │ Number of columns │ 18     │ │ int32       │ 3     │                                                          │\n",
       "│ └───────────────────┴────────┘ │ float64     │ 1     │                                                          │\n",
       "│                                └─────────────┴───────┘                                                          │\n",
       "│ <span style=\"font-style: italic\">                                                    number                                                    </span>  │\n",
       "│ ┏━━━━━━━━━━━━━━━━━━━┳━━━━━┳━━━━━━━┳━━━━━━━━━┳━━━━━━━━━┳━━━━━━┳━━━━━━┳━━━━━━━━━━┳━━━━━━━━━━┳━━━━━━━━━┳━━━━━━━━┓  │\n",
       "│ ┃<span style=\"font-weight: bold\"> column_name       </span>┃<span style=\"font-weight: bold\"> NA  </span>┃<span style=\"font-weight: bold\"> NA %  </span>┃<span style=\"font-weight: bold\"> mean    </span>┃<span style=\"font-weight: bold\"> sd      </span>┃<span style=\"font-weight: bold\"> p0   </span>┃<span style=\"font-weight: bold\"> p25  </span>┃<span style=\"font-weight: bold\"> p50      </span>┃<span style=\"font-weight: bold\"> p75      </span>┃<span style=\"font-weight: bold\"> p100    </span>┃<span style=\"font-weight: bold\"> hist   </span>┃  │\n",
       "│ ┡━━━━━━━━━━━━━━━━━━━╇━━━━━╇━━━━━━━╇━━━━━━━━━╇━━━━━━━━━╇━━━━━━╇━━━━━━╇━━━━━━━━━━╇━━━━━━━━━━╇━━━━━━━━━╇━━━━━━━━┩  │\n",
       "│ │ <span style=\"color: #af87ff; text-decoration-color: #af87ff\">Execution        </span> │ <span style=\"color: #008080; text-decoration-color: #008080\">  0</span> │ <span style=\"color: #008080; text-decoration-color: #008080\">    0</span> │ <span style=\"color: #008080; text-decoration-color: #008080\">    280</span> │ <span style=\"color: #008080; text-decoration-color: #008080\">    160</span> │ <span style=\"color: #008080; text-decoration-color: #008080\">   1</span> │ <span style=\"color: #008080; text-decoration-color: #008080\"> 140</span> │ <span style=\"color: #008080; text-decoration-color: #008080\">     280</span> │ <span style=\"color: #008080; text-decoration-color: #008080\">     420</span> │ <span style=\"color: #008080; text-decoration-color: #008080\">    550</span> │ <span style=\"color: #008000; text-decoration-color: #008000\">▇▇▇▇▇▇</span> │  │\n",
       "│ │ <span style=\"color: #af87ff; text-decoration-color: #af87ff\">TDCJ             </span> │ <span style=\"color: #008080; text-decoration-color: #008080\">  0</span> │ <span style=\"color: #008080; text-decoration-color: #008080\">    0</span> │ <span style=\"color: #008080; text-decoration-color: #008080\"> 520000</span> │ <span style=\"color: #008080; text-decoration-color: #008080\"> 500000</span> │ <span style=\"color: #008080; text-decoration-color: #008080\"> 510</span> │ <span style=\"color: #008080; text-decoration-color: #008080\"> 820</span> │ <span style=\"color: #008080; text-decoration-color: #008080\"> 1000000</span> │ <span style=\"color: #008080; text-decoration-color: #008080\"> 1000000</span> │ <span style=\"color: #008080; text-decoration-color: #008080\">1000000</span> │ <span style=\"color: #008000; text-decoration-color: #008000\">▇    ▇</span> │  │\n",
       "│ │ <span style=\"color: #af87ff; text-decoration-color: #af87ff\">Number           </span> │     │       │         │         │      │      │          │          │         │        │  │\n",
       "│ │ <span style=\"color: #af87ff; text-decoration-color: #af87ff\">AgeatExecution   </span> │ <span style=\"color: #008080; text-decoration-color: #008080\">  0</span> │ <span style=\"color: #008080; text-decoration-color: #008080\">    0</span> │ <span style=\"color: #008080; text-decoration-color: #008080\">     39</span> │ <span style=\"color: #008080; text-decoration-color: #008080\">    8.6</span> │ <span style=\"color: #008080; text-decoration-color: #008080\">  24</span> │ <span style=\"color: #008080; text-decoration-color: #008080\">  33</span> │ <span style=\"color: #008080; text-decoration-color: #008080\">      38</span> │ <span style=\"color: #008080; text-decoration-color: #008080\">      44</span> │ <span style=\"color: #008080; text-decoration-color: #008080\">     67</span> │ <span style=\"color: #008000; text-decoration-color: #008000\">▅▇▇▃▂▁</span> │  │\n",
       "│ │ <span style=\"color: #af87ff; text-decoration-color: #af87ff\">Weight           </span> │ <span style=\"color: #008080; text-decoration-color: #008080\"> 42</span> │ <span style=\"color: #008080; text-decoration-color: #008080\"> 7.59</span> │ <span style=\"color: #008080; text-decoration-color: #008080\">    180</span> │ <span style=\"color: #008080; text-decoration-color: #008080\">     33</span> │ <span style=\"color: #008080; text-decoration-color: #008080\"> 100</span> │ <span style=\"color: #008080; text-decoration-color: #008080\"> 150</span> │ <span style=\"color: #008080; text-decoration-color: #008080\">     170</span> │ <span style=\"color: #008080; text-decoration-color: #008080\">     190</span> │ <span style=\"color: #008080; text-decoration-color: #008080\">    320</span> │ <span style=\"color: #008000; text-decoration-color: #008000\"> ▁▇▅▂ </span> │  │\n",
       "│ └───────────────────┴─────┴───────┴─────────┴─────────┴──────┴──────┴──────────┴──────────┴─────────┴────────┘  │\n",
       "│ <span style=\"font-style: italic\">                                                    string                                                    </span>  │\n",
       "│ ┏━━━━━━━━━━━━━━━━━━━━━━━━━━━━━━━━━━━━━┳━━━━━━━━━┳━━━━━━━━━━━━┳━━━━━━━━━━━━━━━━━━━━━━━━━┳━━━━━━━━━━━━━━━━━━━━━┓  │\n",
       "│ ┃<span style=\"font-weight: bold\"> column_name                         </span>┃<span style=\"font-weight: bold\"> NA      </span>┃<span style=\"font-weight: bold\"> NA %       </span>┃<span style=\"font-weight: bold\"> words per row           </span>┃<span style=\"font-weight: bold\"> total words         </span>┃  │\n",
       "│ ┡━━━━━━━━━━━━━━━━━━━━━━━━━━━━━━━━━━━━━╇━━━━━━━━━╇━━━━━━━━━━━━╇━━━━━━━━━━━━━━━━━━━━━━━━━╇━━━━━━━━━━━━━━━━━━━━━┩  │\n",
       "│ │ <span style=\"color: #af87ff; text-decoration-color: #af87ff\">DateofBirth                        </span> │ <span style=\"color: #008080; text-decoration-color: #008080\">     14</span> │ <span style=\"color: #008080; text-decoration-color: #008080\">      2.53</span> │ <span style=\"color: #008080; text-decoration-color: #008080\">                   0.97</span> │ <span style=\"color: #008080; text-decoration-color: #008080\">                539</span> │  │\n",
       "│ │ <span style=\"color: #af87ff; text-decoration-color: #af87ff\">DateofOffence                      </span> │ <span style=\"color: #008080; text-decoration-color: #008080\">     17</span> │ <span style=\"color: #008080; text-decoration-color: #008080\">      3.07</span> │ <span style=\"color: #008080; text-decoration-color: #008080\">                   0.97</span> │ <span style=\"color: #008080; text-decoration-color: #008080\">                536</span> │  │\n",
       "│ │ <span style=\"color: #af87ff; text-decoration-color: #af87ff\">HighestEducationLevel              </span> │ <span style=\"color: #008080; text-decoration-color: #008080\">     48</span> │ <span style=\"color: #008080; text-decoration-color: #008080\">      8.68</span> │ <span style=\"color: #008080; text-decoration-color: #008080\">                   0.91</span> │ <span style=\"color: #008080; text-decoration-color: #008080\">                505</span> │  │\n",
       "│ │ <span style=\"color: #af87ff; text-decoration-color: #af87ff\">LastName                           </span> │ <span style=\"color: #008080; text-decoration-color: #008080\">      0</span> │ <span style=\"color: #008080; text-decoration-color: #008080\">         0</span> │ <span style=\"color: #008080; text-decoration-color: #008080\">                    1.1</span> │ <span style=\"color: #008080; text-decoration-color: #008080\">                591</span> │  │\n",
       "│ │ <span style=\"color: #af87ff; text-decoration-color: #af87ff\">FirstName                          </span> │ <span style=\"color: #008080; text-decoration-color: #008080\">      0</span> │ <span style=\"color: #008080; text-decoration-color: #008080\">         0</span> │ <span style=\"color: #008080; text-decoration-color: #008080\">                      1</span> │ <span style=\"color: #008080; text-decoration-color: #008080\">                561</span> │  │\n",
       "│ │ <span style=\"color: #af87ff; text-decoration-color: #af87ff\">DateReceived                       </span> │ <span style=\"color: #008080; text-decoration-color: #008080\">     14</span> │ <span style=\"color: #008080; text-decoration-color: #008080\">      2.53</span> │ <span style=\"color: #008080; text-decoration-color: #008080\">                   0.97</span> │ <span style=\"color: #008080; text-decoration-color: #008080\">                539</span> │  │\n",
       "│ │ <span style=\"color: #af87ff; text-decoration-color: #af87ff\">ExecutionDate                      </span> │ <span style=\"color: #008080; text-decoration-color: #008080\">      0</span> │ <span style=\"color: #008080; text-decoration-color: #008080\">         0</span> │ <span style=\"color: #008080; text-decoration-color: #008080\">                      1</span> │ <span style=\"color: #008080; text-decoration-color: #008080\">                553</span> │  │\n",
       "│ │ <span style=\"color: #af87ff; text-decoration-color: #af87ff\">Race                               </span> │ <span style=\"color: #008080; text-decoration-color: #008080\">      0</span> │ <span style=\"color: #008080; text-decoration-color: #008080\">         0</span> │ <span style=\"color: #008080; text-decoration-color: #008080\">                      1</span> │ <span style=\"color: #008080; text-decoration-color: #008080\">                553</span> │  │\n",
       "│ │ <span style=\"color: #af87ff; text-decoration-color: #af87ff\">County                             </span> │ <span style=\"color: #008080; text-decoration-color: #008080\">      0</span> │ <span style=\"color: #008080; text-decoration-color: #008080\">         0</span> │ <span style=\"color: #008080; text-decoration-color: #008080\">                      1</span> │ <span style=\"color: #008080; text-decoration-color: #008080\">                569</span> │  │\n",
       "│ │ <span style=\"color: #af87ff; text-decoration-color: #af87ff\">EyeColor                           </span> │ <span style=\"color: #008080; text-decoration-color: #008080\">     34</span> │ <span style=\"color: #008080; text-decoration-color: #008080\">      6.15</span> │ <span style=\"color: #008080; text-decoration-color: #008080\">                   0.94</span> │ <span style=\"color: #008080; text-decoration-color: #008080\">                519</span> │  │\n",
       "│ │ <span style=\"color: #af87ff; text-decoration-color: #af87ff\">Height                             </span> │ <span style=\"color: #008080; text-decoration-color: #008080\">     40</span> │ <span style=\"color: #008080; text-decoration-color: #008080\">      7.23</span> │ <span style=\"color: #008080; text-decoration-color: #008080\">                    1.9</span> │ <span style=\"color: #008080; text-decoration-color: #008080\">               1025</span> │  │\n",
       "│ │ <span style=\"color: #af87ff; text-decoration-color: #af87ff\">NativeCounty                       </span> │ <span style=\"color: #008080; text-decoration-color: #008080\">     43</span> │ <span style=\"color: #008080; text-decoration-color: #008080\">      7.78</span> │ <span style=\"color: #008080; text-decoration-color: #008080\">                      1</span> │ <span style=\"color: #008080; text-decoration-color: #008080\">                572</span> │  │\n",
       "│ │ <span style=\"color: #af87ff; text-decoration-color: #af87ff\">NativeState                        </span> │ <span style=\"color: #008080; text-decoration-color: #008080\">     29</span> │ <span style=\"color: #008080; text-decoration-color: #008080\">      5.24</span> │ <span style=\"color: #008080; text-decoration-color: #008080\">                   0.99</span> │ <span style=\"color: #008080; text-decoration-color: #008080\">                550</span> │  │\n",
       "│ │ <span style=\"color: #af87ff; text-decoration-color: #af87ff\">LastStatement                      </span> │ <span style=\"color: #008080; text-decoration-color: #008080\">    110</span> │ <span style=\"color: #008080; text-decoration-color: #008080\">     19.89</span> │ <span style=\"color: #008080; text-decoration-color: #008080\">                     87</span> │ <span style=\"color: #008080; text-decoration-color: #008080\">              47841</span> │  │\n",
       "│ └─────────────────────────────────────┴─────────┴────────────┴─────────────────────────┴─────────────────────┘  │\n",
       "╰────────────────────────────────────────────────────── End ──────────────────────────────────────────────────────╯\n",
       "</pre>\n"
      ],
      "text/plain": [
       "╭──────────────────────────────────────────────── skimpy summary ─────────────────────────────────────────────────╮\n",
       "│ \u001b[3m         Data Summary         \u001b[0m \u001b[3m      Data Types       \u001b[0m                                                          │\n",
       "│ ┏━━━━━━━━━━━━━━━━━━━┳━━━━━━━━┓ ┏━━━━━━━━━━━━━┳━━━━━━━┓                                                          │\n",
       "│ ┃\u001b[1;36m \u001b[0m\u001b[1;36mdataframe        \u001b[0m\u001b[1;36m \u001b[0m┃\u001b[1;36m \u001b[0m\u001b[1;36mValues\u001b[0m\u001b[1;36m \u001b[0m┃ ┃\u001b[1;36m \u001b[0m\u001b[1;36mColumn Type\u001b[0m\u001b[1;36m \u001b[0m┃\u001b[1;36m \u001b[0m\u001b[1;36mCount\u001b[0m\u001b[1;36m \u001b[0m┃                                                          │\n",
       "│ ┡━━━━━━━━━━━━━━━━━━━╇━━━━━━━━┩ ┡━━━━━━━━━━━━━╇━━━━━━━┩                                                          │\n",
       "│ │ Number of rows    │ 553    │ │ string      │ 14    │                                                          │\n",
       "│ │ Number of columns │ 18     │ │ int32       │ 3     │                                                          │\n",
       "│ └───────────────────┴────────┘ │ float64     │ 1     │                                                          │\n",
       "│                                └─────────────┴───────┘                                                          │\n",
       "│ \u001b[3m                                                    number                                                    \u001b[0m  │\n",
       "│ ┏━━━━━━━━━━━━━━━━━━━┳━━━━━┳━━━━━━━┳━━━━━━━━━┳━━━━━━━━━┳━━━━━━┳━━━━━━┳━━━━━━━━━━┳━━━━━━━━━━┳━━━━━━━━━┳━━━━━━━━┓  │\n",
       "│ ┃\u001b[1m \u001b[0m\u001b[1mcolumn_name      \u001b[0m\u001b[1m \u001b[0m┃\u001b[1m \u001b[0m\u001b[1mNA \u001b[0m\u001b[1m \u001b[0m┃\u001b[1m \u001b[0m\u001b[1mNA % \u001b[0m\u001b[1m \u001b[0m┃\u001b[1m \u001b[0m\u001b[1mmean   \u001b[0m\u001b[1m \u001b[0m┃\u001b[1m \u001b[0m\u001b[1msd     \u001b[0m\u001b[1m \u001b[0m┃\u001b[1m \u001b[0m\u001b[1mp0  \u001b[0m\u001b[1m \u001b[0m┃\u001b[1m \u001b[0m\u001b[1mp25 \u001b[0m\u001b[1m \u001b[0m┃\u001b[1m \u001b[0m\u001b[1mp50     \u001b[0m\u001b[1m \u001b[0m┃\u001b[1m \u001b[0m\u001b[1mp75     \u001b[0m\u001b[1m \u001b[0m┃\u001b[1m \u001b[0m\u001b[1mp100   \u001b[0m\u001b[1m \u001b[0m┃\u001b[1m \u001b[0m\u001b[1mhist  \u001b[0m\u001b[1m \u001b[0m┃  │\n",
       "│ ┡━━━━━━━━━━━━━━━━━━━╇━━━━━╇━━━━━━━╇━━━━━━━━━╇━━━━━━━━━╇━━━━━━╇━━━━━━╇━━━━━━━━━━╇━━━━━━━━━━╇━━━━━━━━━╇━━━━━━━━┩  │\n",
       "│ │ \u001b[38;5;141mExecution        \u001b[0m │ \u001b[36m  0\u001b[0m │ \u001b[36m    0\u001b[0m │ \u001b[36m    280\u001b[0m │ \u001b[36m    160\u001b[0m │ \u001b[36m   1\u001b[0m │ \u001b[36m 140\u001b[0m │ \u001b[36m     280\u001b[0m │ \u001b[36m     420\u001b[0m │ \u001b[36m    550\u001b[0m │ \u001b[32m▇▇▇▇▇▇\u001b[0m │  │\n",
       "│ │ \u001b[38;5;141mTDCJ             \u001b[0m │ \u001b[36m  0\u001b[0m │ \u001b[36m    0\u001b[0m │ \u001b[36m 520000\u001b[0m │ \u001b[36m 500000\u001b[0m │ \u001b[36m 510\u001b[0m │ \u001b[36m 820\u001b[0m │ \u001b[36m 1000000\u001b[0m │ \u001b[36m 1000000\u001b[0m │ \u001b[36m1000000\u001b[0m │ \u001b[32m▇    ▇\u001b[0m │  │\n",
       "│ │ \u001b[38;5;141mNumber           \u001b[0m │     │       │         │         │      │      │          │          │         │        │  │\n",
       "│ │ \u001b[38;5;141mAgeatExecution   \u001b[0m │ \u001b[36m  0\u001b[0m │ \u001b[36m    0\u001b[0m │ \u001b[36m     39\u001b[0m │ \u001b[36m    8.6\u001b[0m │ \u001b[36m  24\u001b[0m │ \u001b[36m  33\u001b[0m │ \u001b[36m      38\u001b[0m │ \u001b[36m      44\u001b[0m │ \u001b[36m     67\u001b[0m │ \u001b[32m▅▇▇▃▂▁\u001b[0m │  │\n",
       "│ │ \u001b[38;5;141mWeight           \u001b[0m │ \u001b[36m 42\u001b[0m │ \u001b[36m 7.59\u001b[0m │ \u001b[36m    180\u001b[0m │ \u001b[36m     33\u001b[0m │ \u001b[36m 100\u001b[0m │ \u001b[36m 150\u001b[0m │ \u001b[36m     170\u001b[0m │ \u001b[36m     190\u001b[0m │ \u001b[36m    320\u001b[0m │ \u001b[32m ▁▇▅▂ \u001b[0m │  │\n",
       "│ └───────────────────┴─────┴───────┴─────────┴─────────┴──────┴──────┴──────────┴──────────┴─────────┴────────┘  │\n",
       "│ \u001b[3m                                                    string                                                    \u001b[0m  │\n",
       "│ ┏━━━━━━━━━━━━━━━━━━━━━━━━━━━━━━━━━━━━━┳━━━━━━━━━┳━━━━━━━━━━━━┳━━━━━━━━━━━━━━━━━━━━━━━━━┳━━━━━━━━━━━━━━━━━━━━━┓  │\n",
       "│ ┃\u001b[1m \u001b[0m\u001b[1mcolumn_name                        \u001b[0m\u001b[1m \u001b[0m┃\u001b[1m \u001b[0m\u001b[1mNA     \u001b[0m\u001b[1m \u001b[0m┃\u001b[1m \u001b[0m\u001b[1mNA %      \u001b[0m\u001b[1m \u001b[0m┃\u001b[1m \u001b[0m\u001b[1mwords per row          \u001b[0m\u001b[1m \u001b[0m┃\u001b[1m \u001b[0m\u001b[1mtotal words        \u001b[0m\u001b[1m \u001b[0m┃  │\n",
       "│ ┡━━━━━━━━━━━━━━━━━━━━━━━━━━━━━━━━━━━━━╇━━━━━━━━━╇━━━━━━━━━━━━╇━━━━━━━━━━━━━━━━━━━━━━━━━╇━━━━━━━━━━━━━━━━━━━━━┩  │\n",
       "│ │ \u001b[38;5;141mDateofBirth                        \u001b[0m │ \u001b[36m     14\u001b[0m │ \u001b[36m      2.53\u001b[0m │ \u001b[36m                   0.97\u001b[0m │ \u001b[36m                539\u001b[0m │  │\n",
       "│ │ \u001b[38;5;141mDateofOffence                      \u001b[0m │ \u001b[36m     17\u001b[0m │ \u001b[36m      3.07\u001b[0m │ \u001b[36m                   0.97\u001b[0m │ \u001b[36m                536\u001b[0m │  │\n",
       "│ │ \u001b[38;5;141mHighestEducationLevel              \u001b[0m │ \u001b[36m     48\u001b[0m │ \u001b[36m      8.68\u001b[0m │ \u001b[36m                   0.91\u001b[0m │ \u001b[36m                505\u001b[0m │  │\n",
       "│ │ \u001b[38;5;141mLastName                           \u001b[0m │ \u001b[36m      0\u001b[0m │ \u001b[36m         0\u001b[0m │ \u001b[36m                    1.1\u001b[0m │ \u001b[36m                591\u001b[0m │  │\n",
       "│ │ \u001b[38;5;141mFirstName                          \u001b[0m │ \u001b[36m      0\u001b[0m │ \u001b[36m         0\u001b[0m │ \u001b[36m                      1\u001b[0m │ \u001b[36m                561\u001b[0m │  │\n",
       "│ │ \u001b[38;5;141mDateReceived                       \u001b[0m │ \u001b[36m     14\u001b[0m │ \u001b[36m      2.53\u001b[0m │ \u001b[36m                   0.97\u001b[0m │ \u001b[36m                539\u001b[0m │  │\n",
       "│ │ \u001b[38;5;141mExecutionDate                      \u001b[0m │ \u001b[36m      0\u001b[0m │ \u001b[36m         0\u001b[0m │ \u001b[36m                      1\u001b[0m │ \u001b[36m                553\u001b[0m │  │\n",
       "│ │ \u001b[38;5;141mRace                               \u001b[0m │ \u001b[36m      0\u001b[0m │ \u001b[36m         0\u001b[0m │ \u001b[36m                      1\u001b[0m │ \u001b[36m                553\u001b[0m │  │\n",
       "│ │ \u001b[38;5;141mCounty                             \u001b[0m │ \u001b[36m      0\u001b[0m │ \u001b[36m         0\u001b[0m │ \u001b[36m                      1\u001b[0m │ \u001b[36m                569\u001b[0m │  │\n",
       "│ │ \u001b[38;5;141mEyeColor                           \u001b[0m │ \u001b[36m     34\u001b[0m │ \u001b[36m      6.15\u001b[0m │ \u001b[36m                   0.94\u001b[0m │ \u001b[36m                519\u001b[0m │  │\n",
       "│ │ \u001b[38;5;141mHeight                             \u001b[0m │ \u001b[36m     40\u001b[0m │ \u001b[36m      7.23\u001b[0m │ \u001b[36m                    1.9\u001b[0m │ \u001b[36m               1025\u001b[0m │  │\n",
       "│ │ \u001b[38;5;141mNativeCounty                       \u001b[0m │ \u001b[36m     43\u001b[0m │ \u001b[36m      7.78\u001b[0m │ \u001b[36m                      1\u001b[0m │ \u001b[36m                572\u001b[0m │  │\n",
       "│ │ \u001b[38;5;141mNativeState                        \u001b[0m │ \u001b[36m     29\u001b[0m │ \u001b[36m      5.24\u001b[0m │ \u001b[36m                   0.99\u001b[0m │ \u001b[36m                550\u001b[0m │  │\n",
       "│ │ \u001b[38;5;141mLastStatement                      \u001b[0m │ \u001b[36m    110\u001b[0m │ \u001b[36m     19.89\u001b[0m │ \u001b[36m                     87\u001b[0m │ \u001b[36m              47841\u001b[0m │  │\n",
       "│ └─────────────────────────────────────┴─────────┴────────────┴─────────────────────────┴─────────────────────┘  │\n",
       "╰────────────────────────────────────────────────────── End ──────────────────────────────────────────────────────╯\n"
      ]
     },
     "metadata": {},
     "output_type": "display_data"
    }
   ],
   "source": [
    "skim(my_df)"
   ]
  },
  {
   "cell_type": "code",
   "execution_count": 7,
   "metadata": {},
   "outputs": [
    {
     "data": {
      "text/html": [
       "<div>\n",
       "<style scoped>\n",
       "    .dataframe tbody tr th:only-of-type {\n",
       "        vertical-align: middle;\n",
       "    }\n",
       "\n",
       "    .dataframe tbody tr th {\n",
       "        vertical-align: top;\n",
       "    }\n",
       "\n",
       "    .dataframe thead th {\n",
       "        text-align: right;\n",
       "    }\n",
       "</style>\n",
       "<table border=\"1\" class=\"dataframe\">\n",
       "  <thead>\n",
       "    <tr style=\"text-align: right;\">\n",
       "      <th></th>\n",
       "      <th>Execution</th>\n",
       "      <th>DateofBirth</th>\n",
       "      <th>DateofOffence</th>\n",
       "      <th>HighestEducationLevel</th>\n",
       "      <th>LastName</th>\n",
       "      <th>FirstName</th>\n",
       "      <th>TDCJ\\nNumber</th>\n",
       "      <th>AgeatExecution</th>\n",
       "      <th>DateReceived</th>\n",
       "      <th>ExecutionDate</th>\n",
       "      <th>Race</th>\n",
       "      <th>County</th>\n",
       "      <th>EyeColor</th>\n",
       "      <th>Weight</th>\n",
       "      <th>Height</th>\n",
       "      <th>NativeCounty</th>\n",
       "      <th>NativeState</th>\n",
       "      <th>LastStatement</th>\n",
       "    </tr>\n",
       "  </thead>\n",
       "  <tbody>\n",
       "    <tr>\n",
       "      <th>0</th>\n",
       "      <td>553</td>\n",
       "      <td>1983-09-24</td>\n",
       "      <td>2004-11-21</td>\n",
       "      <td>9</td>\n",
       "      <td>Young</td>\n",
       "      <td>Christopher Anthony</td>\n",
       "      <td>999508</td>\n",
       "      <td>34</td>\n",
       "      <td>2006-03-31</td>\n",
       "      <td>2018-07-17</td>\n",
       "      <td>Black</td>\n",
       "      <td>Bexar</td>\n",
       "      <td>Brown</td>\n",
       "      <td>216.0</td>\n",
       "      <td>6' 1\"</td>\n",
       "      <td>Bexar</td>\n",
       "      <td>Texas</td>\n",
       "      <td>l want to make sure the Patel family knows I l...</td>\n",
       "    </tr>\n",
       "    <tr>\n",
       "      <th>1</th>\n",
       "      <td>552</td>\n",
       "      <td>1951-08-28</td>\n",
       "      <td>1979-05-27</td>\n",
       "      <td>12</td>\n",
       "      <td>Bible</td>\n",
       "      <td>Danny Paul</td>\n",
       "      <td>999455</td>\n",
       "      <td>66</td>\n",
       "      <td>2003-07-17</td>\n",
       "      <td>2018-06-27</td>\n",
       "      <td>White</td>\n",
       "      <td>Harris</td>\n",
       "      <td>Blue</td>\n",
       "      <td>194.0</td>\n",
       "      <td>5' 7\"</td>\n",
       "      <td>Brazoria</td>\n",
       "      <td>Texas</td>\n",
       "      <td>None</td>\n",
       "    </tr>\n",
       "    <tr>\n",
       "      <th>2</th>\n",
       "      <td>551</td>\n",
       "      <td>1981-04-03</td>\n",
       "      <td>2003-12-03</td>\n",
       "      <td>10</td>\n",
       "      <td>Castillo</td>\n",
       "      <td>Juan Edward</td>\n",
       "      <td>999502</td>\n",
       "      <td>37</td>\n",
       "      <td>2005-09-27</td>\n",
       "      <td>2018-05-16</td>\n",
       "      <td>Hispanic</td>\n",
       "      <td>Bexar</td>\n",
       "      <td>Brown</td>\n",
       "      <td>180.0</td>\n",
       "      <td>5' 11\"</td>\n",
       "      <td>Bexar</td>\n",
       "      <td>Texas</td>\n",
       "      <td>To everyone that has been there for me you kno...</td>\n",
       "    </tr>\n",
       "  </tbody>\n",
       "</table>\n",
       "</div>"
      ],
      "text/plain": [
       "   Execution DateofBirth DateofOffence HighestEducationLevel  LastName  \\\n",
       "0        553  1983-09-24    2004-11-21                     9     Young   \n",
       "1        552  1951-08-28    1979-05-27                    12     Bible   \n",
       "2        551  1981-04-03    2003-12-03                    10  Castillo   \n",
       "\n",
       "             FirstName  TDCJ\\nNumber  AgeatExecution DateReceived  \\\n",
       "0  Christopher Anthony        999508              34   2006-03-31   \n",
       "1           Danny Paul        999455              66   2003-07-17   \n",
       "2          Juan Edward        999502              37   2005-09-27   \n",
       "\n",
       "  ExecutionDate      Race  County EyeColor  Weight  Height NativeCounty  \\\n",
       "0    2018-07-17     Black   Bexar    Brown   216.0   6' 1\"        Bexar   \n",
       "1    2018-06-27     White  Harris     Blue   194.0   5' 7\"     Brazoria   \n",
       "2    2018-05-16  Hispanic   Bexar    Brown   180.0  5' 11\"        Bexar   \n",
       "\n",
       "  NativeState                                      LastStatement  \n",
       "0       Texas  l want to make sure the Patel family knows I l...  \n",
       "1       Texas                                               None  \n",
       "2       Texas  To everyone that has been there for me you kno...  "
      ]
     },
     "execution_count": 7,
     "metadata": {},
     "output_type": "execute_result"
    }
   ],
   "source": [
    "my_df.head(3)"
   ]
  },
  {
   "cell_type": "markdown",
   "metadata": {},
   "source": [
    "Requête SQL : Affichage du nom, prénom et de la couleur des yeux dont la couleur des yeux est soit marron soit bleue, avec un trie par nom et affichage limité à 10 lignes"
   ]
  },
  {
   "cell_type": "code",
   "execution_count": 8,
   "metadata": {},
   "outputs": [
    {
     "data": {
      "text/html": [
       "<span style=\"None\">Running query in &#x27;duckdb:///:default:&#x27;</span>"
      ],
      "text/plain": [
       "Running query in 'duckdb:///:default:'"
      ]
     },
     "metadata": {},
     "output_type": "display_data"
    }
   ],
   "source": [
    "%%sql\n",
    "my_df <<\n",
    "SELECT \"LastName\" AS \"Nom\", \"FirstName\" AS \"Prénom\", \n",
    "\"EyeColor\" AS \"Couleur des yeux\"\n",
    "FROM sqlite_scan('data/prisoners.db', 'executions')\n",
    "WHERE \"EyeColor\" IN ('Brown', 'Blue')\n",
    "ORDER BY \"LastName\" LIMIT 10;"
   ]
  },
  {
   "cell_type": "code",
   "execution_count": 9,
   "metadata": {},
   "outputs": [
    {
     "data": {
      "text/html": [
       "<div>\n",
       "<style scoped>\n",
       "    .dataframe tbody tr th:only-of-type {\n",
       "        vertical-align: middle;\n",
       "    }\n",
       "\n",
       "    .dataframe tbody tr th {\n",
       "        vertical-align: top;\n",
       "    }\n",
       "\n",
       "    .dataframe thead th {\n",
       "        text-align: right;\n",
       "    }\n",
       "</style>\n",
       "<table border=\"1\" class=\"dataframe\">\n",
       "  <thead>\n",
       "    <tr style=\"text-align: right;\">\n",
       "      <th></th>\n",
       "      <th>Nom</th>\n",
       "      <th>Prénom</th>\n",
       "      <th>Couleur des yeux</th>\n",
       "    </tr>\n",
       "  </thead>\n",
       "  <tbody>\n",
       "    <tr>\n",
       "      <th>0</th>\n",
       "      <td>Adams</td>\n",
       "      <td>Beunka</td>\n",
       "      <td>Brown</td>\n",
       "    </tr>\n",
       "    <tr>\n",
       "      <th>1</th>\n",
       "      <td>Adams</td>\n",
       "      <td>Timothy</td>\n",
       "      <td>Brown</td>\n",
       "    </tr>\n",
       "    <tr>\n",
       "      <th>2</th>\n",
       "      <td>Adanandus</td>\n",
       "      <td>Dwight</td>\n",
       "      <td>Brown</td>\n",
       "    </tr>\n",
       "    <tr>\n",
       "      <th>3</th>\n",
       "      <td>Aguilar</td>\n",
       "      <td>Jesus</td>\n",
       "      <td>Brown</td>\n",
       "    </tr>\n",
       "    <tr>\n",
       "      <th>4</th>\n",
       "      <td>Alba</td>\n",
       "      <td>John</td>\n",
       "      <td>Brown</td>\n",
       "    </tr>\n",
       "    <tr>\n",
       "      <th>5</th>\n",
       "      <td>Aldrich</td>\n",
       "      <td>Donald</td>\n",
       "      <td>Blue</td>\n",
       "    </tr>\n",
       "    <tr>\n",
       "      <th>6</th>\n",
       "      <td>Alexander</td>\n",
       "      <td>Caruthers</td>\n",
       "      <td>Brown</td>\n",
       "    </tr>\n",
       "    <tr>\n",
       "      <th>7</th>\n",
       "      <td>Alix</td>\n",
       "      <td>Franklin</td>\n",
       "      <td>Brown</td>\n",
       "    </tr>\n",
       "    <tr>\n",
       "      <th>8</th>\n",
       "      <td>Allridge</td>\n",
       "      <td>Ronald</td>\n",
       "      <td>Brown</td>\n",
       "    </tr>\n",
       "    <tr>\n",
       "      <th>9</th>\n",
       "      <td>Allridge, III</td>\n",
       "      <td>James</td>\n",
       "      <td>Brown</td>\n",
       "    </tr>\n",
       "  </tbody>\n",
       "</table>\n",
       "</div>"
      ],
      "text/plain": [
       "             Nom     Prénom Couleur des yeux\n",
       "0          Adams     Beunka            Brown\n",
       "1          Adams    Timothy            Brown\n",
       "2      Adanandus     Dwight            Brown\n",
       "3        Aguilar      Jesus            Brown\n",
       "4           Alba       John            Brown\n",
       "5        Aldrich     Donald             Blue\n",
       "6      Alexander  Caruthers            Brown\n",
       "7           Alix   Franklin            Brown\n",
       "8       Allridge     Ronald            Brown\n",
       "9  Allridge, III      James            Brown"
      ]
     },
     "execution_count": 9,
     "metadata": {},
     "output_type": "execute_result"
    }
   ],
   "source": [
    "my_df"
   ]
  }
 ],
 "metadata": {
  "kernelspec": {
   "display_name": ".venv",
   "language": "python",
   "name": "python3"
  },
  "language_info": {
   "codemirror_mode": {
    "name": "ipython",
    "version": 3
   },
   "file_extension": ".py",
   "mimetype": "text/x-python",
   "name": "python",
   "nbconvert_exporter": "python",
   "pygments_lexer": "ipython3",
   "version": "3.9.2"
  }
 },
 "nbformat": 4,
 "nbformat_minor": 2
}
