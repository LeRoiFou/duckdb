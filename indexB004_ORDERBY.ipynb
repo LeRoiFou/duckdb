{
 "cells": [
  {
   "cell_type": "markdown",
   "metadata": {},
   "source": [
    "[SQL ORDER BY Keyword](https://www.w3schools.com/sql/sql_select.asp)\n",
    "\n",
    "<b> Syntaxe : </b><br>\n",
    "SELECT column1, column2, ...\n",
    "FROM table_name\n",
    "ORDER BY column1, column2, ... ASC|DESC;\n",
    "\n",
    "<b> Objet de la requête : </b><br>\n",
    "Le mot-clé ORDER BY permet de trier l'ensemble des résultats par ordre croissant ou décroissant.\n",
    "\n",
    "Date : 10-01-2024"
   ]
  },
  {
   "cell_type": "code",
   "execution_count": 1,
   "metadata": {},
   "outputs": [],
   "source": [
    "import duckdb\n",
    "import polars as pl"
   ]
  },
  {
   "cell_type": "code",
   "execution_count": 2,
   "metadata": {},
   "outputs": [],
   "source": [
    "# Création d'une BD vide\n",
    "conn = duckdb.connect()"
   ]
  },
  {
   "cell_type": "code",
   "execution_count": 4,
   "metadata": {},
   "outputs": [],
   "source": [
    "# Requête SQL : récupération de toutes les lignes du fichier .csv\n",
    "df = conn.execute(\n",
    "    \"\"\"\n",
    "    SELECT * FROM read_csv_auto('data/prisoners.csv', header=True)\n",
    "    \"\"\"\n",
    ").df()"
   ]
  },
  {
   "cell_type": "code",
   "execution_count": 5,
   "metadata": {},
   "outputs": [
    {
     "data": {
      "text/plain": [
       "<duckdb.duckdb.DuckDBPyConnection at 0x213249fc4f0>"
      ]
     },
     "execution_count": 5,
     "metadata": {},
     "output_type": "execute_result"
    }
   ],
   "source": [
    "# Requête SQL : enregistrement virtuel de la BD\n",
    "conn.register('df_view', df)"
   ]
  },
  {
   "cell_type": "markdown",
   "metadata": {},
   "source": [
    "Requête SQL : affichage des colonnes nom, prénom, âge à la date d'exécution, date d'exécution, et tri par ordre croissant de la colonne \"Age at Execution\" et tri par ordre décroissant de la colonne \"Execution Date\""
   ]
  },
  {
   "cell_type": "code",
   "execution_count": 16,
   "metadata": {},
   "outputs": [],
   "source": [
    "df_polars = conn.execute(\n",
    "    \"\"\"\n",
    "    SELECT \"Last Name\", \"First Name\", \"Age at Execution\", \n",
    "    strftime('%d/%m/%Y', \"Execution Date\") AS \"Execution Date\"\n",
    "    FROM df_view\n",
    "    ORDER BY \"Age at Execution\" ASC, \"Execution Date\" DESC\n",
    "    \"\"\"\n",
    ").df()"
   ]
  },
  {
   "cell_type": "code",
   "execution_count": 17,
   "metadata": {},
   "outputs": [
    {
     "data": {
      "text/html": [
       "<div><style>\n",
       ".dataframe > thead > tr,\n",
       ".dataframe > tbody > tr {\n",
       "  text-align: right;\n",
       "  white-space: pre-wrap;\n",
       "}\n",
       "</style>\n",
       "<small>shape: (553, 4)</small><table border=\"1\" class=\"dataframe\"><thead><tr><th>Last Name</th><th>First Name</th><th>Age at Execution</th><th>Execution Date</th></tr><tr><td>str</td><td>str</td><td>i64</td><td>str</td></tr></thead><tbody><tr><td>&quot;Patterson&quot;</td><td>&quot;Toronto&quot;</td><td>24</td><td>&quot;28/08/2002&quot;</td></tr><tr><td>&quot;Pinkerton&quot;</td><td>&quot;Jay&quot;</td><td>24</td><td>&quot;15/05/1986&quot;</td></tr><tr><td>&quot;De La Rosa&quot;</td><td>&quot;Jesse&quot;</td><td>24</td><td>&quot;15/05/1985&quot;</td></tr><tr><td>&quot;Beazley&quot;</td><td>&quot;Napoleon&quot;</td><td>25</td><td>&quot;28/05/2002&quot;</td></tr><tr><td>&quot;Andrade&quot;</td><td>&quot;Richard&quot;</td><td>25</td><td>&quot;18/12/1986&quot;</td></tr><tr><td>&hellip;</td><td>&hellip;</td><td>&hellip;</td><td>&hellip;</td></tr><tr><td>&quot;Rayford&quot;</td><td>&quot;William Earl&quot;</td><td>64</td><td>&quot;30/01/2018&quot;</td></tr><tr><td>&quot;Crawford&quot;</td><td>&quot;Hilton&quot;</td><td>64</td><td>&quot;02/07/2003&quot;</td></tr><tr><td>&quot;Bible&quot;</td><td>&quot;Danny Paul&quot;</td><td>66</td><td>&quot;27/06/2018&quot;</td></tr><tr><td>&quot;Chappell&quot;</td><td>&quot;William&quot;</td><td>66</td><td>&quot;20/11/2002&quot;</td></tr><tr><td>&quot;Bower&quot;</td><td>&quot;Lester&quot;</td><td>67</td><td>&quot;03/06/2015&quot;</td></tr></tbody></table></div>"
      ],
      "text/plain": [
       "shape: (553, 4)\n",
       "┌────────────┬──────────────┬──────────────────┬────────────────┐\n",
       "│ Last Name  ┆ First Name   ┆ Age at Execution ┆ Execution Date │\n",
       "│ ---        ┆ ---          ┆ ---              ┆ ---            │\n",
       "│ str        ┆ str          ┆ i64              ┆ str            │\n",
       "╞════════════╪══════════════╪══════════════════╪════════════════╡\n",
       "│ Patterson  ┆ Toronto      ┆ 24               ┆ 28/08/2002     │\n",
       "│ Pinkerton  ┆ Jay          ┆ 24               ┆ 15/05/1986     │\n",
       "│ De La Rosa ┆ Jesse        ┆ 24               ┆ 15/05/1985     │\n",
       "│ Beazley    ┆ Napoleon     ┆ 25               ┆ 28/05/2002     │\n",
       "│ Andrade    ┆ Richard      ┆ 25               ┆ 18/12/1986     │\n",
       "│ …          ┆ …            ┆ …                ┆ …              │\n",
       "│ Rayford    ┆ William Earl ┆ 64               ┆ 30/01/2018     │\n",
       "│ Crawford   ┆ Hilton       ┆ 64               ┆ 02/07/2003     │\n",
       "│ Bible      ┆ Danny Paul   ┆ 66               ┆ 27/06/2018     │\n",
       "│ Chappell   ┆ William      ┆ 66               ┆ 20/11/2002     │\n",
       "│ Bower      ┆ Lester       ┆ 67               ┆ 03/06/2015     │\n",
       "└────────────┴──────────────┴──────────────────┴────────────────┘"
      ]
     },
     "execution_count": 17,
     "metadata": {},
     "output_type": "execute_result"
    }
   ],
   "source": [
    "# Récupérationd de la requête ci-avant sous DF polars\n",
    "pl.from_pandas(df_polars)"
   ]
  },
  {
   "cell_type": "code",
   "execution_count": 7,
   "metadata": {},
   "outputs": [
    {
     "data": {
      "text/html": [
       "<div>\n",
       "<style scoped>\n",
       "    .dataframe tbody tr th:only-of-type {\n",
       "        vertical-align: middle;\n",
       "    }\n",
       "\n",
       "    .dataframe tbody tr th {\n",
       "        vertical-align: top;\n",
       "    }\n",
       "\n",
       "    .dataframe thead th {\n",
       "        text-align: right;\n",
       "    }\n",
       "</style>\n",
       "<table border=\"1\" class=\"dataframe\">\n",
       "  <thead>\n",
       "    <tr style=\"text-align: right;\">\n",
       "      <th></th>\n",
       "      <th>Execution</th>\n",
       "      <th>Date of Birth</th>\n",
       "      <th>Date of Offence</th>\n",
       "      <th>Highest Education Level</th>\n",
       "      <th>Last Name</th>\n",
       "      <th>First Name</th>\n",
       "      <th>TDCJ\\nNumber</th>\n",
       "      <th>Age at Execution</th>\n",
       "      <th>Date Received</th>\n",
       "      <th>Execution Date</th>\n",
       "      <th>Race</th>\n",
       "      <th>County</th>\n",
       "      <th>Eye Color</th>\n",
       "      <th>Weight</th>\n",
       "      <th>Height</th>\n",
       "      <th>Native County</th>\n",
       "      <th>Native State</th>\n",
       "      <th>Last Statement</th>\n",
       "    </tr>\n",
       "  </thead>\n",
       "  <tbody>\n",
       "    <tr>\n",
       "      <th>44</th>\n",
       "      <td>509</td>\n",
       "      <td>1967-07-22</td>\n",
       "      <td>1994-01-31</td>\n",
       "      <td>NaN</td>\n",
       "      <td>Tamayo</td>\n",
       "      <td>Edgar</td>\n",
       "      <td>999130</td>\n",
       "      <td>46</td>\n",
       "      <td>1994-11-18</td>\n",
       "      <td>2014-01-22</td>\n",
       "      <td>Hispanic</td>\n",
       "      <td>Harris</td>\n",
       "      <td>Brown</td>\n",
       "      <td>175.0</td>\n",
       "      <td>5' 8\"</td>\n",
       "      <td>None</td>\n",
       "      <td>Mexico</td>\n",
       "      <td>None</td>\n",
       "    </tr>\n",
       "    <tr>\n",
       "      <th>308</th>\n",
       "      <td>245</td>\n",
       "      <td>1973-01-07</td>\n",
       "      <td>1993-07-27</td>\n",
       "      <td>8.0</td>\n",
       "      <td>Massey</td>\n",
       "      <td>Jason</td>\n",
       "      <td>999121</td>\n",
       "      <td>28</td>\n",
       "      <td>1994-10-14</td>\n",
       "      <td>2001-04-03</td>\n",
       "      <td>White</td>\n",
       "      <td>Ellis</td>\n",
       "      <td>Blue</td>\n",
       "      <td>156.0</td>\n",
       "      <td>5' 10\"</td>\n",
       "      <td>Hopkins</td>\n",
       "      <td>Texas</td>\n",
       "      <td>Yes, first I would like to speak to the victim...</td>\n",
       "    </tr>\n",
       "    <tr>\n",
       "      <th>178</th>\n",
       "      <td>375</td>\n",
       "      <td>1977-04-28</td>\n",
       "      <td>1997-06-26</td>\n",
       "      <td>9.0</td>\n",
       "      <td>Frazier</td>\n",
       "      <td>Derrick</td>\n",
       "      <td>999284</td>\n",
       "      <td>29</td>\n",
       "      <td>1998-10-09</td>\n",
       "      <td>2006-08-31</td>\n",
       "      <td>Black</td>\n",
       "      <td>Refugio</td>\n",
       "      <td>Brown</td>\n",
       "      <td>176.0</td>\n",
       "      <td>5' 10\"</td>\n",
       "      <td>Dallas</td>\n",
       "      <td>Texas</td>\n",
       "      <td>Yes I do. Debbie, my Baby, I love you; do you ...</td>\n",
       "    </tr>\n",
       "  </tbody>\n",
       "</table>\n",
       "</div>"
      ],
      "text/plain": [
       "     Execution Date of Birth Date of Offence  Highest Education Level  \\\n",
       "44         509    1967-07-22      1994-01-31                      NaN   \n",
       "308        245    1973-01-07      1993-07-27                      8.0   \n",
       "178        375    1977-04-28      1997-06-26                      9.0   \n",
       "\n",
       "    Last Name First Name  TDCJ\\nNumber  Age at Execution Date Received  \\\n",
       "44     Tamayo      Edgar        999130                46    1994-11-18   \n",
       "308    Massey      Jason        999121                28    1994-10-14   \n",
       "178   Frazier    Derrick        999284                29    1998-10-09   \n",
       "\n",
       "    Execution Date      Race   County Eye Color  Weight  Height Native County  \\\n",
       "44      2014-01-22  Hispanic   Harris     Brown   175.0   5' 8\"          None   \n",
       "308     2001-04-03     White    Ellis      Blue   156.0  5' 10\"       Hopkins   \n",
       "178     2006-08-31     Black  Refugio     Brown   176.0  5' 10\"        Dallas   \n",
       "\n",
       "    Native State                                     Last Statement  \n",
       "44        Mexico                                               None  \n",
       "308        Texas  Yes, first I would like to speak to the victim...  \n",
       "178        Texas  Yes I do. Debbie, my Baby, I love you; do you ...  "
      ]
     },
     "execution_count": 7,
     "metadata": {},
     "output_type": "execute_result"
    }
   ],
   "source": [
    "df.sample(3)"
   ]
  },
  {
   "cell_type": "code",
   "execution_count": 12,
   "metadata": {},
   "outputs": [
    {
     "data": {
      "text/html": [
       "<span style=\"None\">Running query in &#x27;duckdb:///:default:&#x27;</span>"
      ],
      "text/plain": [
       "Running query in 'duckdb:///:default:'"
      ]
     },
     "metadata": {},
     "output_type": "display_data"
    }
   ],
   "source": [
    "%%sql\n",
    "my_df <<\n",
    "SELECT \"Last Name\", \"First Name\", \"Age at Execution\", \"Execution Date\"\n",
    "FROM 'data/prisoners.csv'\n",
    "ORDER BY \"Age at Execution\" ASC, \"Execution Date\" DESC LIMIT 10;"
   ]
  },
  {
   "cell_type": "code",
   "execution_count": 13,
   "metadata": {},
   "outputs": [
    {
     "data": {
      "text/html": [
       "<div>\n",
       "<style scoped>\n",
       "    .dataframe tbody tr th:only-of-type {\n",
       "        vertical-align: middle;\n",
       "    }\n",
       "\n",
       "    .dataframe tbody tr th {\n",
       "        vertical-align: top;\n",
       "    }\n",
       "\n",
       "    .dataframe thead th {\n",
       "        text-align: right;\n",
       "    }\n",
       "</style>\n",
       "<table border=\"1\" class=\"dataframe\">\n",
       "  <thead>\n",
       "    <tr style=\"text-align: right;\">\n",
       "      <th></th>\n",
       "      <th>Last Name</th>\n",
       "      <th>First Name</th>\n",
       "      <th>Age at Execution</th>\n",
       "      <th>Execution Date</th>\n",
       "    </tr>\n",
       "  </thead>\n",
       "  <tbody>\n",
       "    <tr>\n",
       "      <th>0</th>\n",
       "      <td>Patterson</td>\n",
       "      <td>Toronto</td>\n",
       "      <td>24</td>\n",
       "      <td>2002-08-28</td>\n",
       "    </tr>\n",
       "    <tr>\n",
       "      <th>1</th>\n",
       "      <td>Pinkerton</td>\n",
       "      <td>Jay</td>\n",
       "      <td>24</td>\n",
       "      <td>1986-05-15</td>\n",
       "    </tr>\n",
       "    <tr>\n",
       "      <th>2</th>\n",
       "      <td>De La Rosa</td>\n",
       "      <td>Jesse</td>\n",
       "      <td>24</td>\n",
       "      <td>1985-05-15</td>\n",
       "    </tr>\n",
       "    <tr>\n",
       "      <th>3</th>\n",
       "      <td>Jones</td>\n",
       "      <td>T.J.</td>\n",
       "      <td>25</td>\n",
       "      <td>2002-08-08</td>\n",
       "    </tr>\n",
       "    <tr>\n",
       "      <th>4</th>\n",
       "      <td>Beazley</td>\n",
       "      <td>Napoleon</td>\n",
       "      <td>25</td>\n",
       "      <td>2002-05-28</td>\n",
       "    </tr>\n",
       "    <tr>\n",
       "      <th>5</th>\n",
       "      <td>Andrade</td>\n",
       "      <td>Richard</td>\n",
       "      <td>25</td>\n",
       "      <td>1986-12-18</td>\n",
       "    </tr>\n",
       "    <tr>\n",
       "      <th>6</th>\n",
       "      <td>Foust</td>\n",
       "      <td>Aaron</td>\n",
       "      <td>26</td>\n",
       "      <td>1999-04-28</td>\n",
       "    </tr>\n",
       "    <tr>\n",
       "      <th>7</th>\n",
       "      <td>Cantu</td>\n",
       "      <td>Ruben</td>\n",
       "      <td>26</td>\n",
       "      <td>1993-08-24</td>\n",
       "    </tr>\n",
       "    <tr>\n",
       "      <th>8</th>\n",
       "      <td>Lopez</td>\n",
       "      <td>Daniel</td>\n",
       "      <td>27</td>\n",
       "      <td>2015-08-12</td>\n",
       "    </tr>\n",
       "    <tr>\n",
       "      <th>9</th>\n",
       "      <td>Watts</td>\n",
       "      <td>Kevin</td>\n",
       "      <td>27</td>\n",
       "      <td>2008-10-16</td>\n",
       "    </tr>\n",
       "  </tbody>\n",
       "</table>\n",
       "</div>"
      ],
      "text/plain": [
       "    Last Name First Name  Age at Execution Execution Date\n",
       "0   Patterson    Toronto                24     2002-08-28\n",
       "1   Pinkerton        Jay                24     1986-05-15\n",
       "2  De La Rosa      Jesse                24     1985-05-15\n",
       "3       Jones       T.J.                25     2002-08-08\n",
       "4     Beazley   Napoleon                25     2002-05-28\n",
       "5     Andrade    Richard                25     1986-12-18\n",
       "6       Foust      Aaron                26     1999-04-28\n",
       "7       Cantu      Ruben                26     1993-08-24\n",
       "8       Lopez     Daniel                27     2015-08-12\n",
       "9       Watts      Kevin                27     2008-10-16"
      ]
     },
     "execution_count": 13,
     "metadata": {},
     "output_type": "execute_result"
    }
   ],
   "source": [
    "my_df"
   ]
  }
 ],
 "metadata": {
  "kernelspec": {
   "display_name": ".venv",
   "language": "python",
   "name": "python3"
  },
  "language_info": {
   "codemirror_mode": {
    "name": "ipython",
    "version": 3
   },
   "file_extension": ".py",
   "mimetype": "text/x-python",
   "name": "python",
   "nbconvert_exporter": "python",
   "pygments_lexer": "ipython3",
   "version": "3.12.5"
  }
 },
 "nbformat": 4,
 "nbformat_minor": 2
}
